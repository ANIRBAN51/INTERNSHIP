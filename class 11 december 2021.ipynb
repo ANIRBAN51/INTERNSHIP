{
 "cells": [
  {
   "cell_type": "markdown",
   "id": "cd912f32",
   "metadata": {},
   "source": [
    "# FILE INPUT/OUTPUT OPERATIONS"
   ]
  },
  {
   "cell_type": "markdown",
   "id": "1b7607b5",
   "metadata": {},
   "source": [
    "f=open('C:\\Python\\file1.txt','W')"
   ]
  },
  {
   "cell_type": "markdown",
   "id": "5a81e135",
   "metadata": {},
   "source": [
    "f=open('C:\\Python\\file.txt','r')"
   ]
  },
  {
   "cell_type": "code",
   "execution_count": 1,
   "id": "55ac1de5",
   "metadata": {},
   "outputs": [],
   "source": [
    "savefile=open('C:\\\\Python\\\\Dec11file.txt','w')"
   ]
  },
  {
   "cell_type": "code",
   "execution_count": 2,
   "id": "3a156b81",
   "metadata": {},
   "outputs": [
    {
     "data": {
      "text/plain": [
       "23"
      ]
     },
     "execution_count": 2,
     "metadata": {},
     "output_type": "execute_result"
    }
   ],
   "source": [
    "savefile.write(\"This is the first line.\")"
   ]
  },
  {
   "cell_type": "code",
   "execution_count": 3,
   "id": "be4938ac",
   "metadata": {},
   "outputs": [],
   "source": [
    "savefile.close()"
   ]
  },
  {
   "cell_type": "code",
   "execution_count": 4,
   "id": "1e8b8ce6",
   "metadata": {},
   "outputs": [],
   "source": [
    "readme=open('C:\\\\Python\\\\Dec11file.txt','r')"
   ]
  },
  {
   "cell_type": "code",
   "execution_count": 5,
   "id": "2b3b8857",
   "metadata": {},
   "outputs": [
    {
     "name": "stdout",
     "output_type": "stream",
     "text": [
      "This is the first line.\n"
     ]
    }
   ],
   "source": [
    "print(readme.read())"
   ]
  },
  {
   "cell_type": "code",
   "execution_count": 6,
   "id": "13f071cf",
   "metadata": {},
   "outputs": [],
   "source": [
    "readme.close()"
   ]
  },
  {
   "cell_type": "code",
   "execution_count": 7,
   "id": "76bd7bd4",
   "metadata": {},
   "outputs": [],
   "source": [
    "appendfile=open('C:\\\\Python\\\\Dec11file.txt','a')"
   ]
  },
  {
   "cell_type": "code",
   "execution_count": 8,
   "id": "06ea86a4",
   "metadata": {},
   "outputs": [
    {
     "data": {
      "text/plain": [
       "32"
      ]
     },
     "execution_count": 8,
     "metadata": {},
     "output_type": "execute_result"
    }
   ],
   "source": [
    "appendfile.write(\"\\n Lets add this is the next line\")"
   ]
  },
  {
   "cell_type": "code",
   "execution_count": 9,
   "id": "9037d344",
   "metadata": {},
   "outputs": [],
   "source": [
    "appendfile.close()"
   ]
  },
  {
   "cell_type": "code",
   "execution_count": 10,
   "id": "850679f4",
   "metadata": {},
   "outputs": [],
   "source": [
    " readme=open('C:\\\\Python\\\\Dec11file.txt','r')"
   ]
  },
  {
   "cell_type": "code",
   "execution_count": 11,
   "id": "13064b7c",
   "metadata": {},
   "outputs": [
    {
     "name": "stdout",
     "output_type": "stream",
     "text": [
      "This is the first line.\n",
      " Lets add this is the next line\n"
     ]
    }
   ],
   "source": [
    "print(readme.read())"
   ]
  },
  {
   "cell_type": "code",
   "execution_count": 12,
   "id": "f5bad0c6",
   "metadata": {},
   "outputs": [],
   "source": [
    "readme.close()"
   ]
  },
  {
   "cell_type": "markdown",
   "id": "356852c0",
   "metadata": {},
   "source": [
    "# Pickle in python :object serialization"
   ]
  },
  {
   "cell_type": "code",
   "execution_count": 13,
   "id": "5df1964b",
   "metadata": {},
   "outputs": [],
   "source": [
    "import pickle"
   ]
  },
  {
   "cell_type": "code",
   "execution_count": 14,
   "id": "820fd610",
   "metadata": {},
   "outputs": [],
   "source": [
    "flower_dict = {1:'Rose',2:'Lily',3:'Lotus',4:'Tulip'}"
   ]
  },
  {
   "cell_type": "code",
   "execution_count": 15,
   "id": "3ddf1ac4",
   "metadata": {},
   "outputs": [],
   "source": [
    "#filename = 'flower'\n",
    "#outfile = open(filename, 'wb')"
   ]
  },
  {
   "cell_type": "code",
   "execution_count": 16,
   "id": "aec0e7c4",
   "metadata": {},
   "outputs": [],
   "source": [
    "outfile=open('flower.obj','wb')"
   ]
  },
  {
   "cell_type": "code",
   "execution_count": 17,
   "id": "6e9d860f",
   "metadata": {},
   "outputs": [],
   "source": [
    "#pickling the file \n",
    "#dump method serialize\n",
    "pickle.dump(flower_dict,outfile)\n",
    "outfile.close()"
   ]
  },
  {
   "cell_type": "code",
   "execution_count": 18,
   "id": "040f9192",
   "metadata": {},
   "outputs": [],
   "source": [
    "#unpickle the file\n",
    "#infile=open(filename,'rb')"
   ]
  },
  {
   "cell_type": "code",
   "execution_count": 19,
   "id": "c1b2eba7",
   "metadata": {},
   "outputs": [],
   "source": [
    "infile=open('flower.obj','rb')"
   ]
  },
  {
   "cell_type": "code",
   "execution_count": 20,
   "id": "1c6011d4",
   "metadata": {},
   "outputs": [],
   "source": [
    "#de-serialize\n",
    "#load method\n",
    "new_dict=pickle.load(infile)"
   ]
  },
  {
   "cell_type": "code",
   "execution_count": 21,
   "id": "d3d6d9fb",
   "metadata": {},
   "outputs": [],
   "source": [
    "infile.close()"
   ]
  },
  {
   "cell_type": "code",
   "execution_count": 2,
   "id": "3e2b905d",
   "metadata": {},
   "outputs": [
    {
     "ename": "NameError",
     "evalue": "name 'new_dict' is not defined",
     "output_type": "error",
     "traceback": [
      "\u001b[1;31m---------------------------------------------------------------------------\u001b[0m",
      "\u001b[1;31mNameError\u001b[0m                                 Traceback (most recent call last)",
      "\u001b[1;32m<ipython-input-2-6af383334599>\u001b[0m in \u001b[0;36m<module>\u001b[1;34m\u001b[0m\n\u001b[1;32m----> 1\u001b[1;33m \u001b[0mprint\u001b[0m\u001b[1;33m(\u001b[0m\u001b[0mnew_dict\u001b[0m\u001b[1;33m)\u001b[0m\u001b[1;33m\u001b[0m\u001b[1;33m\u001b[0m\u001b[0m\n\u001b[0m",
      "\u001b[1;31mNameError\u001b[0m: name 'new_dict' is not defined"
     ]
    }
   ],
   "source": [
    "print(new_dict)"
   ]
  },
  {
   "cell_type": "code",
   "execution_count": 1,
   "id": "387ffdd6",
   "metadata": {},
   "outputs": [
    {
     "ename": "NameError",
     "evalue": "name 'new_dict' is not defined",
     "output_type": "error",
     "traceback": [
      "\u001b[1;31m---------------------------------------------------------------------------\u001b[0m",
      "\u001b[1;31mNameError\u001b[0m                                 Traceback (most recent call last)",
      "\u001b[1;32m<ipython-input-1-dd6bbe249371>\u001b[0m in \u001b[0;36m<module>\u001b[1;34m\u001b[0m\n\u001b[1;32m----> 1\u001b[1;33m \u001b[0mprint\u001b[0m\u001b[1;33m(\u001b[0m\u001b[0mnew_dict\u001b[0m\u001b[1;33m==\u001b[0m\u001b[0mflower_dict\u001b[0m\u001b[1;33m)\u001b[0m\u001b[1;33m\u001b[0m\u001b[1;33m\u001b[0m\u001b[0m\n\u001b[0m",
      "\u001b[1;31mNameError\u001b[0m: name 'new_dict' is not defined"
     ]
    }
   ],
   "source": [
    "print(new_dict==flower_dict)"
   ]
  },
  {
   "cell_type": "markdown",
   "id": "b3a40d42",
   "metadata": {},
   "source": [
    "# Pickle in python :object serialization¶"
   ]
  },
  {
   "cell_type": "code",
   "execution_count": 3,
   "id": "c512082c",
   "metadata": {},
   "outputs": [],
   "source": [
    "import pickle"
   ]
  },
  {
   "cell_type": "code",
   "execution_count": 4,
   "id": "4330da00",
   "metadata": {},
   "outputs": [],
   "source": [
    "flower_dict = {1:'Rose',2:'Lily',3:'Lotus',4:'Tulip'}"
   ]
  },
  {
   "cell_type": "code",
   "execution_count": 5,
   "id": "f079ec10",
   "metadata": {},
   "outputs": [],
   "source": [
    "#filename = 'flower'\n",
    "#outfile = open(filename, 'wb')"
   ]
  },
  {
   "cell_type": "code",
   "execution_count": 6,
   "id": "f3d61b2a",
   "metadata": {},
   "outputs": [],
   "source": [
    "outfile=open('flower.obj','wb')"
   ]
  },
  {
   "cell_type": "code",
   "execution_count": 7,
   "id": "4135c63b",
   "metadata": {},
   "outputs": [],
   "source": [
    "#pickling the file \n",
    "#dump method serialize\n",
    "pickle.dump(flower_dict,outfile)\n",
    "outfile.close()"
   ]
  },
  {
   "cell_type": "code",
   "execution_count": 9,
   "id": "4b59cdc3",
   "metadata": {},
   "outputs": [],
   "source": [
    "#unpickle the file\n",
    "#infile=open(filename,'rb')"
   ]
  },
  {
   "cell_type": "code",
   "execution_count": 10,
   "id": "e7dc78a7",
   "metadata": {},
   "outputs": [],
   "source": [
    "infile=open('flower.obj','rb')"
   ]
  },
  {
   "cell_type": "code",
   "execution_count": 11,
   "id": "d7468c3c",
   "metadata": {},
   "outputs": [],
   "source": [
    "#de-serialize\n",
    "#load method\n",
    "new_dict=pickle.load(infile)"
   ]
  },
  {
   "cell_type": "code",
   "execution_count": 12,
   "id": "5fcdd6ab",
   "metadata": {},
   "outputs": [],
   "source": [
    "infile.close()"
   ]
  },
  {
   "cell_type": "code",
   "execution_count": 13,
   "id": "dad39bc3",
   "metadata": {},
   "outputs": [
    {
     "name": "stdout",
     "output_type": "stream",
     "text": [
      "{1: 'Rose', 2: 'Lily', 3: 'Lotus', 4: 'Tulip'}\n"
     ]
    }
   ],
   "source": [
    "print(new_dict)"
   ]
  },
  {
   "cell_type": "code",
   "execution_count": 14,
   "id": "d393cec1",
   "metadata": {},
   "outputs": [
    {
     "name": "stdout",
     "output_type": "stream",
     "text": [
      "True\n"
     ]
    }
   ],
   "source": [
    "print(new_dict==flower_dict)"
   ]
  },
  {
   "cell_type": "code",
   "execution_count": 15,
   "id": "995a1aa5",
   "metadata": {},
   "outputs": [
    {
     "name": "stdout",
     "output_type": "stream",
     "text": [
      "<class 'dict'>\n"
     ]
    }
   ],
   "source": [
    "print(type(new_dict))"
   ]
  },
  {
   "cell_type": "code",
   "execution_count": null,
   "id": "41951b90",
   "metadata": {},
   "outputs": [],
   "source": []
  }
 ],
 "metadata": {
  "kernelspec": {
   "display_name": "Python 3",
   "language": "python",
   "name": "python3"
  },
  "language_info": {
   "codemirror_mode": {
    "name": "ipython",
    "version": 3
   },
   "file_extension": ".py",
   "mimetype": "text/x-python",
   "name": "python",
   "nbconvert_exporter": "python",
   "pygments_lexer": "ipython3",
   "version": "3.8.8"
  }
 },
 "nbformat": 4,
 "nbformat_minor": 5
}
