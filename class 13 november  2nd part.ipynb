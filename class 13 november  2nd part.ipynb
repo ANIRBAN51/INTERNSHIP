{
 "cells": [
  {
   "cell_type": "code",
   "execution_count": 12,
   "id": "f08db461",
   "metadata": {},
   "outputs": [
    {
     "data": {
      "text/plain": [
       "[1, 2, 3, 4, 5, [77, 88, 99]]"
      ]
     },
     "execution_count": 12,
     "metadata": {},
     "output_type": "execute_result"
    }
   ],
   "source": [
    "l1=[1,2,3,4,5]\n",
    "l1.append([77,88,99])\n",
    "l1"
   ]
  },
  {
   "cell_type": "code",
   "execution_count": 13,
   "id": "6729335a",
   "metadata": {},
   "outputs": [
    {
     "data": {
      "text/plain": [
       "[1, 2, 3, 4, 5, 77, 88, 99]"
      ]
     },
     "execution_count": 13,
     "metadata": {},
     "output_type": "execute_result"
    }
   ],
   "source": [
    "l1=[1,2,3,4,5]\n",
    "l1.extend([77,88,99])\n",
    "l1"
   ]
  },
  {
   "cell_type": "code",
   "execution_count": 14,
   "id": "eff7e0e1",
   "metadata": {},
   "outputs": [],
   "source": [
    "fruits=[\"appples\",\"grapes\",\"oranges\",\"banana\"]\n",
    "fruits.append([\"papaya\",\"kiwi\"])"
   ]
  },
  {
   "cell_type": "code",
   "execution_count": 15,
   "id": "e13669e6",
   "metadata": {},
   "outputs": [
    {
     "data": {
      "text/plain": [
       "['appples', 'grapes', 'oranges', 'banana', ['papaya', 'kiwi']]"
      ]
     },
     "execution_count": 15,
     "metadata": {},
     "output_type": "execute_result"
    }
   ],
   "source": [
    "fruits"
   ]
  },
  {
   "cell_type": "code",
   "execution_count": 16,
   "id": "c697975d",
   "metadata": {},
   "outputs": [],
   "source": [
    "fruits=[\"appples\",\"grapes\",\"oranges\",\"banana\"]\n",
    "veggies=([\"corn\",\"kale\",\"mushroom\"])\n",
    "fruits.append(veggies)"
   ]
  },
  {
   "cell_type": "markdown",
   "id": "307c5517",
   "metadata": {},
   "source": [
    "fruits"
   ]
  },
  {
   "cell_type": "code",
   "execution_count": 18,
   "id": "5500a932",
   "metadata": {},
   "outputs": [],
   "source": [
    "fruits=[\"appples\",\"grapes\",\"oranges\",\"banana\"]\n",
    "veggies=([\"corn\",\"kale\",\"mushroom\"])\n",
    "fruits.extend(veggies)"
   ]
  },
  {
   "cell_type": "code",
   "execution_count": 19,
   "id": "5b846961",
   "metadata": {},
   "outputs": [
    {
     "data": {
      "text/plain": [
       "['appples', 'grapes', 'oranges', 'banana', 'corn', 'kale', 'mushroom']"
      ]
     },
     "execution_count": 19,
     "metadata": {},
     "output_type": "execute_result"
    }
   ],
   "source": [
    "fruits"
   ]
  },
  {
   "cell_type": "markdown",
   "id": "f35d7ccc",
   "metadata": {},
   "source": [
    "manipulating tests"
   ]
  },
  {
   "cell_type": "code",
   "execution_count": 6,
   "id": "4233fac6",
   "metadata": {},
   "outputs": [
    {
     "data": {
      "text/plain": [
       "['appples', 'grapes', 'oranges', 'banana', 'corn', 'kale', 'mushroom']"
      ]
     },
     "execution_count": 6,
     "metadata": {},
     "output_type": "execute_result"
    }
   ],
   "source": [
    "fruits=[\"appples\",\"grapes\",\"oranges\",\"banana\"]\n",
    "veggies=([\"corn\",\"kale\",\"mushroom\"])\n",
    "grocery_list=fruits + veggies\n",
    "grocery_list"
   ]
  },
  {
   "cell_type": "code",
   "execution_count": null,
   "id": "a2e91352",
   "metadata": {},
   "outputs": [],
   "source": []
  }
 ],
 "metadata": {
  "kernelspec": {
   "display_name": "Python 3",
   "language": "python",
   "name": "python3"
  },
  "language_info": {
   "codemirror_mode": {
    "name": "ipython",
    "version": 3
   },
   "file_extension": ".py",
   "mimetype": "text/x-python",
   "name": "python",
   "nbconvert_exporter": "python",
   "pygments_lexer": "ipython3",
   "version": "3.8.8"
  }
 },
 "nbformat": 4,
 "nbformat_minor": 5
}
