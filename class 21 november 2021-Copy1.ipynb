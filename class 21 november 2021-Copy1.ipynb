{
 "cells": [
  {
   "cell_type": "markdown",
   "id": "1a317fde",
   "metadata": {},
   "source": [
    "# string format"
   ]
  },
  {
   "cell_type": "code",
   "execution_count": 1,
   "id": "f63736bf",
   "metadata": {},
   "outputs": [
    {
     "name": "stdout",
     "output_type": "stream",
     "text": [
      "Hello, john!\n"
     ]
    }
   ],
   "source": [
    "# This prints out \"Hello, john!\"\n",
    "name = \"john\"\n",
    "print(\"Hello, %s!\" % name)"
   ]
  },
  {
   "cell_type": "code",
   "execution_count": 2,
   "id": "e0dd6272",
   "metadata": {},
   "outputs": [
    {
     "name": "stdout",
     "output_type": "stream",
     "text": [
      "Hello, john !\n"
     ]
    }
   ],
   "source": [
    "print(\"Hello,\",name,\"!\")"
   ]
  },
  {
   "cell_type": "code",
   "execution_count": 3,
   "id": "cf5f104b",
   "metadata": {},
   "outputs": [
    {
     "name": "stdout",
     "output_type": "stream",
     "text": [
      "john is 23 years old.\n"
     ]
    }
   ],
   "source": [
    "#This prints out \"John is 23 years old.\"\n",
    "name = \"john\"\n",
    "age = 23\n",
    "print(\"%s is %d years old.\" % (name , age))"
   ]
  },
  {
   "cell_type": "code",
   "execution_count": 4,
   "id": "ca115c60",
   "metadata": {},
   "outputs": [
    {
     "name": "stdout",
     "output_type": "stream",
     "text": [
      "i have apples and lemons\n"
     ]
    }
   ],
   "source": [
    "x=\"apples\"\n",
    "y=\"lemons\"\n",
    "z=\"i have %s and %s\" %(x,y)\n",
    "print(z)"
   ]
  },
  {
   "cell_type": "code",
   "execution_count": 6,
   "id": "b0a4f9f1",
   "metadata": {},
   "outputs": [
    {
     "name": "stdout",
     "output_type": "stream",
     "text": [
      "his name is john he is 24 years old.\n"
     ]
    }
   ],
   "source": [
    "name=\"john\"\n",
    "age=24\n",
    "print(\"his name is {} he is {} years old.\".format(name,age))"
   ]
  },
  {
   "cell_type": "code",
   "execution_count": 7,
   "id": "1cf55765",
   "metadata": {},
   "outputs": [
    {
     "name": "stdout",
     "output_type": "stream",
     "text": [
      "spam and eggs\n",
      "spam and eggs\n"
     ]
    }
   ],
   "source": [
    "print('{0} and {1}'.format('spam', 'eggs'))\n",
    "\n",
    "print('{1} and {0}' .format('eggs', 'spam'))"
   ]
  },
  {
   "cell_type": "code",
   "execution_count": 8,
   "id": "fc69ac1b",
   "metadata": {},
   "outputs": [
    {
     "name": "stdout",
     "output_type": "stream",
     "text": [
      "Help on built-in function len in module builtins:\n",
      "\n",
      "len(obj, /)\n",
      "    Return the number of items in a container.\n",
      "\n"
     ]
    }
   ],
   "source": [
    "help(len)"
   ]
  },
  {
   "cell_type": "code",
   "execution_count": 9,
   "id": "6beb23a8",
   "metadata": {},
   "outputs": [
    {
     "data": {
      "text/plain": [
       "22"
      ]
     },
     "execution_count": 9,
     "metadata": {},
     "output_type": "execute_result"
    }
   ],
   "source": [
    "k=[40,90,22,78,30,67]\n",
    "min(k)"
   ]
  },
  {
   "cell_type": "code",
   "execution_count": 11,
   "id": "626362eb",
   "metadata": {},
   "outputs": [
    {
     "data": {
      "text/plain": [
       "90"
      ]
     },
     "execution_count": 11,
     "metadata": {},
     "output_type": "execute_result"
    }
   ],
   "source": [
    "max(k)"
   ]
  },
  {
   "cell_type": "markdown",
   "id": "79821a02",
   "metadata": {},
   "source": [
    "# USER DEFINED FUNCTION"
   ]
  },
  {
   "cell_type": "code",
   "execution_count": 12,
   "id": "ecbdbe58",
   "metadata": {},
   "outputs": [],
   "source": [
    "# function definition"
   ]
  },
  {
   "cell_type": "code",
   "execution_count": 13,
   "id": "3e17949c",
   "metadata": {},
   "outputs": [],
   "source": [
    "def function1():\n",
    "    print(\"Hello function1\")"
   ]
  },
  {
   "cell_type": "code",
   "execution_count": 16,
   "id": "c1c49299",
   "metadata": {},
   "outputs": [
    {
     "name": "stdout",
     "output_type": "stream",
     "text": [
      "Hello function1\n"
     ]
    }
   ],
   "source": [
    "#function calling \n",
    "\n",
    "function1()\n"
   ]
  },
  {
   "cell_type": "code",
   "execution_count": 17,
   "id": "ac0721e8",
   "metadata": {},
   "outputs": [],
   "source": [
    "def function2():\n",
    "    print(\"Inside function2\")"
   ]
  },
  {
   "cell_type": "code",
   "execution_count": 18,
   "id": "bd0769f8",
   "metadata": {},
   "outputs": [
    {
     "name": "stdout",
     "output_type": "stream",
     "text": [
      "Inside function2\n"
     ]
    }
   ],
   "source": [
    "function2()"
   ]
  },
  {
   "cell_type": "code",
   "execution_count": 19,
   "id": "dc2d02f7",
   "metadata": {},
   "outputs": [],
   "source": [
    "def addfunction():\n",
    "    a=10\n",
    "    b=20\n",
    "    c=a+b\n",
    "    print(\"addition of a and b =\",c)"
   ]
  },
  {
   "cell_type": "code",
   "execution_count": 20,
   "id": "fc59238a",
   "metadata": {},
   "outputs": [
    {
     "name": "stdout",
     "output_type": "stream",
     "text": [
      "addition of a and b = 30\n"
     ]
    }
   ],
   "source": [
    "addfunction()"
   ]
  },
  {
   "cell_type": "code",
   "execution_count": 1,
   "id": "be01ad80",
   "metadata": {},
   "outputs": [],
   "source": [
    "def multiplyfunction():\n",
    "    x=5\n",
    "    y=4\n",
    "    z=x*y\n",
    "    print(\"multiply of\",x, \"and\" ,y, \"=\" ,z)"
   ]
  },
  {
   "cell_type": "code",
   "execution_count": 2,
   "id": "87cfe011",
   "metadata": {},
   "outputs": [
    {
     "name": "stdout",
     "output_type": "stream",
     "text": [
      "multiply of 5 and 4 = 20\n"
     ]
    }
   ],
   "source": [
    "multiplyfunction( )"
   ]
  },
  {
   "cell_type": "code",
   "execution_count": 25,
   "id": "1ba78ef8",
   "metadata": {},
   "outputs": [],
   "source": [
    "def concatfunction():\n",
    "    string1=\"Data\"\n",
    "    string2=\"science\"\n",
    "    print(\"string concatenation =\")\n",
    "    print(string1+\" \"+string2)"
   ]
  },
  {
   "cell_type": "code",
   "execution_count": 26,
   "id": "fbb5908b",
   "metadata": {},
   "outputs": [
    {
     "name": "stdout",
     "output_type": "stream",
     "text": [
      "string concatenation =\n",
      "Data science\n"
     ]
    }
   ],
   "source": [
    "concatfunction()"
   ]
  },
  {
   "cell_type": "code",
   "execution_count": 29,
   "id": "67bba60a",
   "metadata": {},
   "outputs": [
    {
     "name": "stdout",
     "output_type": "stream",
     "text": [
      "Area of rectangle = 560\n"
     ]
    }
   ],
   "source": [
    "#function defination\n",
    "def area_of_rectangle_function():\n",
    "    a=70\n",
    "    b=8\n",
    "    c=a*b\n",
    "    print(\"Area of rectangle =\",c)\n",
    "    \n",
    "    #function calling\n",
    "area_of_rectangle_function()"
   ]
  },
  {
   "cell_type": "code",
   "execution_count": 3,
   "id": "5fe04029",
   "metadata": {},
   "outputs": [],
   "source": [
    "def circle_area_function( ):\n",
    "    radius=int(input(\"Enter the value of radius\"))\n",
    "    pi=3.14\n",
    "    area=pi*(radius**2)\n",
    "    print(\"The area of circle with radius \" ,radius, \" = \",area)"
   ]
  },
  {
   "cell_type": "code",
   "execution_count": 4,
   "id": "1f71908f",
   "metadata": {},
   "outputs": [
    {
     "name": "stdout",
     "output_type": "stream",
     "text": [
      "Enter the value of radius9\n",
      "The area of circle with radius  9  =  254.34\n"
     ]
    }
   ],
   "source": [
    "circle_area_function( )"
   ]
  },
  {
   "cell_type": "code",
   "execution_count": null,
   "id": "b3111560",
   "metadata": {},
   "outputs": [],
   "source": []
  },
  {
   "cell_type": "markdown",
   "id": "d9ddc4ee",
   "metadata": {},
   "source": [
    "functions with parameters"
   ]
  },
  {
   "cell_type": "code",
   "execution_count": 1,
   "id": "3c3d80dd",
   "metadata": {},
   "outputs": [],
   "source": [
    "def addition_function_with_parameters(a,b):\n",
    "    c=a+b\n",
    "    print(\"The value =\",c)"
   ]
  },
  {
   "cell_type": "code",
   "execution_count": 2,
   "id": "0d32b63e",
   "metadata": {},
   "outputs": [
    {
     "name": "stdout",
     "output_type": "stream",
     "text": [
      "The value = 30\n"
     ]
    }
   ],
   "source": [
    "addition_function_with_parameters(10,20)"
   ]
  },
  {
   "cell_type": "code",
   "execution_count": 3,
   "id": "057d26b5",
   "metadata": {},
   "outputs": [],
   "source": [
    "def substraction_function(x,y):\n",
    "    z=x-y\n",
    "    print(\"The value of z=\",z)"
   ]
  },
  {
   "cell_type": "code",
   "execution_count": 4,
   "id": "38a26905",
   "metadata": {},
   "outputs": [
    {
     "name": "stdout",
     "output_type": "stream",
     "text": [
      "The value of z= 50\n"
     ]
    }
   ],
   "source": [
    "substraction_function(80,30)"
   ]
  },
  {
   "cell_type": "code",
   "execution_count": 5,
   "id": "8317bace",
   "metadata": {},
   "outputs": [],
   "source": [
    "def addfunction(a,b,c):\n",
    "    add=a+b+c\n",
    "    print(\"addition =\",add)"
   ]
  },
  {
   "cell_type": "code",
   "execution_count": 6,
   "id": "92eedf9a",
   "metadata": {},
   "outputs": [
    {
     "name": "stdout",
     "output_type": "stream",
     "text": [
      "addition = 35\n"
     ]
    }
   ],
   "source": [
    "addfunction(5,10,20)"
   ]
  },
  {
   "cell_type": "code",
   "execution_count": 1,
   "id": "3b472c03",
   "metadata": {},
   "outputs": [],
   "source": [
    "def runfunction( ):\n",
    "    print(\"inside function\")\n",
    "    for i in [1,2,3,4,5,88,99]:\n",
    "        print(i)"
   ]
  },
  {
   "cell_type": "code",
   "execution_count": 2,
   "id": "9286b58e",
   "metadata": {},
   "outputs": [
    {
     "name": "stdout",
     "output_type": "stream",
     "text": [
      "inside function\n",
      "1\n",
      "2\n",
      "3\n",
      "4\n",
      "5\n",
      "88\n",
      "99\n"
     ]
    }
   ],
   "source": [
    "runfunction( )"
   ]
  },
  {
   "cell_type": "code",
   "execution_count": 3,
   "id": "5bfb2bc9",
   "metadata": {},
   "outputs": [],
   "source": [
    "def outsidefunction( ):\n",
    "    print (\"outside function\")\n",
    "    runfunction( )"
   ]
  },
  {
   "cell_type": "code",
   "execution_count": 4,
   "id": "fc19f92e",
   "metadata": {},
   "outputs": [
    {
     "name": "stdout",
     "output_type": "stream",
     "text": [
      "outside function\n",
      "inside function\n",
      "1\n",
      "2\n",
      "3\n",
      "4\n",
      "5\n",
      "88\n",
      "99\n"
     ]
    }
   ],
   "source": [
    "outsidefunction( )"
   ]
  },
  {
   "cell_type": "code",
   "execution_count": 5,
   "id": "866296b5",
   "metadata": {},
   "outputs": [],
   "source": [
    "def addition_function(a,b):\n",
    "    c=a+b\n",
    "    print(\"The value =\",c)"
   ]
  },
  {
   "cell_type": "code",
   "execution_count": 7,
   "id": "26499342",
   "metadata": {},
   "outputs": [
    {
     "name": "stdout",
     "output_type": "stream",
     "text": [
      "enter value of x50\n",
      "enter value of y100\n",
      "The value = 150\n"
     ]
    }
   ],
   "source": [
    "x=int(input(\"enter value of x\"))\n",
    "y=int(input(\"enter value of y\"))\n",
    "\n",
    "addition_function(x,y)"
   ]
  },
  {
   "cell_type": "code",
   "execution_count": null,
   "id": "4d945cb5",
   "metadata": {},
   "outputs": [],
   "source": []
  },
  {
   "cell_type": "code",
   "execution_count": null,
   "id": "b2a8677d",
   "metadata": {},
   "outputs": [],
   "source": []
  }
 ],
 "metadata": {
  "kernelspec": {
   "display_name": "Python 3",
   "language": "python",
   "name": "python3"
  },
  "language_info": {
   "codemirror_mode": {
    "name": "ipython",
    "version": 3
   },
   "file_extension": ".py",
   "mimetype": "text/x-python",
   "name": "python",
   "nbconvert_exporter": "python",
   "pygments_lexer": "ipython3",
   "version": "3.8.8"
  }
 },
 "nbformat": 4,
 "nbformat_minor": 5
}
