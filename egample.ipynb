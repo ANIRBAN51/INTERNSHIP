{
 "cells": [
  {
   "cell_type": "code",
   "execution_count": 1,
   "id": "2c32254d",
   "metadata": {},
   "outputs": [],
   "source": [
    "from bs4 import BeautifulSoup\n",
    "import requests"
   ]
  },
  {
   "cell_type": "code",
   "execution_count": 2,
   "id": "036c18e6",
   "metadata": {},
   "outputs": [
    {
     "name": "stdout",
     "output_type": "stream",
     "text": [
      "['h1 Main Page', 'h1 Welcome to Wikipedia', \"h2 From today's featured article\", 'h2 Did you know\\xa0...', 'h2 In the news', 'h2 On this day', \"h2 From today's featured list\", \"h2 Today's featured picture\", 'h2 Other areas of Wikipedia', \"h2 Wikipedia's sister projects\", 'h2 Wikipedia languages', 'h2 Navigation menu', 'h3 Search']\n"
     ]
    }
   ],
   "source": [
    "url = requests.get('https://en.wikipedia.org/wiki/Main_Page')\n",
    "\n",
    "soup = BeautifulSoup(url.text, 'html.parser')\n",
    "\n",
    "\n",
    "\n",
    "header_tags = [] # empty list\n",
    "\n",
    "\n",
    "\n",
    "for header in soup.find_all([\"h1\",\"h2\",\"h3\",\"h4\",\"h5\",\"h6\"]):\n",
    "\n",
    "\n",
    "\n",
    "    header_tags.append(header.name+\" \"+header.text.strip())\n",
    "    \n",
    "print(header_tags)"
   ]
  },
  {
   "cell_type": "code",
   "execution_count": null,
   "id": "a9ef1323",
   "metadata": {},
   "outputs": [],
   "source": []
  }
 ],
 "metadata": {
  "kernelspec": {
   "display_name": "Python 3",
   "language": "python",
   "name": "python3"
  },
  "language_info": {
   "codemirror_mode": {
    "name": "ipython",
    "version": 3
   },
   "file_extension": ".py",
   "mimetype": "text/x-python",
   "name": "python",
   "nbconvert_exporter": "python",
   "pygments_lexer": "ipython3",
   "version": "3.8.8"
  }
 },
 "nbformat": 4,
 "nbformat_minor": 5
}
