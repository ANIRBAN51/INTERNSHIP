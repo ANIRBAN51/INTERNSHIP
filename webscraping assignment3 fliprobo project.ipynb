{
 "cells": [
  {
   "cell_type": "code",
   "execution_count": 1,
   "id": "0856bf52",
   "metadata": {},
   "outputs": [],
   "source": [
    "import selenium\n",
    "import pandas as pd\n",
    "from selenium import webdriver\n",
    "import warnings\n",
    "warnings.filterwarnings(\"ignore\")\n",
    "import time"
   ]
  },
  {
   "cell_type": "markdown",
   "id": "4efacec4",
   "metadata": {},
   "source": [
    "1. Write a python program which searches all the product under a particular product from www.amazon.in.\n",
    "The product to be searched will be taken as input from user. For e.g. If user input is ‘guitar’. Then search\n",
    "for guitars."
   ]
  },
  {
   "cell_type": "code",
   "execution_count": 50,
   "id": "ff0fce6d",
   "metadata": {},
   "outputs": [],
   "source": [
    "driver =webdriver.Chrome(r\"C:\\Users\\hp\\Downloads\\chromedriver_win32 (1)\\chromedriver.exe\")"
   ]
  },
  {
   "cell_type": "code",
   "execution_count": 51,
   "id": "50f75428",
   "metadata": {},
   "outputs": [],
   "source": [
    "driver=webdriver.Chrome(\"chromedriver.exe\")\n",
    "time.sleep(2)"
   ]
  },
  {
   "cell_type": "code",
   "execution_count": 42,
   "id": "5bf8cf8e",
   "metadata": {},
   "outputs": [],
   "source": [
    "url = \"https://www.amazon.in/\""
   ]
  },
  {
   "cell_type": "code",
   "execution_count": 84,
   "id": "db1cb818",
   "metadata": {},
   "outputs": [],
   "source": [
    "driver.get(url)"
   ]
  },
  {
   "cell_type": "code",
   "execution_count": 26,
   "id": "47481049",
   "metadata": {},
   "outputs": [],
   "source": [
    "time.sleep(2)"
   ]
  },
  {
   "cell_type": "code",
   "execution_count": 27,
   "id": "834b160e",
   "metadata": {},
   "outputs": [
    {
     "name": "stdout",
     "output_type": "stream",
     "text": [
      "Enter the product you want to search : Guitar\n"
     ]
    }
   ],
   "source": [
    "user_inp = input('Enter the product you want to search : ')"
   ]
  },
  {
   "cell_type": "code",
   "execution_count": 29,
   "id": "776e68f9",
   "metadata": {},
   "outputs": [],
   "source": [
    "search_bar = driver.find_element_by_id(\"twotabsearchtextbox\")    # Locating searc_bar by id\n",
    "\n"
   ]
  },
  {
   "cell_type": "code",
   "execution_count": 30,
   "id": "54ac0bdb",
   "metadata": {},
   "outputs": [],
   "source": [
    "search_bar.clear()                                               "
   ]
  },
  {
   "cell_type": "code",
   "execution_count": 31,
   "id": "7d65ff8f",
   "metadata": {},
   "outputs": [],
   "source": [
    "search_bar.send_keys(user_inp)"
   ]
  },
  {
   "cell_type": "markdown",
   "id": "26bcbc6c",
   "metadata": {},
   "source": [
    "2. In the above question, now scrape the following details of each product listed in first 3 pages of your\n",
    "search results and save it in a data frame and csv. In case if any product has less than 3 pages in search\n",
    "results then scrape all the products available under that product name. Details to be scraped are: \"Brand\n",
    "Name\", \"Name of the Product\", \"Price\", \"Return/Exchange\", \"Expected Delivery\", \"Availability\" and\n",
    "“Product URL”. In case, if any of the details are missing for any of the product then replace it by “-“"
   ]
  },
  {
   "cell_type": "code",
   "execution_count": 43,
   "id": "bec97eca",
   "metadata": {},
   "outputs": [],
   "source": [
    "driver.get('https://www.amazon.in/')"
   ]
  },
  {
   "cell_type": "code",
   "execution_count": 74,
   "id": "4530b9ec",
   "metadata": {},
   "outputs": [],
   "source": [
    "search_field_product_guitar=driver.find_element_by_xpath(\"/html/body/div[1]/header/div/div[1]/div[2]/div/form/div[2]/div[1]/input\")\n",
    "search_field_product_guitar.send_keys('sunglass')"
   ]
  },
  {
   "cell_type": "code",
   "execution_count": 75,
   "id": "5eb9dad9",
   "metadata": {},
   "outputs": [],
   "source": [
    "search_button=driver.find_element_by_xpath('/html/body/div[1]/header/div/div[1]/div[2]/div/form/div[3]/div/span/input')\n",
    "search_button.click()"
   ]
  },
  {
   "cell_type": "code",
   "execution_count": 76,
   "id": "c57f5a47",
   "metadata": {},
   "outputs": [],
   "source": [
    "url='https://www.amazon.in/s?k=sunglasses+for+mensunglass&crid=35I0QUE8SMYKL&sprefix=sunglasses+for+mensunglass%2Caps%2C333&ref=nb_sb_noss_1'"
   ]
  },
  {
   "cell_type": "code",
   "execution_count": 77,
   "id": "26e573a5",
   "metadata": {},
   "outputs": [],
   "source": [
    "driver.get(url)"
   ]
  },
  {
   "cell_type": "code",
   "execution_count": 78,
   "id": "3f95ba5c",
   "metadata": {},
   "outputs": [],
   "source": [
    "brand_name=[]\n",
    "name_ofproduct=[]\n",
    "price_titles=[]\n",
    "return_exchange=[]\n",
    "expected_delivery=[]\n",
    "availability_titles=[]\n",
    "product_url=[]\n"
   ]
  },
  {
   "cell_type": "code",
   "execution_count": 79,
   "id": "05635d73",
   "metadata": {},
   "outputs": [
    {
     "data": {
      "text/plain": [
       "[<selenium.webdriver.remote.webelement.WebElement (session=\"214b70840c7d75ae08a27e5366a47849\", element=\"fcd1dcaa-61b6-42be-980d-f8a9ba137640\")>,\n",
       " <selenium.webdriver.remote.webelement.WebElement (session=\"214b70840c7d75ae08a27e5366a47849\", element=\"18709dfd-db39-4312-b1d1-11b1db63d72e\")>,\n",
       " <selenium.webdriver.remote.webelement.WebElement (session=\"214b70840c7d75ae08a27e5366a47849\", element=\"b81142c2-2f69-410d-8069-c4f76d43cd39\")>,\n",
       " <selenium.webdriver.remote.webelement.WebElement (session=\"214b70840c7d75ae08a27e5366a47849\", element=\"d3357b72-9eef-4876-a882-0915042ed08d\")>,\n",
       " <selenium.webdriver.remote.webelement.WebElement (session=\"214b70840c7d75ae08a27e5366a47849\", element=\"b4d28d8e-7368-4029-9d35-2888b04eb70d\")>,\n",
       " <selenium.webdriver.remote.webelement.WebElement (session=\"214b70840c7d75ae08a27e5366a47849\", element=\"49e1ed67-a082-4cc5-ba02-be826e41740b\")>,\n",
       " <selenium.webdriver.remote.webelement.WebElement (session=\"214b70840c7d75ae08a27e5366a47849\", element=\"b5028ac4-3cda-4057-89b2-3210146c84cc\")>,\n",
       " <selenium.webdriver.remote.webelement.WebElement (session=\"214b70840c7d75ae08a27e5366a47849\", element=\"0ed31286-546b-447b-8a79-46ab01259c09\")>,\n",
       " <selenium.webdriver.remote.webelement.WebElement (session=\"214b70840c7d75ae08a27e5366a47849\", element=\"29d440d4-c5db-48f4-8dea-7868544260b9\")>,\n",
       " <selenium.webdriver.remote.webelement.WebElement (session=\"214b70840c7d75ae08a27e5366a47849\", element=\"15b084fc-4f9d-4049-8bea-7d91e458dc3f\")>]"
      ]
     },
     "execution_count": 79,
     "metadata": {},
     "output_type": "execute_result"
    }
   ],
   "source": [
    "brand_name=driver.find_elements_by_xpath('//span[@class=\"a-size-base-plus a-color-base\"]')\n",
    "brand_name[0:10]"
   ]
  },
  {
   "cell_type": "code",
   "execution_count": 80,
   "id": "8236daf8",
   "metadata": {},
   "outputs": [
    {
     "ename": "AttributeError",
     "evalue": "'str' object has no attribute 'text'",
     "output_type": "error",
     "traceback": [
      "\u001b[1;31m---------------------------------------------------------------------------\u001b[0m",
      "\u001b[1;31mAttributeError\u001b[0m                            Traceback (most recent call last)",
      "\u001b[1;32m~\\AppData\\Local\\Temp/ipykernel_10328/211010852.py\u001b[0m in \u001b[0;36m<module>\u001b[1;34m\u001b[0m\n\u001b[0;32m      1\u001b[0m \u001b[1;32mfor\u001b[0m \u001b[0mi\u001b[0m \u001b[1;32min\u001b[0m \u001b[0mbrand_name\u001b[0m \u001b[1;33m:\u001b[0m\u001b[1;33m\u001b[0m\u001b[1;33m\u001b[0m\u001b[0m\n\u001b[1;32m----> 2\u001b[1;33m     \u001b[0mbrand\u001b[0m\u001b[1;33m=\u001b[0m\u001b[0mi\u001b[0m\u001b[1;33m.\u001b[0m\u001b[0mtext\u001b[0m\u001b[1;33m\u001b[0m\u001b[1;33m\u001b[0m\u001b[0m\n\u001b[0m\u001b[0;32m      3\u001b[0m     \u001b[0mbrand_name\u001b[0m\u001b[1;33m.\u001b[0m\u001b[0mappend\u001b[0m\u001b[1;33m(\u001b[0m\u001b[0mbrand\u001b[0m\u001b[1;33m)\u001b[0m\u001b[1;33m\u001b[0m\u001b[1;33m\u001b[0m\u001b[0m\n\u001b[0;32m      4\u001b[0m \u001b[0mbrand_name\u001b[0m\u001b[1;33m[\u001b[0m\u001b[1;36m0\u001b[0m\u001b[1;33m:\u001b[0m\u001b[1;36m10\u001b[0m\u001b[1;33m]\u001b[0m\u001b[1;33m\u001b[0m\u001b[1;33m\u001b[0m\u001b[0m\n",
      "\u001b[1;31mAttributeError\u001b[0m: 'str' object has no attribute 'text'"
     ]
    }
   ],
   "source": [
    "for i in brand_name :\n",
    "    brand=i.text\n",
    "    brand_name.append(brand)\n",
    "brand_name[0:10]"
   ]
  },
  {
   "cell_type": "code",
   "execution_count": 56,
   "id": "8d996988",
   "metadata": {},
   "outputs": [
    {
     "data": {
      "text/plain": [
       "[<selenium.webdriver.remote.webelement.WebElement (session=\"cfad6b324c64539d73beafeb41f125c0\", element=\"e33f8a77-12c1-429b-9190-00dc48ce36b3\")>]"
      ]
     },
     "execution_count": 56,
     "metadata": {},
     "output_type": "execute_result"
    }
   ],
   "source": [
    "name_ofproduct=driver.find_elements_by_xpath('//span[@class=\"a-size-large product-title-word-break\"]')\n",
    "name_ofproduct[0:10]"
   ]
  },
  {
   "cell_type": "code",
   "execution_count": 57,
   "id": "07a747c2",
   "metadata": {},
   "outputs": [
    {
     "ename": "AttributeError",
     "evalue": "'str' object has no attribute 'text'",
     "output_type": "error",
     "traceback": [
      "\u001b[1;31m---------------------------------------------------------------------------\u001b[0m",
      "\u001b[1;31mAttributeError\u001b[0m                            Traceback (most recent call last)",
      "\u001b[1;32m~\\AppData\\Local\\Temp/ipykernel_10328/991872772.py\u001b[0m in \u001b[0;36m<module>\u001b[1;34m\u001b[0m\n\u001b[0;32m      1\u001b[0m \u001b[1;32mfor\u001b[0m \u001b[0mi\u001b[0m \u001b[1;32min\u001b[0m \u001b[0mname_ofproduct\u001b[0m\u001b[1;33m:\u001b[0m\u001b[1;33m\u001b[0m\u001b[1;33m\u001b[0m\u001b[0m\n\u001b[1;32m----> 2\u001b[1;33m     \u001b[0mtitle\u001b[0m\u001b[1;33m=\u001b[0m\u001b[0mi\u001b[0m\u001b[1;33m.\u001b[0m\u001b[0mtext\u001b[0m\u001b[1;33m\u001b[0m\u001b[1;33m\u001b[0m\u001b[0m\n\u001b[0m\u001b[0;32m      3\u001b[0m     \u001b[0mname_ofproduct\u001b[0m\u001b[1;33m.\u001b[0m\u001b[0mappend\u001b[0m\u001b[1;33m(\u001b[0m\u001b[0mtitle\u001b[0m\u001b[1;33m)\u001b[0m\u001b[1;33m\u001b[0m\u001b[1;33m\u001b[0m\u001b[0m\n\u001b[0;32m      4\u001b[0m \u001b[0mname_ofproduct\u001b[0m\u001b[1;33m[\u001b[0m\u001b[1;36m0\u001b[0m\u001b[1;33m:\u001b[0m\u001b[1;36m10\u001b[0m\u001b[1;33m]\u001b[0m\u001b[1;33m\u001b[0m\u001b[1;33m\u001b[0m\u001b[0m\n",
      "\u001b[1;31mAttributeError\u001b[0m: 'str' object has no attribute 'text'"
     ]
    }
   ],
   "source": [
    "for i in name_ofproduct:\n",
    "    title=i.text\n",
    "    name_ofproduct.append(title)\n",
    "name_ofproduct[0:10]"
   ]
  },
  {
   "cell_type": "markdown",
   "id": "34d60eba",
   "metadata": {},
   "source": [
    "4. Write a python program to search for a smartphone(e.g.: Oneplus Nord, pixel 4A, etc.) on\n",
    "www.flipkart.com and scrape following details for all the search results displayed on 1st page. Details to be\n",
    "scraped: “Brand Name”, “Smartphone name”, “Colour”, “RAM”, “Storage(ROM)”, “Primary Camera”,\n",
    "“Secondary Camera”, “Display Size”, “Battery Capacity”, “Price”, “Product URL”. Incase if any of the\n",
    "details is missing then replace it by “- “. Save your results in a dataframe and CSV.\n"
   ]
  },
  {
   "cell_type": "code",
   "execution_count": 38,
   "id": "7e35511f",
   "metadata": {},
   "outputs": [],
   "source": [
    "driver.get('https://www.flipkart.com/')"
   ]
  },
  {
   "cell_type": "code",
   "execution_count": 39,
   "id": "07c48dd5",
   "metadata": {},
   "outputs": [],
   "source": [
    "search_field_designation_smartphone=driver.find_element_by_class_name('_3704LK')\n",
    "search_field_designation_smartphone.send_keys('smartphone')"
   ]
  },
  {
   "cell_type": "code",
   "execution_count": 40,
   "id": "50f353a1",
   "metadata": {},
   "outputs": [],
   "source": [
    "search_button=driver.find_element_by_xpath('/html/body/div[1]/div/div[1]/div[1]/div[2]/div[2]/form/div/button')\n",
    "search_button.click()\n"
   ]
  },
  {
   "cell_type": "code",
   "execution_count": 8,
   "id": "6020d0a3",
   "metadata": {},
   "outputs": [],
   "source": [
    "url='https://www.flipkart.com/poco-c31-royal-blue-64-gb/p/itm19effae969b86?pid=MOBG73E7GKQK4KZP&lid=LSTMOBG73E7GKQK4KZPR5ICMK&marketplace=FLIPKART&q=smartphone&store=tyy%2F4io&srno=s_1_1&otracker=search&otracker1=search&iid=7e8d55eb-42cb-4344-bac1-99f36a5467e6.MOBG73E7GKQK4KZP.SEARCH&ssid=cblsel1tow0000001653578826763&qH=1036ba3c4ed2c02'"
   ]
  },
  {
   "cell_type": "code",
   "execution_count": 9,
   "id": "28b36613",
   "metadata": {},
   "outputs": [],
   "source": [
    "driver.get(url)"
   ]
  },
  {
   "cell_type": "code",
   "execution_count": 10,
   "id": "bd88d59d",
   "metadata": {},
   "outputs": [],
   "source": [
    "brand_name=[]\n",
    "smartphone_name=[]\n",
    "colour_titles=[]\n",
    "ram_titles=[]\n",
    "storage_rom=[]\n",
    "primary_camera=[]\n",
    "secondary_camera=[]\n",
    "display_size=[]\n",
    "battery_capacity=[]\n",
    "price_titles=[]\n",
    "product_url=[]\n"
   ]
  },
  {
   "cell_type": "code",
   "execution_count": 11,
   "id": "0e25728f",
   "metadata": {},
   "outputs": [
    {
     "data": {
      "text/plain": [
       "[<selenium.webdriver.remote.webelement.WebElement (session=\"084760ce81140b1b252d7a66843d2acd\", element=\"a4b35aa0-2b7f-406a-acda-32e3f5e4e324\")>,\n",
       " <selenium.webdriver.remote.webelement.WebElement (session=\"084760ce81140b1b252d7a66843d2acd\", element=\"18b138fb-35ea-4284-afda-4c89b32d29d6\")>,\n",
       " <selenium.webdriver.remote.webelement.WebElement (session=\"084760ce81140b1b252d7a66843d2acd\", element=\"a0fb919c-7824-458b-9038-bf543bbf7470\")>,\n",
       " <selenium.webdriver.remote.webelement.WebElement (session=\"084760ce81140b1b252d7a66843d2acd\", element=\"b85961e2-fd29-4765-8954-e7f237ff5af4\")>,\n",
       " <selenium.webdriver.remote.webelement.WebElement (session=\"084760ce81140b1b252d7a66843d2acd\", element=\"05cd63b2-72cb-470c-bc87-730e770dddbc\")>]"
      ]
     },
     "execution_count": 11,
     "metadata": {},
     "output_type": "execute_result"
    }
   ],
   "source": [
    "titles_tags=driver.find_elements_by_xpath('//div[@class=\"_3GIHBu\"]')\n",
    "titles_tags"
   ]
  },
  {
   "cell_type": "code",
   "execution_count": 12,
   "id": "2b5876d8",
   "metadata": {},
   "outputs": [
    {
     "data": {
      "text/plain": [
       "['Home',\n",
       " 'Mobiles & Accessories',\n",
       " 'Mobiles',\n",
       " 'POCO Mobiles',\n",
       " 'POCO C31 (Royal Blue, 64 GB) (4 GB RAM)']"
      ]
     },
     "execution_count": 12,
     "metadata": {},
     "output_type": "execute_result"
    }
   ],
   "source": [
    "for i in titles_tags:\n",
    "    title=i.text\n",
    "    brand_name.append(title)\n",
    "brand_name"
   ]
  },
  {
   "cell_type": "code",
   "execution_count": 13,
   "id": "c2bc73f3",
   "metadata": {},
   "outputs": [
    {
     "data": {
      "text/plain": [
       "[<selenium.webdriver.remote.webelement.WebElement (session=\"084760ce81140b1b252d7a66843d2acd\", element=\"483e090d-5230-47fd-a0d1-cf4642c9bfb9\")>,\n",
       " <selenium.webdriver.remote.webelement.WebElement (session=\"084760ce81140b1b252d7a66843d2acd\", element=\"1d300856-2f35-4105-83f7-2f2cebc45a30\")>,\n",
       " <selenium.webdriver.remote.webelement.WebElement (session=\"084760ce81140b1b252d7a66843d2acd\", element=\"a2c26563-7d25-4071-b647-7ca3ded68c15\")>,\n",
       " <selenium.webdriver.remote.webelement.WebElement (session=\"084760ce81140b1b252d7a66843d2acd\", element=\"8b865e1c-5367-4922-84e1-4d8c18ca1d07\")>]"
      ]
     },
     "execution_count": 13,
     "metadata": {},
     "output_type": "execute_result"
    }
   ],
   "source": [
    "smartphone_tags=driver.find_elements_by_xpath('//a[@class=\"_2whKao\"]')\n",
    "smartphone_tags"
   ]
  },
  {
   "cell_type": "code",
   "execution_count": 14,
   "id": "c84542db",
   "metadata": {},
   "outputs": [
    {
     "data": {
      "text/plain": [
       "['Home', 'Mobiles & Accessories', 'Mobiles', 'POCO Mobiles']"
      ]
     },
     "execution_count": 14,
     "metadata": {},
     "output_type": "execute_result"
    }
   ],
   "source": [
    "for i in smartphone_tags:\n",
    "    title=i.text\n",
    "    smartphone_name.append(title)\n",
    "smartphone_name"
   ]
  },
  {
   "cell_type": "code",
   "execution_count": 35,
   "id": "cf7816d1",
   "metadata": {},
   "outputs": [
    {
     "data": {
      "text/plain": [
       "[<selenium.webdriver.remote.webelement.WebElement (session=\"084760ce81140b1b252d7a66843d2acd\", element=\"4b86c21f-84f4-43a9-b3e7-76868be93c79\")>,\n",
       " <selenium.webdriver.remote.webelement.WebElement (session=\"084760ce81140b1b252d7a66843d2acd\", element=\"2bc3b116-8cef-45ec-b6da-6b1d451995a4\")>,\n",
       " <selenium.webdriver.remote.webelement.WebElement (session=\"084760ce81140b1b252d7a66843d2acd\", element=\"71b21cb2-26ea-43eb-9370-f08416f31ade\")>,\n",
       " <selenium.webdriver.remote.webelement.WebElement (session=\"084760ce81140b1b252d7a66843d2acd\", element=\"51b45c73-6ae0-4f4f-b896-26551e98a792\")>,\n",
       " <selenium.webdriver.remote.webelement.WebElement (session=\"084760ce81140b1b252d7a66843d2acd\", element=\"4587a9f6-93bd-46d1-a0ae-e9194f9619b0\")>,\n",
       " <selenium.webdriver.remote.webelement.WebElement (session=\"084760ce81140b1b252d7a66843d2acd\", element=\"aaa1b5c1-4ee9-417d-9de1-b6c75ab2378d\")>,\n",
       " <selenium.webdriver.remote.webelement.WebElement (session=\"084760ce81140b1b252d7a66843d2acd\", element=\"b146f476-92cb-480c-932d-a1a8f326f689\")>,\n",
       " <selenium.webdriver.remote.webelement.WebElement (session=\"084760ce81140b1b252d7a66843d2acd\", element=\"56fe70e5-e75a-4853-9e50-fdd9f3bd919e\")>,\n",
       " <selenium.webdriver.remote.webelement.WebElement (session=\"084760ce81140b1b252d7a66843d2acd\", element=\"9f730244-cb7e-46e3-9adf-f48f3aed2835\")>,\n",
       " <selenium.webdriver.remote.webelement.WebElement (session=\"084760ce81140b1b252d7a66843d2acd\", element=\"04f2af5e-eef3-4e22-83ca-c59b34f5a769\")>,\n",
       " <selenium.webdriver.remote.webelement.WebElement (session=\"084760ce81140b1b252d7a66843d2acd\", element=\"a2d807ca-b5d6-4d54-aa90-4f92c26cd522\")>,\n",
       " <selenium.webdriver.remote.webelement.WebElement (session=\"084760ce81140b1b252d7a66843d2acd\", element=\"69fd7894-32f6-4501-809f-beaa073a40ac\")>,\n",
       " <selenium.webdriver.remote.webelement.WebElement (session=\"084760ce81140b1b252d7a66843d2acd\", element=\"e2d21f22-6627-4203-aa22-40bd675ea294\")>,\n",
       " <selenium.webdriver.remote.webelement.WebElement (session=\"084760ce81140b1b252d7a66843d2acd\", element=\"c46842cb-4cb2-4fcf-9859-92e0c493924d\")>,\n",
       " <selenium.webdriver.remote.webelement.WebElement (session=\"084760ce81140b1b252d7a66843d2acd\", element=\"e97d94d2-a096-4ea0-8752-ba90784a2acb\")>,\n",
       " <selenium.webdriver.remote.webelement.WebElement (session=\"084760ce81140b1b252d7a66843d2acd\", element=\"b84fd5f5-b218-42d0-baeb-76719fc64df6\")>,\n",
       " <selenium.webdriver.remote.webelement.WebElement (session=\"084760ce81140b1b252d7a66843d2acd\", element=\"770c51a5-422a-4387-a213-424de8a42d4d\")>,\n",
       " <selenium.webdriver.remote.webelement.WebElement (session=\"084760ce81140b1b252d7a66843d2acd\", element=\"a547fdd3-17a6-46e7-a38f-a8cb3b9c3e7b\")>,\n",
       " <selenium.webdriver.remote.webelement.WebElement (session=\"084760ce81140b1b252d7a66843d2acd\", element=\"3d3cf830-6839-4ba8-bf53-36b50875514e\")>,\n",
       " <selenium.webdriver.remote.webelement.WebElement (session=\"084760ce81140b1b252d7a66843d2acd\", element=\"e89dcf54-9885-4381-a05f-d09986088b8a\")>,\n",
       " <selenium.webdriver.remote.webelement.WebElement (session=\"084760ce81140b1b252d7a66843d2acd\", element=\"ed2012c9-6f69-4f37-92c3-325206d666df\")>,\n",
       " <selenium.webdriver.remote.webelement.WebElement (session=\"084760ce81140b1b252d7a66843d2acd\", element=\"3bb9e8ff-6aee-44ff-8f1d-2d29a055f601\")>,\n",
       " <selenium.webdriver.remote.webelement.WebElement (session=\"084760ce81140b1b252d7a66843d2acd\", element=\"7bf44425-4841-4937-8b14-177bbfded3d7\")>,\n",
       " <selenium.webdriver.remote.webelement.WebElement (session=\"084760ce81140b1b252d7a66843d2acd\", element=\"3cc80e3d-a4ce-4024-8cfb-d3fed5b1a9d5\")>,\n",
       " <selenium.webdriver.remote.webelement.WebElement (session=\"084760ce81140b1b252d7a66843d2acd\", element=\"0c11dcef-9e48-4128-936f-6dd6dda83d66\")>,\n",
       " <selenium.webdriver.remote.webelement.WebElement (session=\"084760ce81140b1b252d7a66843d2acd\", element=\"f4175578-ab4b-4151-9588-f8f0d8e6af0b\")>,\n",
       " <selenium.webdriver.remote.webelement.WebElement (session=\"084760ce81140b1b252d7a66843d2acd\", element=\"34602d7f-9947-4163-8708-8eacbd75cd27\")>,\n",
       " <selenium.webdriver.remote.webelement.WebElement (session=\"084760ce81140b1b252d7a66843d2acd\", element=\"5b1a02d2-8759-4059-b700-65dc4b6ec0ff\")>,\n",
       " <selenium.webdriver.remote.webelement.WebElement (session=\"084760ce81140b1b252d7a66843d2acd\", element=\"7ffe8bc6-16d4-4a9a-ba9e-00262428fdd2\")>,\n",
       " <selenium.webdriver.remote.webelement.WebElement (session=\"084760ce81140b1b252d7a66843d2acd\", element=\"0638811d-5f40-4c20-b818-11adf7939860\")>,\n",
       " <selenium.webdriver.remote.webelement.WebElement (session=\"084760ce81140b1b252d7a66843d2acd\", element=\"11150f62-5190-4aa4-8923-e97a73c74132\")>,\n",
       " <selenium.webdriver.remote.webelement.WebElement (session=\"084760ce81140b1b252d7a66843d2acd\", element=\"51d7e564-4f69-4f5b-acf6-de4c56aca3b6\")>,\n",
       " <selenium.webdriver.remote.webelement.WebElement (session=\"084760ce81140b1b252d7a66843d2acd\", element=\"e64d4a73-824a-4d70-97d2-fa9227f7224e\")>,\n",
       " <selenium.webdriver.remote.webelement.WebElement (session=\"084760ce81140b1b252d7a66843d2acd\", element=\"5097f0a4-0952-4b0e-9da5-1501b9204e1d\")>,\n",
       " <selenium.webdriver.remote.webelement.WebElement (session=\"084760ce81140b1b252d7a66843d2acd\", element=\"5651549d-41c6-4299-bbfe-04a4b00117b9\")>,\n",
       " <selenium.webdriver.remote.webelement.WebElement (session=\"084760ce81140b1b252d7a66843d2acd\", element=\"ff644d73-f32d-4afe-b454-6b37575c49ef\")>,\n",
       " <selenium.webdriver.remote.webelement.WebElement (session=\"084760ce81140b1b252d7a66843d2acd\", element=\"4ac2f285-219c-489b-83dc-c8193cd76ecf\")>,\n",
       " <selenium.webdriver.remote.webelement.WebElement (session=\"084760ce81140b1b252d7a66843d2acd\", element=\"2be5f5ed-2341-44a9-ae20-aed047fb3f35\")>,\n",
       " <selenium.webdriver.remote.webelement.WebElement (session=\"084760ce81140b1b252d7a66843d2acd\", element=\"483078a4-50ae-489a-b2e2-14deee79b3e2\")>,\n",
       " <selenium.webdriver.remote.webelement.WebElement (session=\"084760ce81140b1b252d7a66843d2acd\", element=\"bb567b4a-243f-4421-963c-c3fa0400061d\")>,\n",
       " <selenium.webdriver.remote.webelement.WebElement (session=\"084760ce81140b1b252d7a66843d2acd\", element=\"393d7f7c-0045-4f75-a9d1-4721ffcd08a5\")>,\n",
       " <selenium.webdriver.remote.webelement.WebElement (session=\"084760ce81140b1b252d7a66843d2acd\", element=\"126d5cf0-02ca-45cf-90da-ab8c40c7e68f\")>,\n",
       " <selenium.webdriver.remote.webelement.WebElement (session=\"084760ce81140b1b252d7a66843d2acd\", element=\"a9afca17-53f5-437a-9314-aac7035aaeaa\")>,\n",
       " <selenium.webdriver.remote.webelement.WebElement (session=\"084760ce81140b1b252d7a66843d2acd\", element=\"ddce97c9-e7c3-497f-bef7-07bba406b4d3\")>,\n",
       " <selenium.webdriver.remote.webelement.WebElement (session=\"084760ce81140b1b252d7a66843d2acd\", element=\"b975bca3-308c-465c-81df-16009abe5612\")>,\n",
       " <selenium.webdriver.remote.webelement.WebElement (session=\"084760ce81140b1b252d7a66843d2acd\", element=\"90e7b383-6fa4-4d80-8d1f-35cab41bea5b\")>,\n",
       " <selenium.webdriver.remote.webelement.WebElement (session=\"084760ce81140b1b252d7a66843d2acd\", element=\"2fb1b3a1-9119-45e5-9b63-686ac6b65905\")>,\n",
       " <selenium.webdriver.remote.webelement.WebElement (session=\"084760ce81140b1b252d7a66843d2acd\", element=\"42bb230d-d11c-4cc9-a6fb-1507c709681e\")>,\n",
       " <selenium.webdriver.remote.webelement.WebElement (session=\"084760ce81140b1b252d7a66843d2acd\", element=\"644d4fcf-a7d6-4f3e-b120-d337a202eb49\")>,\n",
       " <selenium.webdriver.remote.webelement.WebElement (session=\"084760ce81140b1b252d7a66843d2acd\", element=\"f7cd7755-6665-4054-95f9-b5a87584294e\")>,\n",
       " <selenium.webdriver.remote.webelement.WebElement (session=\"084760ce81140b1b252d7a66843d2acd\", element=\"21844b28-5cce-4543-a721-54905d58f153\")>,\n",
       " <selenium.webdriver.remote.webelement.WebElement (session=\"084760ce81140b1b252d7a66843d2acd\", element=\"1c70819c-0f8a-4898-987a-13343bbc9af2\")>,\n",
       " <selenium.webdriver.remote.webelement.WebElement (session=\"084760ce81140b1b252d7a66843d2acd\", element=\"cc6fe697-1e8d-4284-bd48-b1c961802274\")>,\n",
       " <selenium.webdriver.remote.webelement.WebElement (session=\"084760ce81140b1b252d7a66843d2acd\", element=\"8334725a-7364-4a39-9421-694a66c77f04\")>,\n",
       " <selenium.webdriver.remote.webelement.WebElement (session=\"084760ce81140b1b252d7a66843d2acd\", element=\"e48b8fd0-7ec5-451c-91a7-1848833deba1\")>,\n",
       " <selenium.webdriver.remote.webelement.WebElement (session=\"084760ce81140b1b252d7a66843d2acd\", element=\"77906909-1cbe-43a4-9193-c77770a994d3\")>,\n",
       " <selenium.webdriver.remote.webelement.WebElement (session=\"084760ce81140b1b252d7a66843d2acd\", element=\"26803223-2296-493c-a29c-cdbc1b4b6e19\")>,\n",
       " <selenium.webdriver.remote.webelement.WebElement (session=\"084760ce81140b1b252d7a66843d2acd\", element=\"0e172eac-5b4d-4fa5-9cfb-55e80d77e2f7\")>,\n",
       " <selenium.webdriver.remote.webelement.WebElement (session=\"084760ce81140b1b252d7a66843d2acd\", element=\"e6e8df7b-b0c4-44d6-92fe-7886a67182e2\")>,\n",
       " <selenium.webdriver.remote.webelement.WebElement (session=\"084760ce81140b1b252d7a66843d2acd\", element=\"7883b96f-9b68-4e5a-a77d-161277e2f072\")>,\n",
       " <selenium.webdriver.remote.webelement.WebElement (session=\"084760ce81140b1b252d7a66843d2acd\", element=\"819b66af-bfb6-47d4-ad62-43257e8640b7\")>,\n",
       " <selenium.webdriver.remote.webelement.WebElement (session=\"084760ce81140b1b252d7a66843d2acd\", element=\"a4de2303-5d93-45a0-b63b-03304fe200de\")>,\n",
       " <selenium.webdriver.remote.webelement.WebElement (session=\"084760ce81140b1b252d7a66843d2acd\", element=\"e0a9dc84-24da-453c-b55b-89cf496f9e00\")>,\n",
       " <selenium.webdriver.remote.webelement.WebElement (session=\"084760ce81140b1b252d7a66843d2acd\", element=\"a0a7fa8b-f50d-4480-9ed5-2949ca6402f2\")>,\n",
       " <selenium.webdriver.remote.webelement.WebElement (session=\"084760ce81140b1b252d7a66843d2acd\", element=\"204e586d-0d85-4273-9163-fb3fe843267e\")>,\n",
       " <selenium.webdriver.remote.webelement.WebElement (session=\"084760ce81140b1b252d7a66843d2acd\", element=\"0d09f63a-3d9e-47b1-b64b-92d3e83a6cfe\")>,\n",
       " <selenium.webdriver.remote.webelement.WebElement (session=\"084760ce81140b1b252d7a66843d2acd\", element=\"3f71d862-2f48-4601-a034-841310597246\")>,\n",
       " <selenium.webdriver.remote.webelement.WebElement (session=\"084760ce81140b1b252d7a66843d2acd\", element=\"710a60a4-741a-4c9f-938c-593eba343a23\")>,\n",
       " <selenium.webdriver.remote.webelement.WebElement (session=\"084760ce81140b1b252d7a66843d2acd\", element=\"bd322dcf-dfba-42ef-99e3-c23491d7cc2f\")>,\n",
       " <selenium.webdriver.remote.webelement.WebElement (session=\"084760ce81140b1b252d7a66843d2acd\", element=\"7fad9445-cdad-43fc-aec5-5aa320b7afbd\")>,\n",
       " <selenium.webdriver.remote.webelement.WebElement (session=\"084760ce81140b1b252d7a66843d2acd\", element=\"c5033a4e-2773-4b6a-99e1-fa6eabf180ee\")>,\n",
       " <selenium.webdriver.remote.webelement.WebElement (session=\"084760ce81140b1b252d7a66843d2acd\", element=\"6085866f-c55d-4cb7-a478-3f4d24d0cab0\")>,\n",
       " <selenium.webdriver.remote.webelement.WebElement (session=\"084760ce81140b1b252d7a66843d2acd\", element=\"55033e6d-e7bb-4632-8305-af2b92ddc55f\")>]"
      ]
     },
     "execution_count": 35,
     "metadata": {},
     "output_type": "execute_result"
    }
   ],
   "source": [
    "colour_tags=driver.find_elements_by_xpath('//tr[@class=\"_1s_Smc row\"]')\n",
    "colour_tags"
   ]
  },
  {
   "cell_type": "code",
   "execution_count": 37,
   "id": "e97c1434",
   "metadata": {},
   "outputs": [
    {
     "ename": "IndentationError",
     "evalue": "unindent does not match any outer indentation level (<tokenize>, line 7)",
     "output_type": "error",
     "traceback": [
      "\u001b[1;36m  File \u001b[1;32m\"<tokenize>\"\u001b[1;36m, line \u001b[1;32m7\u001b[0m\n\u001b[1;33m    except NoSuchElementException:\u001b[0m\n\u001b[1;37m    ^\u001b[0m\n\u001b[1;31mIndentationError\u001b[0m\u001b[1;31m:\u001b[0m unindent does not match any outer indentation level\n"
     ]
    }
   ],
   "source": [
    "try:\n",
    "\n",
    "        color = driver.find_element_by_xpath('//div[@class=\"_3k-BhJ\"][1]/table/tbody/tr[4]/td[2]/ul/li')      # Extracting colour from xpath\n",
    "\n",
    "        flip_dict['Colour'].append(color.text)\n",
    "\n",
    "    except NoSuchElementException:\n",
    "\n",
    "        flip_dict['Colour'].append('-')"
   ]
  },
  {
   "cell_type": "code",
   "execution_count": 16,
   "id": "d127b968",
   "metadata": {},
   "outputs": [
    {
     "data": {
      "text/plain": [
       "['In The Box\\nHandset, Power Adapter, Micro-USB Cable, SIM Ejector Tool, User Guide and Warranty Card',\n",
       " 'Model Number\\nMZB0A0KIN',\n",
       " 'Model Name\\nC31',\n",
       " 'Color\\nRoyal Blue',\n",
       " 'Browse Type\\nSmartphones',\n",
       " 'SIM Type\\nDual Sim',\n",
       " 'Hybrid Sim Slot\\nNo',\n",
       " 'Touchscreen\\nYes',\n",
       " '',\n",
       " '',\n",
       " '',\n",
       " '',\n",
       " '',\n",
       " '',\n",
       " '',\n",
       " '',\n",
       " '',\n",
       " '',\n",
       " '',\n",
       " '',\n",
       " '',\n",
       " '',\n",
       " '',\n",
       " '',\n",
       " '',\n",
       " '',\n",
       " '',\n",
       " '',\n",
       " '',\n",
       " '',\n",
       " '',\n",
       " '',\n",
       " '',\n",
       " '',\n",
       " '',\n",
       " '',\n",
       " '',\n",
       " '',\n",
       " '',\n",
       " '',\n",
       " '',\n",
       " '',\n",
       " '',\n",
       " '',\n",
       " '',\n",
       " '',\n",
       " '',\n",
       " '',\n",
       " '',\n",
       " '',\n",
       " '',\n",
       " '',\n",
       " '',\n",
       " '',\n",
       " '',\n",
       " '',\n",
       " '',\n",
       " '',\n",
       " '',\n",
       " '',\n",
       " '',\n",
       " '',\n",
       " '',\n",
       " '',\n",
       " '',\n",
       " '',\n",
       " '',\n",
       " '',\n",
       " '',\n",
       " '',\n",
       " '',\n",
       " '',\n",
       " '']"
      ]
     },
     "execution_count": 16,
     "metadata": {},
     "output_type": "execute_result"
    }
   ],
   "source": [
    "for i in colour_tags:\n",
    "    title=i.text\n",
    "    colour_titles.append(title)\n",
    "colour_titles\n",
    "    \n",
    "    "
   ]
  },
  {
   "cell_type": "code",
   "execution_count": 17,
   "id": "05bc78e3",
   "metadata": {},
   "outputs": [
    {
     "data": {
      "text/plain": [
       "[<selenium.webdriver.remote.webelement.WebElement (session=\"084760ce81140b1b252d7a66843d2acd\", element=\"021f8738-698c-45f9-bb2f-fa1d2b42a4ee\")>,\n",
       " <selenium.webdriver.remote.webelement.WebElement (session=\"084760ce81140b1b252d7a66843d2acd\", element=\"aa6ef534-8d59-416c-882e-d16a9ef446bc\")>,\n",
       " <selenium.webdriver.remote.webelement.WebElement (session=\"084760ce81140b1b252d7a66843d2acd\", element=\"fa401f9a-7057-4dc1-a088-44176d7df5b0\")>,\n",
       " <selenium.webdriver.remote.webelement.WebElement (session=\"084760ce81140b1b252d7a66843d2acd\", element=\"46df8a67-e036-43af-8811-3ee1f63133d1\")>,\n",
       " <selenium.webdriver.remote.webelement.WebElement (session=\"084760ce81140b1b252d7a66843d2acd\", element=\"09447064-0977-4fbc-8576-afb2b43f2de4\")>,\n",
       " <selenium.webdriver.remote.webelement.WebElement (session=\"084760ce81140b1b252d7a66843d2acd\", element=\"ba65c2a7-bf9a-477a-b484-bb2cf99e52e7\")>,\n",
       " <selenium.webdriver.remote.webelement.WebElement (session=\"084760ce81140b1b252d7a66843d2acd\", element=\"998a7026-23cf-4292-b7f7-657c71123fc9\")>,\n",
       " <selenium.webdriver.remote.webelement.WebElement (session=\"084760ce81140b1b252d7a66843d2acd\", element=\"ec07d84d-a221-4ae4-b4ba-c412ad970ee9\")>,\n",
       " <selenium.webdriver.remote.webelement.WebElement (session=\"084760ce81140b1b252d7a66843d2acd\", element=\"64f6e7a6-259e-4625-be37-759a05c9e846\")>,\n",
       " <selenium.webdriver.remote.webelement.WebElement (session=\"084760ce81140b1b252d7a66843d2acd\", element=\"933ebad0-ad6e-44f8-a760-ac332431d9f4\")>,\n",
       " <selenium.webdriver.remote.webelement.WebElement (session=\"084760ce81140b1b252d7a66843d2acd\", element=\"3606f734-00d7-431f-981d-7428aeda96c4\")>,\n",
       " <selenium.webdriver.remote.webelement.WebElement (session=\"084760ce81140b1b252d7a66843d2acd\", element=\"fef2b616-e4b6-43fb-a4ed-05534a247c14\")>,\n",
       " <selenium.webdriver.remote.webelement.WebElement (session=\"084760ce81140b1b252d7a66843d2acd\", element=\"7cd3f79d-b733-4dfb-baa2-08287bc085cb\")>,\n",
       " <selenium.webdriver.remote.webelement.WebElement (session=\"084760ce81140b1b252d7a66843d2acd\", element=\"6b5e30de-02f2-4304-953a-d04e998a9fb3\")>,\n",
       " <selenium.webdriver.remote.webelement.WebElement (session=\"084760ce81140b1b252d7a66843d2acd\", element=\"540d59b9-0e8d-4dfa-adf3-6204ec843b65\")>,\n",
       " <selenium.webdriver.remote.webelement.WebElement (session=\"084760ce81140b1b252d7a66843d2acd\", element=\"f5ba6f04-1815-4e77-9672-3d3cf9bb7a5b\")>,\n",
       " <selenium.webdriver.remote.webelement.WebElement (session=\"084760ce81140b1b252d7a66843d2acd\", element=\"e9439077-1ecb-4426-acd7-64407a2b7c6b\")>,\n",
       " <selenium.webdriver.remote.webelement.WebElement (session=\"084760ce81140b1b252d7a66843d2acd\", element=\"495ddcb5-3d30-42f0-9699-404e8f747c8c\")>,\n",
       " <selenium.webdriver.remote.webelement.WebElement (session=\"084760ce81140b1b252d7a66843d2acd\", element=\"9ac2808b-9d28-45f5-b0b8-9fc299356957\")>,\n",
       " <selenium.webdriver.remote.webelement.WebElement (session=\"084760ce81140b1b252d7a66843d2acd\", element=\"451c3e70-8793-43af-ba61-7c604c4a7d7f\")>,\n",
       " <selenium.webdriver.remote.webelement.WebElement (session=\"084760ce81140b1b252d7a66843d2acd\", element=\"b4cdabdb-5eac-40c5-bd76-01ca809ff0c3\")>,\n",
       " <selenium.webdriver.remote.webelement.WebElement (session=\"084760ce81140b1b252d7a66843d2acd\", element=\"619817a6-b5a5-444e-8306-301a528e24b9\")>,\n",
       " <selenium.webdriver.remote.webelement.WebElement (session=\"084760ce81140b1b252d7a66843d2acd\", element=\"42550aac-c1ef-47fa-a668-51f00ead6939\")>,\n",
       " <selenium.webdriver.remote.webelement.WebElement (session=\"084760ce81140b1b252d7a66843d2acd\", element=\"7f00f23d-c899-4b67-a691-24b4351f382d\")>,\n",
       " <selenium.webdriver.remote.webelement.WebElement (session=\"084760ce81140b1b252d7a66843d2acd\", element=\"07c0dd03-b715-45f6-a3b8-416c5e9afb8a\")>,\n",
       " <selenium.webdriver.remote.webelement.WebElement (session=\"084760ce81140b1b252d7a66843d2acd\", element=\"d57b563d-5600-4de9-b8a6-80d7276014d4\")>,\n",
       " <selenium.webdriver.remote.webelement.WebElement (session=\"084760ce81140b1b252d7a66843d2acd\", element=\"57b661bb-13f9-4d05-8782-cbf3f09275d2\")>,\n",
       " <selenium.webdriver.remote.webelement.WebElement (session=\"084760ce81140b1b252d7a66843d2acd\", element=\"ce97017f-adb2-46c0-bd2e-39bc05e07dd4\")>,\n",
       " <selenium.webdriver.remote.webelement.WebElement (session=\"084760ce81140b1b252d7a66843d2acd\", element=\"84d7ccea-f886-4cf3-a63a-204c76ea14b4\")>,\n",
       " <selenium.webdriver.remote.webelement.WebElement (session=\"084760ce81140b1b252d7a66843d2acd\", element=\"7824ad58-ed89-43b1-bf4b-5d2a7644884f\")>,\n",
       " <selenium.webdriver.remote.webelement.WebElement (session=\"084760ce81140b1b252d7a66843d2acd\", element=\"43271868-f758-4ec0-8e38-76e1b44a9a8c\")>,\n",
       " <selenium.webdriver.remote.webelement.WebElement (session=\"084760ce81140b1b252d7a66843d2acd\", element=\"12e88f88-7432-45f9-8b73-1239644e657a\")>,\n",
       " <selenium.webdriver.remote.webelement.WebElement (session=\"084760ce81140b1b252d7a66843d2acd\", element=\"152ad5b3-ea48-4d69-96d0-3b60eac06226\")>,\n",
       " <selenium.webdriver.remote.webelement.WebElement (session=\"084760ce81140b1b252d7a66843d2acd\", element=\"abd53775-5cc5-4201-bf80-574ed8cc16e4\")>,\n",
       " <selenium.webdriver.remote.webelement.WebElement (session=\"084760ce81140b1b252d7a66843d2acd\", element=\"67111ca7-d5b0-4bd7-8a41-070ae94bafd7\")>,\n",
       " <selenium.webdriver.remote.webelement.WebElement (session=\"084760ce81140b1b252d7a66843d2acd\", element=\"e50a71aa-41df-441b-b4d9-86cfb50f94f1\")>,\n",
       " <selenium.webdriver.remote.webelement.WebElement (session=\"084760ce81140b1b252d7a66843d2acd\", element=\"5447b371-8b17-430d-abd6-e6b01cfe20ff\")>,\n",
       " <selenium.webdriver.remote.webelement.WebElement (session=\"084760ce81140b1b252d7a66843d2acd\", element=\"c05a5e92-1285-4908-95cf-b8046239098c\")>,\n",
       " <selenium.webdriver.remote.webelement.WebElement (session=\"084760ce81140b1b252d7a66843d2acd\", element=\"fd771c79-a720-4d7a-a526-c24f1c9f4b34\")>,\n",
       " <selenium.webdriver.remote.webelement.WebElement (session=\"084760ce81140b1b252d7a66843d2acd\", element=\"6920752b-67f8-4762-94ff-90dc6c72c0d1\")>,\n",
       " <selenium.webdriver.remote.webelement.WebElement (session=\"084760ce81140b1b252d7a66843d2acd\", element=\"29b97170-d2e2-4e76-ad3c-690b649b6fd8\")>,\n",
       " <selenium.webdriver.remote.webelement.WebElement (session=\"084760ce81140b1b252d7a66843d2acd\", element=\"c6d6b004-18f7-4df0-b9fd-d374bd88649f\")>,\n",
       " <selenium.webdriver.remote.webelement.WebElement (session=\"084760ce81140b1b252d7a66843d2acd\", element=\"05f7c51f-09ab-4626-bc11-f8d60c9955cb\")>,\n",
       " <selenium.webdriver.remote.webelement.WebElement (session=\"084760ce81140b1b252d7a66843d2acd\", element=\"81565faa-6c46-4157-84e5-db9c839ece11\")>,\n",
       " <selenium.webdriver.remote.webelement.WebElement (session=\"084760ce81140b1b252d7a66843d2acd\", element=\"8a9460ee-d340-43ab-b232-7afb7f4556c0\")>,\n",
       " <selenium.webdriver.remote.webelement.WebElement (session=\"084760ce81140b1b252d7a66843d2acd\", element=\"449b6d41-4cfc-4be6-805f-7b8db086e434\")>,\n",
       " <selenium.webdriver.remote.webelement.WebElement (session=\"084760ce81140b1b252d7a66843d2acd\", element=\"fb305f63-0c5f-4a76-ab30-37249ab2e424\")>,\n",
       " <selenium.webdriver.remote.webelement.WebElement (session=\"084760ce81140b1b252d7a66843d2acd\", element=\"e901a9a4-82b9-435c-9bfd-468ad763c171\")>,\n",
       " <selenium.webdriver.remote.webelement.WebElement (session=\"084760ce81140b1b252d7a66843d2acd\", element=\"aaaf5805-6af6-4498-901d-8318991fbc38\")>,\n",
       " <selenium.webdriver.remote.webelement.WebElement (session=\"084760ce81140b1b252d7a66843d2acd\", element=\"55c85dd8-1666-4faa-bb06-e73d0675564a\")>,\n",
       " <selenium.webdriver.remote.webelement.WebElement (session=\"084760ce81140b1b252d7a66843d2acd\", element=\"ed0e52fb-81e5-4514-83c9-2b106af293ad\")>,\n",
       " <selenium.webdriver.remote.webelement.WebElement (session=\"084760ce81140b1b252d7a66843d2acd\", element=\"14027781-c229-4874-b082-6ee09fd57f48\")>,\n",
       " <selenium.webdriver.remote.webelement.WebElement (session=\"084760ce81140b1b252d7a66843d2acd\", element=\"d45c8add-2df7-41c8-b8a7-18e839f8c0bf\")>,\n",
       " <selenium.webdriver.remote.webelement.WebElement (session=\"084760ce81140b1b252d7a66843d2acd\", element=\"774ef4d2-b157-4a3c-8c0f-0f907e44ef18\")>,\n",
       " <selenium.webdriver.remote.webelement.WebElement (session=\"084760ce81140b1b252d7a66843d2acd\", element=\"171ed98e-c96b-4fb4-ae2b-5f5318ac54cf\")>,\n",
       " <selenium.webdriver.remote.webelement.WebElement (session=\"084760ce81140b1b252d7a66843d2acd\", element=\"d5810d38-6916-4f42-8da8-f75f34001860\")>,\n",
       " <selenium.webdriver.remote.webelement.WebElement (session=\"084760ce81140b1b252d7a66843d2acd\", element=\"559a08cb-0e5c-42a7-a6a0-69c87b34e124\")>,\n",
       " <selenium.webdriver.remote.webelement.WebElement (session=\"084760ce81140b1b252d7a66843d2acd\", element=\"fb436cda-0085-4534-b485-a25fb4047ab7\")>,\n",
       " <selenium.webdriver.remote.webelement.WebElement (session=\"084760ce81140b1b252d7a66843d2acd\", element=\"73a53a9e-8b47-4db7-b101-c49d9cd8f085\")>,\n",
       " <selenium.webdriver.remote.webelement.WebElement (session=\"084760ce81140b1b252d7a66843d2acd\", element=\"58bde0ae-6ddf-4f62-909e-50dd10d096fb\")>,\n",
       " <selenium.webdriver.remote.webelement.WebElement (session=\"084760ce81140b1b252d7a66843d2acd\", element=\"a50655bb-0487-4e54-92c2-345c22d6af27\")>,\n",
       " <selenium.webdriver.remote.webelement.WebElement (session=\"084760ce81140b1b252d7a66843d2acd\", element=\"dad4e70a-5612-44c8-a3a0-12ca5094d7cb\")>,\n",
       " <selenium.webdriver.remote.webelement.WebElement (session=\"084760ce81140b1b252d7a66843d2acd\", element=\"c02a5e53-6396-42d8-aad7-e06a43f48f0f\")>,\n",
       " <selenium.webdriver.remote.webelement.WebElement (session=\"084760ce81140b1b252d7a66843d2acd\", element=\"ba7e3f35-2ddf-4fbe-ad00-4d729c792931\")>,\n",
       " <selenium.webdriver.remote.webelement.WebElement (session=\"084760ce81140b1b252d7a66843d2acd\", element=\"65c8f9d3-929d-4eef-b411-6dfdc04c1036\")>,\n",
       " <selenium.webdriver.remote.webelement.WebElement (session=\"084760ce81140b1b252d7a66843d2acd\", element=\"16eae397-e5a1-4879-ae5d-cf10c4bed13a\")>,\n",
       " <selenium.webdriver.remote.webelement.WebElement (session=\"084760ce81140b1b252d7a66843d2acd\", element=\"32c1aa74-6ac4-4180-b0a5-646eb117fdf9\")>,\n",
       " <selenium.webdriver.remote.webelement.WebElement (session=\"084760ce81140b1b252d7a66843d2acd\", element=\"8128ba56-2d07-4778-b711-d07dcd4a8cac\")>,\n",
       " <selenium.webdriver.remote.webelement.WebElement (session=\"084760ce81140b1b252d7a66843d2acd\", element=\"162b40f0-f4c6-48e4-a5f4-29010c9b7aad\")>,\n",
       " <selenium.webdriver.remote.webelement.WebElement (session=\"084760ce81140b1b252d7a66843d2acd\", element=\"6cefae45-33e2-44e6-ba01-a8095a3f9cea\")>,\n",
       " <selenium.webdriver.remote.webelement.WebElement (session=\"084760ce81140b1b252d7a66843d2acd\", element=\"c19e17c5-b76e-4661-958c-77236a7915e2\")>,\n",
       " <selenium.webdriver.remote.webelement.WebElement (session=\"084760ce81140b1b252d7a66843d2acd\", element=\"74c81fab-1c6d-4d22-be63-e8b925a74ef5\")>,\n",
       " <selenium.webdriver.remote.webelement.WebElement (session=\"084760ce81140b1b252d7a66843d2acd\", element=\"65515940-ef1e-4947-943d-3054032ef2ea\")>]"
      ]
     },
     "execution_count": 17,
     "metadata": {},
     "output_type": "execute_result"
    }
   ],
   "source": [
    "ram_tags=driver.find_elements_by_xpath('//td[@class=\"_1hKmbr col col-3-12\"]')\n",
    "ram_tags"
   ]
  },
  {
   "cell_type": "code",
   "execution_count": 22,
   "id": "2b1a6e4d",
   "metadata": {},
   "outputs": [
    {
     "data": {
      "text/plain": [
       "['In The Box',\n",
       " 'Model Number',\n",
       " 'Model Name',\n",
       " 'Color',\n",
       " 'Browse Type',\n",
       " 'SIM Type',\n",
       " 'Hybrid Sim Slot',\n",
       " 'Touchscreen',\n",
       " '',\n",
       " '',\n",
       " '',\n",
       " '',\n",
       " '',\n",
       " '',\n",
       " '',\n",
       " '',\n",
       " '',\n",
       " '',\n",
       " '',\n",
       " '',\n",
       " '',\n",
       " '',\n",
       " '',\n",
       " '',\n",
       " '',\n",
       " '',\n",
       " '',\n",
       " '',\n",
       " '',\n",
       " '',\n",
       " '',\n",
       " '',\n",
       " '',\n",
       " '',\n",
       " '',\n",
       " '',\n",
       " '',\n",
       " '',\n",
       " '',\n",
       " '',\n",
       " '',\n",
       " '',\n",
       " '',\n",
       " '',\n",
       " '',\n",
       " '',\n",
       " '',\n",
       " '',\n",
       " '',\n",
       " '',\n",
       " '',\n",
       " '',\n",
       " '',\n",
       " '',\n",
       " '',\n",
       " '',\n",
       " '',\n",
       " '',\n",
       " '',\n",
       " '',\n",
       " '',\n",
       " '',\n",
       " '',\n",
       " '',\n",
       " '',\n",
       " '',\n",
       " '',\n",
       " '',\n",
       " '',\n",
       " '',\n",
       " '',\n",
       " '',\n",
       " '',\n",
       " 'In The Box',\n",
       " 'Model Number',\n",
       " 'Model Name',\n",
       " 'Color',\n",
       " 'Browse Type',\n",
       " 'SIM Type',\n",
       " 'Hybrid Sim Slot',\n",
       " 'Touchscreen',\n",
       " '',\n",
       " '',\n",
       " '',\n",
       " '',\n",
       " '',\n",
       " '',\n",
       " '',\n",
       " '',\n",
       " '',\n",
       " '',\n",
       " '',\n",
       " '',\n",
       " '',\n",
       " '',\n",
       " '',\n",
       " '',\n",
       " '',\n",
       " '',\n",
       " '',\n",
       " '',\n",
       " '',\n",
       " '',\n",
       " '',\n",
       " '',\n",
       " '',\n",
       " '',\n",
       " '',\n",
       " '',\n",
       " '',\n",
       " '',\n",
       " '',\n",
       " '',\n",
       " '',\n",
       " '',\n",
       " '',\n",
       " '',\n",
       " '',\n",
       " '',\n",
       " '',\n",
       " '',\n",
       " '',\n",
       " '',\n",
       " '',\n",
       " '',\n",
       " '',\n",
       " '',\n",
       " '',\n",
       " '',\n",
       " '',\n",
       " '',\n",
       " '',\n",
       " '',\n",
       " '',\n",
       " '',\n",
       " '',\n",
       " '',\n",
       " '',\n",
       " '',\n",
       " '',\n",
       " '',\n",
       " '',\n",
       " '',\n",
       " '',\n",
       " '',\n",
       " '']"
      ]
     },
     "execution_count": 22,
     "metadata": {},
     "output_type": "execute_result"
    }
   ],
   "source": [
    "for i in ram_tags:\n",
    "    title=i.text\n",
    "    ram_titles.append(title)\n",
    "ram_titles"
   ]
  },
  {
   "cell_type": "code",
   "execution_count": 19,
   "id": "75cfd80d",
   "metadata": {},
   "outputs": [
    {
     "data": {
      "text/plain": [
       "[<selenium.webdriver.remote.webelement.WebElement (session=\"084760ce81140b1b252d7a66843d2acd\", element=\"021f8738-698c-45f9-bb2f-fa1d2b42a4ee\")>,\n",
       " <selenium.webdriver.remote.webelement.WebElement (session=\"084760ce81140b1b252d7a66843d2acd\", element=\"aa6ef534-8d59-416c-882e-d16a9ef446bc\")>,\n",
       " <selenium.webdriver.remote.webelement.WebElement (session=\"084760ce81140b1b252d7a66843d2acd\", element=\"fa401f9a-7057-4dc1-a088-44176d7df5b0\")>,\n",
       " <selenium.webdriver.remote.webelement.WebElement (session=\"084760ce81140b1b252d7a66843d2acd\", element=\"46df8a67-e036-43af-8811-3ee1f63133d1\")>,\n",
       " <selenium.webdriver.remote.webelement.WebElement (session=\"084760ce81140b1b252d7a66843d2acd\", element=\"09447064-0977-4fbc-8576-afb2b43f2de4\")>,\n",
       " <selenium.webdriver.remote.webelement.WebElement (session=\"084760ce81140b1b252d7a66843d2acd\", element=\"ba65c2a7-bf9a-477a-b484-bb2cf99e52e7\")>,\n",
       " <selenium.webdriver.remote.webelement.WebElement (session=\"084760ce81140b1b252d7a66843d2acd\", element=\"998a7026-23cf-4292-b7f7-657c71123fc9\")>,\n",
       " <selenium.webdriver.remote.webelement.WebElement (session=\"084760ce81140b1b252d7a66843d2acd\", element=\"ec07d84d-a221-4ae4-b4ba-c412ad970ee9\")>,\n",
       " <selenium.webdriver.remote.webelement.WebElement (session=\"084760ce81140b1b252d7a66843d2acd\", element=\"64f6e7a6-259e-4625-be37-759a05c9e846\")>,\n",
       " <selenium.webdriver.remote.webelement.WebElement (session=\"084760ce81140b1b252d7a66843d2acd\", element=\"933ebad0-ad6e-44f8-a760-ac332431d9f4\")>,\n",
       " <selenium.webdriver.remote.webelement.WebElement (session=\"084760ce81140b1b252d7a66843d2acd\", element=\"3606f734-00d7-431f-981d-7428aeda96c4\")>,\n",
       " <selenium.webdriver.remote.webelement.WebElement (session=\"084760ce81140b1b252d7a66843d2acd\", element=\"fef2b616-e4b6-43fb-a4ed-05534a247c14\")>,\n",
       " <selenium.webdriver.remote.webelement.WebElement (session=\"084760ce81140b1b252d7a66843d2acd\", element=\"7cd3f79d-b733-4dfb-baa2-08287bc085cb\")>,\n",
       " <selenium.webdriver.remote.webelement.WebElement (session=\"084760ce81140b1b252d7a66843d2acd\", element=\"6b5e30de-02f2-4304-953a-d04e998a9fb3\")>,\n",
       " <selenium.webdriver.remote.webelement.WebElement (session=\"084760ce81140b1b252d7a66843d2acd\", element=\"540d59b9-0e8d-4dfa-adf3-6204ec843b65\")>,\n",
       " <selenium.webdriver.remote.webelement.WebElement (session=\"084760ce81140b1b252d7a66843d2acd\", element=\"f5ba6f04-1815-4e77-9672-3d3cf9bb7a5b\")>,\n",
       " <selenium.webdriver.remote.webelement.WebElement (session=\"084760ce81140b1b252d7a66843d2acd\", element=\"e9439077-1ecb-4426-acd7-64407a2b7c6b\")>,\n",
       " <selenium.webdriver.remote.webelement.WebElement (session=\"084760ce81140b1b252d7a66843d2acd\", element=\"495ddcb5-3d30-42f0-9699-404e8f747c8c\")>,\n",
       " <selenium.webdriver.remote.webelement.WebElement (session=\"084760ce81140b1b252d7a66843d2acd\", element=\"9ac2808b-9d28-45f5-b0b8-9fc299356957\")>,\n",
       " <selenium.webdriver.remote.webelement.WebElement (session=\"084760ce81140b1b252d7a66843d2acd\", element=\"451c3e70-8793-43af-ba61-7c604c4a7d7f\")>,\n",
       " <selenium.webdriver.remote.webelement.WebElement (session=\"084760ce81140b1b252d7a66843d2acd\", element=\"b4cdabdb-5eac-40c5-bd76-01ca809ff0c3\")>,\n",
       " <selenium.webdriver.remote.webelement.WebElement (session=\"084760ce81140b1b252d7a66843d2acd\", element=\"619817a6-b5a5-444e-8306-301a528e24b9\")>,\n",
       " <selenium.webdriver.remote.webelement.WebElement (session=\"084760ce81140b1b252d7a66843d2acd\", element=\"42550aac-c1ef-47fa-a668-51f00ead6939\")>,\n",
       " <selenium.webdriver.remote.webelement.WebElement (session=\"084760ce81140b1b252d7a66843d2acd\", element=\"7f00f23d-c899-4b67-a691-24b4351f382d\")>,\n",
       " <selenium.webdriver.remote.webelement.WebElement (session=\"084760ce81140b1b252d7a66843d2acd\", element=\"07c0dd03-b715-45f6-a3b8-416c5e9afb8a\")>,\n",
       " <selenium.webdriver.remote.webelement.WebElement (session=\"084760ce81140b1b252d7a66843d2acd\", element=\"d57b563d-5600-4de9-b8a6-80d7276014d4\")>,\n",
       " <selenium.webdriver.remote.webelement.WebElement (session=\"084760ce81140b1b252d7a66843d2acd\", element=\"57b661bb-13f9-4d05-8782-cbf3f09275d2\")>,\n",
       " <selenium.webdriver.remote.webelement.WebElement (session=\"084760ce81140b1b252d7a66843d2acd\", element=\"ce97017f-adb2-46c0-bd2e-39bc05e07dd4\")>,\n",
       " <selenium.webdriver.remote.webelement.WebElement (session=\"084760ce81140b1b252d7a66843d2acd\", element=\"84d7ccea-f886-4cf3-a63a-204c76ea14b4\")>,\n",
       " <selenium.webdriver.remote.webelement.WebElement (session=\"084760ce81140b1b252d7a66843d2acd\", element=\"7824ad58-ed89-43b1-bf4b-5d2a7644884f\")>,\n",
       " <selenium.webdriver.remote.webelement.WebElement (session=\"084760ce81140b1b252d7a66843d2acd\", element=\"43271868-f758-4ec0-8e38-76e1b44a9a8c\")>,\n",
       " <selenium.webdriver.remote.webelement.WebElement (session=\"084760ce81140b1b252d7a66843d2acd\", element=\"12e88f88-7432-45f9-8b73-1239644e657a\")>,\n",
       " <selenium.webdriver.remote.webelement.WebElement (session=\"084760ce81140b1b252d7a66843d2acd\", element=\"152ad5b3-ea48-4d69-96d0-3b60eac06226\")>,\n",
       " <selenium.webdriver.remote.webelement.WebElement (session=\"084760ce81140b1b252d7a66843d2acd\", element=\"abd53775-5cc5-4201-bf80-574ed8cc16e4\")>,\n",
       " <selenium.webdriver.remote.webelement.WebElement (session=\"084760ce81140b1b252d7a66843d2acd\", element=\"67111ca7-d5b0-4bd7-8a41-070ae94bafd7\")>,\n",
       " <selenium.webdriver.remote.webelement.WebElement (session=\"084760ce81140b1b252d7a66843d2acd\", element=\"e50a71aa-41df-441b-b4d9-86cfb50f94f1\")>,\n",
       " <selenium.webdriver.remote.webelement.WebElement (session=\"084760ce81140b1b252d7a66843d2acd\", element=\"5447b371-8b17-430d-abd6-e6b01cfe20ff\")>,\n",
       " <selenium.webdriver.remote.webelement.WebElement (session=\"084760ce81140b1b252d7a66843d2acd\", element=\"c05a5e92-1285-4908-95cf-b8046239098c\")>,\n",
       " <selenium.webdriver.remote.webelement.WebElement (session=\"084760ce81140b1b252d7a66843d2acd\", element=\"fd771c79-a720-4d7a-a526-c24f1c9f4b34\")>,\n",
       " <selenium.webdriver.remote.webelement.WebElement (session=\"084760ce81140b1b252d7a66843d2acd\", element=\"6920752b-67f8-4762-94ff-90dc6c72c0d1\")>,\n",
       " <selenium.webdriver.remote.webelement.WebElement (session=\"084760ce81140b1b252d7a66843d2acd\", element=\"29b97170-d2e2-4e76-ad3c-690b649b6fd8\")>,\n",
       " <selenium.webdriver.remote.webelement.WebElement (session=\"084760ce81140b1b252d7a66843d2acd\", element=\"c6d6b004-18f7-4df0-b9fd-d374bd88649f\")>,\n",
       " <selenium.webdriver.remote.webelement.WebElement (session=\"084760ce81140b1b252d7a66843d2acd\", element=\"05f7c51f-09ab-4626-bc11-f8d60c9955cb\")>,\n",
       " <selenium.webdriver.remote.webelement.WebElement (session=\"084760ce81140b1b252d7a66843d2acd\", element=\"81565faa-6c46-4157-84e5-db9c839ece11\")>,\n",
       " <selenium.webdriver.remote.webelement.WebElement (session=\"084760ce81140b1b252d7a66843d2acd\", element=\"8a9460ee-d340-43ab-b232-7afb7f4556c0\")>,\n",
       " <selenium.webdriver.remote.webelement.WebElement (session=\"084760ce81140b1b252d7a66843d2acd\", element=\"449b6d41-4cfc-4be6-805f-7b8db086e434\")>,\n",
       " <selenium.webdriver.remote.webelement.WebElement (session=\"084760ce81140b1b252d7a66843d2acd\", element=\"fb305f63-0c5f-4a76-ab30-37249ab2e424\")>,\n",
       " <selenium.webdriver.remote.webelement.WebElement (session=\"084760ce81140b1b252d7a66843d2acd\", element=\"e901a9a4-82b9-435c-9bfd-468ad763c171\")>,\n",
       " <selenium.webdriver.remote.webelement.WebElement (session=\"084760ce81140b1b252d7a66843d2acd\", element=\"aaaf5805-6af6-4498-901d-8318991fbc38\")>,\n",
       " <selenium.webdriver.remote.webelement.WebElement (session=\"084760ce81140b1b252d7a66843d2acd\", element=\"55c85dd8-1666-4faa-bb06-e73d0675564a\")>,\n",
       " <selenium.webdriver.remote.webelement.WebElement (session=\"084760ce81140b1b252d7a66843d2acd\", element=\"ed0e52fb-81e5-4514-83c9-2b106af293ad\")>,\n",
       " <selenium.webdriver.remote.webelement.WebElement (session=\"084760ce81140b1b252d7a66843d2acd\", element=\"14027781-c229-4874-b082-6ee09fd57f48\")>,\n",
       " <selenium.webdriver.remote.webelement.WebElement (session=\"084760ce81140b1b252d7a66843d2acd\", element=\"d45c8add-2df7-41c8-b8a7-18e839f8c0bf\")>,\n",
       " <selenium.webdriver.remote.webelement.WebElement (session=\"084760ce81140b1b252d7a66843d2acd\", element=\"774ef4d2-b157-4a3c-8c0f-0f907e44ef18\")>,\n",
       " <selenium.webdriver.remote.webelement.WebElement (session=\"084760ce81140b1b252d7a66843d2acd\", element=\"171ed98e-c96b-4fb4-ae2b-5f5318ac54cf\")>,\n",
       " <selenium.webdriver.remote.webelement.WebElement (session=\"084760ce81140b1b252d7a66843d2acd\", element=\"d5810d38-6916-4f42-8da8-f75f34001860\")>,\n",
       " <selenium.webdriver.remote.webelement.WebElement (session=\"084760ce81140b1b252d7a66843d2acd\", element=\"559a08cb-0e5c-42a7-a6a0-69c87b34e124\")>,\n",
       " <selenium.webdriver.remote.webelement.WebElement (session=\"084760ce81140b1b252d7a66843d2acd\", element=\"fb436cda-0085-4534-b485-a25fb4047ab7\")>,\n",
       " <selenium.webdriver.remote.webelement.WebElement (session=\"084760ce81140b1b252d7a66843d2acd\", element=\"73a53a9e-8b47-4db7-b101-c49d9cd8f085\")>,\n",
       " <selenium.webdriver.remote.webelement.WebElement (session=\"084760ce81140b1b252d7a66843d2acd\", element=\"58bde0ae-6ddf-4f62-909e-50dd10d096fb\")>,\n",
       " <selenium.webdriver.remote.webelement.WebElement (session=\"084760ce81140b1b252d7a66843d2acd\", element=\"a50655bb-0487-4e54-92c2-345c22d6af27\")>,\n",
       " <selenium.webdriver.remote.webelement.WebElement (session=\"084760ce81140b1b252d7a66843d2acd\", element=\"dad4e70a-5612-44c8-a3a0-12ca5094d7cb\")>,\n",
       " <selenium.webdriver.remote.webelement.WebElement (session=\"084760ce81140b1b252d7a66843d2acd\", element=\"c02a5e53-6396-42d8-aad7-e06a43f48f0f\")>,\n",
       " <selenium.webdriver.remote.webelement.WebElement (session=\"084760ce81140b1b252d7a66843d2acd\", element=\"ba7e3f35-2ddf-4fbe-ad00-4d729c792931\")>,\n",
       " <selenium.webdriver.remote.webelement.WebElement (session=\"084760ce81140b1b252d7a66843d2acd\", element=\"65c8f9d3-929d-4eef-b411-6dfdc04c1036\")>,\n",
       " <selenium.webdriver.remote.webelement.WebElement (session=\"084760ce81140b1b252d7a66843d2acd\", element=\"16eae397-e5a1-4879-ae5d-cf10c4bed13a\")>,\n",
       " <selenium.webdriver.remote.webelement.WebElement (session=\"084760ce81140b1b252d7a66843d2acd\", element=\"32c1aa74-6ac4-4180-b0a5-646eb117fdf9\")>,\n",
       " <selenium.webdriver.remote.webelement.WebElement (session=\"084760ce81140b1b252d7a66843d2acd\", element=\"8128ba56-2d07-4778-b711-d07dcd4a8cac\")>,\n",
       " <selenium.webdriver.remote.webelement.WebElement (session=\"084760ce81140b1b252d7a66843d2acd\", element=\"162b40f0-f4c6-48e4-a5f4-29010c9b7aad\")>,\n",
       " <selenium.webdriver.remote.webelement.WebElement (session=\"084760ce81140b1b252d7a66843d2acd\", element=\"6cefae45-33e2-44e6-ba01-a8095a3f9cea\")>,\n",
       " <selenium.webdriver.remote.webelement.WebElement (session=\"084760ce81140b1b252d7a66843d2acd\", element=\"c19e17c5-b76e-4661-958c-77236a7915e2\")>,\n",
       " <selenium.webdriver.remote.webelement.WebElement (session=\"084760ce81140b1b252d7a66843d2acd\", element=\"74c81fab-1c6d-4d22-be63-e8b925a74ef5\")>,\n",
       " <selenium.webdriver.remote.webelement.WebElement (session=\"084760ce81140b1b252d7a66843d2acd\", element=\"65515940-ef1e-4947-943d-3054032ef2ea\")>]"
      ]
     },
     "execution_count": 19,
     "metadata": {},
     "output_type": "execute_result"
    }
   ],
   "source": [
    "storage_tags=driver.find_elements_by_xpath('//td[@class=\"_1hKmbr col col-3-12\"]')\n",
    "storage_tags"
   ]
  },
  {
   "cell_type": "code",
   "execution_count": 20,
   "id": "44fadf1e",
   "metadata": {},
   "outputs": [
    {
     "data": {
      "text/plain": [
       "['In The Box',\n",
       " 'Model Number',\n",
       " 'Model Name',\n",
       " 'Color',\n",
       " 'Browse Type',\n",
       " 'SIM Type',\n",
       " 'Hybrid Sim Slot',\n",
       " 'Touchscreen',\n",
       " '',\n",
       " '',\n",
       " '',\n",
       " '',\n",
       " '',\n",
       " '',\n",
       " '',\n",
       " '',\n",
       " '',\n",
       " '',\n",
       " '',\n",
       " '',\n",
       " '',\n",
       " '',\n",
       " '',\n",
       " '',\n",
       " '',\n",
       " '',\n",
       " '',\n",
       " '',\n",
       " '',\n",
       " '',\n",
       " '',\n",
       " '',\n",
       " '',\n",
       " '',\n",
       " '',\n",
       " '',\n",
       " '',\n",
       " '',\n",
       " '',\n",
       " '',\n",
       " '',\n",
       " '',\n",
       " '',\n",
       " '',\n",
       " '',\n",
       " '',\n",
       " '',\n",
       " '',\n",
       " '',\n",
       " '',\n",
       " '',\n",
       " '',\n",
       " '',\n",
       " '',\n",
       " '',\n",
       " '',\n",
       " '',\n",
       " '',\n",
       " '',\n",
       " '',\n",
       " '',\n",
       " '',\n",
       " '',\n",
       " '',\n",
       " '',\n",
       " '',\n",
       " '',\n",
       " '',\n",
       " '',\n",
       " '',\n",
       " '',\n",
       " '',\n",
       " '']"
      ]
     },
     "execution_count": 20,
     "metadata": {},
     "output_type": "execute_result"
    }
   ],
   "source": [
    "for i in storage_tags:\n",
    "    title=i.text\n",
    "    storage_rom.append(title)\n",
    "storage_rom"
   ]
  },
  {
   "cell_type": "code",
   "execution_count": 27,
   "id": "73155946",
   "metadata": {},
   "outputs": [
    {
     "data": {
      "text/plain": [
       "[<selenium.webdriver.remote.webelement.WebElement (session=\"084760ce81140b1b252d7a66843d2acd\", element=\"ac62c2f2-9f30-40c6-ae5f-256e0598f533\")>,\n",
       " <selenium.webdriver.remote.webelement.WebElement (session=\"084760ce81140b1b252d7a66843d2acd\", element=\"38ba3ce4-e34e-4986-8cb2-e6a6bb6aa676\")>,\n",
       " <selenium.webdriver.remote.webelement.WebElement (session=\"084760ce81140b1b252d7a66843d2acd\", element=\"b0179eca-bd3d-4911-a846-0b524dd55af3\")>,\n",
       " <selenium.webdriver.remote.webelement.WebElement (session=\"084760ce81140b1b252d7a66843d2acd\", element=\"3e3b8b2e-b672-46a2-9e91-bf92db6cc634\")>,\n",
       " <selenium.webdriver.remote.webelement.WebElement (session=\"084760ce81140b1b252d7a66843d2acd\", element=\"7cd47e77-afe5-4c3a-9aea-cbeb1f8bdeb1\")>,\n",
       " <selenium.webdriver.remote.webelement.WebElement (session=\"084760ce81140b1b252d7a66843d2acd\", element=\"aefc44ec-56a9-4531-91d6-30762a8be256\")>,\n",
       " <selenium.webdriver.remote.webelement.WebElement (session=\"084760ce81140b1b252d7a66843d2acd\", element=\"8fbb61e3-1e2a-4a7e-98bd-5f12395414b2\")>,\n",
       " <selenium.webdriver.remote.webelement.WebElement (session=\"084760ce81140b1b252d7a66843d2acd\", element=\"da129b0f-0eba-459b-b905-cf1d86a13038\")>,\n",
       " <selenium.webdriver.remote.webelement.WebElement (session=\"084760ce81140b1b252d7a66843d2acd\", element=\"3e639ae9-17e0-4616-8523-96f94706a689\")>,\n",
       " <selenium.webdriver.remote.webelement.WebElement (session=\"084760ce81140b1b252d7a66843d2acd\", element=\"b1586510-f303-4d35-9489-e0dda4c28f5c\")>,\n",
       " <selenium.webdriver.remote.webelement.WebElement (session=\"084760ce81140b1b252d7a66843d2acd\", element=\"73b70280-fe29-4b63-b222-12be82f04b24\")>,\n",
       " <selenium.webdriver.remote.webelement.WebElement (session=\"084760ce81140b1b252d7a66843d2acd\", element=\"17ffb3b4-17e5-431e-a81d-8d28ec57d6c8\")>,\n",
       " <selenium.webdriver.remote.webelement.WebElement (session=\"084760ce81140b1b252d7a66843d2acd\", element=\"c963d0f2-b970-48a7-9902-6e553f511eb2\")>,\n",
       " <selenium.webdriver.remote.webelement.WebElement (session=\"084760ce81140b1b252d7a66843d2acd\", element=\"08cfcc8c-a3b5-4395-944a-7a687287725b\")>,\n",
       " <selenium.webdriver.remote.webelement.WebElement (session=\"084760ce81140b1b252d7a66843d2acd\", element=\"a10d1fdd-bc90-4596-99ad-d2234cecd6d7\")>,\n",
       " <selenium.webdriver.remote.webelement.WebElement (session=\"084760ce81140b1b252d7a66843d2acd\", element=\"f50bdb6c-170b-4163-b160-1fabd430b1aa\")>,\n",
       " <selenium.webdriver.remote.webelement.WebElement (session=\"084760ce81140b1b252d7a66843d2acd\", element=\"1db4e8b8-9134-4e04-818a-93be7dc5d682\")>,\n",
       " <selenium.webdriver.remote.webelement.WebElement (session=\"084760ce81140b1b252d7a66843d2acd\", element=\"b12be18b-9e33-40af-b49f-4dc5930c77ae\")>,\n",
       " <selenium.webdriver.remote.webelement.WebElement (session=\"084760ce81140b1b252d7a66843d2acd\", element=\"ba5944e3-cc95-46d0-a96d-0e6a8e5401a4\")>,\n",
       " <selenium.webdriver.remote.webelement.WebElement (session=\"084760ce81140b1b252d7a66843d2acd\", element=\"74a71747-c82a-43fc-ae18-786602d3f094\")>,\n",
       " <selenium.webdriver.remote.webelement.WebElement (session=\"084760ce81140b1b252d7a66843d2acd\", element=\"c7a0f802-18df-47c3-a5ab-bb77ee4baf0f\")>,\n",
       " <selenium.webdriver.remote.webelement.WebElement (session=\"084760ce81140b1b252d7a66843d2acd\", element=\"1fb62104-31b7-42ae-85e5-e74324a0874d\")>,\n",
       " <selenium.webdriver.remote.webelement.WebElement (session=\"084760ce81140b1b252d7a66843d2acd\", element=\"83bc1677-82f8-446a-b80e-323ffa27cb2e\")>,\n",
       " <selenium.webdriver.remote.webelement.WebElement (session=\"084760ce81140b1b252d7a66843d2acd\", element=\"ec898e6e-b06c-4ca8-99b3-2ccde19b6377\")>,\n",
       " <selenium.webdriver.remote.webelement.WebElement (session=\"084760ce81140b1b252d7a66843d2acd\", element=\"72a4972f-4957-42c1-8105-3109bfa71761\")>,\n",
       " <selenium.webdriver.remote.webelement.WebElement (session=\"084760ce81140b1b252d7a66843d2acd\", element=\"bf71c136-62fc-449c-b5e5-6af31b00ef72\")>,\n",
       " <selenium.webdriver.remote.webelement.WebElement (session=\"084760ce81140b1b252d7a66843d2acd\", element=\"06ce2ce2-eb7e-4fb2-891f-ba323006af0e\")>,\n",
       " <selenium.webdriver.remote.webelement.WebElement (session=\"084760ce81140b1b252d7a66843d2acd\", element=\"8a1a52e4-e7e9-4f4d-abb3-a24b139f6022\")>,\n",
       " <selenium.webdriver.remote.webelement.WebElement (session=\"084760ce81140b1b252d7a66843d2acd\", element=\"2e38c223-a915-4faf-b692-e438f45518c5\")>,\n",
       " <selenium.webdriver.remote.webelement.WebElement (session=\"084760ce81140b1b252d7a66843d2acd\", element=\"1305cfc6-a574-4997-898c-46ffa516b538\")>,\n",
       " <selenium.webdriver.remote.webelement.WebElement (session=\"084760ce81140b1b252d7a66843d2acd\", element=\"fdfcbc04-1eb8-47a4-b6d6-fb50a7a9ce46\")>,\n",
       " <selenium.webdriver.remote.webelement.WebElement (session=\"084760ce81140b1b252d7a66843d2acd\", element=\"0c26b8aa-0431-423d-a164-cacb075b8274\")>,\n",
       " <selenium.webdriver.remote.webelement.WebElement (session=\"084760ce81140b1b252d7a66843d2acd\", element=\"16f10de8-4f33-4870-abed-d8840b9753ba\")>,\n",
       " <selenium.webdriver.remote.webelement.WebElement (session=\"084760ce81140b1b252d7a66843d2acd\", element=\"c6c5f210-ede1-47ab-ae3d-35c056c996da\")>,\n",
       " <selenium.webdriver.remote.webelement.WebElement (session=\"084760ce81140b1b252d7a66843d2acd\", element=\"36435d4d-d172-4145-88ed-50464bad5113\")>,\n",
       " <selenium.webdriver.remote.webelement.WebElement (session=\"084760ce81140b1b252d7a66843d2acd\", element=\"3dc821c5-4670-49fa-8929-cb6b2dba9412\")>,\n",
       " <selenium.webdriver.remote.webelement.WebElement (session=\"084760ce81140b1b252d7a66843d2acd\", element=\"454e2c68-53c3-4db2-b60e-ee3e83fda43e\")>,\n",
       " <selenium.webdriver.remote.webelement.WebElement (session=\"084760ce81140b1b252d7a66843d2acd\", element=\"9e912a54-1d29-4674-8290-92ebe0b8860a\")>,\n",
       " <selenium.webdriver.remote.webelement.WebElement (session=\"084760ce81140b1b252d7a66843d2acd\", element=\"2ee0613c-c523-4168-b87e-a1c18eca6e5b\")>,\n",
       " <selenium.webdriver.remote.webelement.WebElement (session=\"084760ce81140b1b252d7a66843d2acd\", element=\"48598a6e-2750-48d5-a18d-6f528cff11bd\")>,\n",
       " <selenium.webdriver.remote.webelement.WebElement (session=\"084760ce81140b1b252d7a66843d2acd\", element=\"e2a45ac7-ebd1-4e40-93b0-9e5c9e4f202d\")>,\n",
       " <selenium.webdriver.remote.webelement.WebElement (session=\"084760ce81140b1b252d7a66843d2acd\", element=\"e9edac21-7287-43d6-a8b9-d4b611433b15\")>,\n",
       " <selenium.webdriver.remote.webelement.WebElement (session=\"084760ce81140b1b252d7a66843d2acd\", element=\"e360ac9d-507f-4215-bc45-b97cfe77d7c5\")>,\n",
       " <selenium.webdriver.remote.webelement.WebElement (session=\"084760ce81140b1b252d7a66843d2acd\", element=\"cf74c475-3171-4955-939c-d02eb61640ab\")>,\n",
       " <selenium.webdriver.remote.webelement.WebElement (session=\"084760ce81140b1b252d7a66843d2acd\", element=\"649fd1d6-ebd7-41f9-b3aa-e209f53dd7dc\")>,\n",
       " <selenium.webdriver.remote.webelement.WebElement (session=\"084760ce81140b1b252d7a66843d2acd\", element=\"5dcee066-2594-4533-a7ad-bd7b169166e1\")>,\n",
       " <selenium.webdriver.remote.webelement.WebElement (session=\"084760ce81140b1b252d7a66843d2acd\", element=\"117912c0-2edb-4a99-a616-868a3094d53e\")>,\n",
       " <selenium.webdriver.remote.webelement.WebElement (session=\"084760ce81140b1b252d7a66843d2acd\", element=\"ab748417-1358-478f-834e-e9048358ea2c\")>,\n",
       " <selenium.webdriver.remote.webelement.WebElement (session=\"084760ce81140b1b252d7a66843d2acd\", element=\"f15399a7-c705-4d6a-9f75-80fdc2f37b2b\")>,\n",
       " <selenium.webdriver.remote.webelement.WebElement (session=\"084760ce81140b1b252d7a66843d2acd\", element=\"312c0c01-dab2-4cf1-8172-6dd97dcf2257\")>,\n",
       " <selenium.webdriver.remote.webelement.WebElement (session=\"084760ce81140b1b252d7a66843d2acd\", element=\"673a6c1f-15d6-4c31-b673-17a0a1b277e9\")>,\n",
       " <selenium.webdriver.remote.webelement.WebElement (session=\"084760ce81140b1b252d7a66843d2acd\", element=\"e0582d8f-1dc3-4263-b699-4e61599beb13\")>,\n",
       " <selenium.webdriver.remote.webelement.WebElement (session=\"084760ce81140b1b252d7a66843d2acd\", element=\"3c2671b7-b596-4f3d-ba93-a8894f6e6b53\")>,\n",
       " <selenium.webdriver.remote.webelement.WebElement (session=\"084760ce81140b1b252d7a66843d2acd\", element=\"89178ccf-af3f-4a50-88ca-4560785a3805\")>,\n",
       " <selenium.webdriver.remote.webelement.WebElement (session=\"084760ce81140b1b252d7a66843d2acd\", element=\"a7c264c9-177d-4acb-a394-cfc56b595107\")>,\n",
       " <selenium.webdriver.remote.webelement.WebElement (session=\"084760ce81140b1b252d7a66843d2acd\", element=\"776f8a78-fc3c-4d03-9f75-3f4989d45918\")>,\n",
       " <selenium.webdriver.remote.webelement.WebElement (session=\"084760ce81140b1b252d7a66843d2acd\", element=\"e87a8a9b-d2e4-4965-975a-23e459e6049d\")>,\n",
       " <selenium.webdriver.remote.webelement.WebElement (session=\"084760ce81140b1b252d7a66843d2acd\", element=\"c8f931e5-6412-4298-9d41-78b0ac1766ab\")>,\n",
       " <selenium.webdriver.remote.webelement.WebElement (session=\"084760ce81140b1b252d7a66843d2acd\", element=\"37c7e5c4-0ef5-487d-b328-2dc6a9a01342\")>,\n",
       " <selenium.webdriver.remote.webelement.WebElement (session=\"084760ce81140b1b252d7a66843d2acd\", element=\"d6ea7bea-fae7-43f3-a0b3-461be5e9da48\")>,\n",
       " <selenium.webdriver.remote.webelement.WebElement (session=\"084760ce81140b1b252d7a66843d2acd\", element=\"e81a0159-d6b5-422f-a3cb-7f0aa9c68216\")>,\n",
       " <selenium.webdriver.remote.webelement.WebElement (session=\"084760ce81140b1b252d7a66843d2acd\", element=\"0a9064ae-8d35-4529-8047-ff66a5c9b272\")>,\n",
       " <selenium.webdriver.remote.webelement.WebElement (session=\"084760ce81140b1b252d7a66843d2acd\", element=\"4ee7909e-a7bd-405d-8360-49a423c1e55d\")>,\n",
       " <selenium.webdriver.remote.webelement.WebElement (session=\"084760ce81140b1b252d7a66843d2acd\", element=\"c1c82fd5-87e0-4586-9bc3-ccd6cf391964\")>,\n",
       " <selenium.webdriver.remote.webelement.WebElement (session=\"084760ce81140b1b252d7a66843d2acd\", element=\"e635bf3c-1bdc-4cce-becd-106a48e02c18\")>,\n",
       " <selenium.webdriver.remote.webelement.WebElement (session=\"084760ce81140b1b252d7a66843d2acd\", element=\"368147de-3df3-4a09-9e29-41455e1f5ba8\")>,\n",
       " <selenium.webdriver.remote.webelement.WebElement (session=\"084760ce81140b1b252d7a66843d2acd\", element=\"b738e02f-6ab3-41fd-8606-35543b40fc2f\")>,\n",
       " <selenium.webdriver.remote.webelement.WebElement (session=\"084760ce81140b1b252d7a66843d2acd\", element=\"d1c383fa-8901-413e-861c-e2a91a779730\")>,\n",
       " <selenium.webdriver.remote.webelement.WebElement (session=\"084760ce81140b1b252d7a66843d2acd\", element=\"5cb0f0a6-7581-4ccf-80a4-f76deb900e56\")>,\n",
       " <selenium.webdriver.remote.webelement.WebElement (session=\"084760ce81140b1b252d7a66843d2acd\", element=\"cc7fd3c3-7755-48a6-be20-a9b78bed7f05\")>,\n",
       " <selenium.webdriver.remote.webelement.WebElement (session=\"084760ce81140b1b252d7a66843d2acd\", element=\"24378884-25f7-4c76-a0af-a4844bc28fd6\")>,\n",
       " <selenium.webdriver.remote.webelement.WebElement (session=\"084760ce81140b1b252d7a66843d2acd\", element=\"718a33ad-572f-496b-9f4c-5f34aee05f5e\")>,\n",
       " <selenium.webdriver.remote.webelement.WebElement (session=\"084760ce81140b1b252d7a66843d2acd\", element=\"331c570b-5ac7-4ddf-a10f-14b1b29bb227\")>]"
      ]
     },
     "execution_count": 27,
     "metadata": {},
     "output_type": "execute_result"
    }
   ],
   "source": [
    "display_tags=driver.find_elements_by_xpath('//td[@class=\"URwL2w col col-9-12\"]')\n",
    "display_tags"
   ]
  },
  {
   "cell_type": "code",
   "execution_count": 28,
   "id": "4c8ee1fe",
   "metadata": {},
   "outputs": [
    {
     "data": {
      "text/plain": [
       "['In The Box',\n",
       " 'Model Number',\n",
       " 'Model Name',\n",
       " 'Color',\n",
       " 'Browse Type',\n",
       " 'SIM Type',\n",
       " 'Hybrid Sim Slot',\n",
       " 'Touchscreen',\n",
       " 'OTG Compatible',\n",
       " 'SAR Value',\n",
       " 'Display Size',\n",
       " 'Resolution',\n",
       " 'Resolution Type',\n",
       " 'GPU',\n",
       " 'Display Type',\n",
       " 'Other Display Features',\n",
       " 'Operating System',\n",
       " 'Processor Type',\n",
       " 'Processor Core',\n",
       " 'Primary Clock Speed',\n",
       " 'Secondary Clock Speed',\n",
       " 'Operating Frequency',\n",
       " 'Internal Storage',\n",
       " 'RAM',\n",
       " 'Expandable Storage',\n",
       " 'Supported Memory Card Type',\n",
       " 'Memory Card Slot Type',\n",
       " 'Primary Camera Available',\n",
       " 'Primary Camera',\n",
       " 'Primary Camera Features',\n",
       " 'Secondary Camera Available',\n",
       " 'Secondary Camera',\n",
       " 'Secondary Camera Features',\n",
       " 'Flash',\n",
       " 'HD Recording',\n",
       " 'Full HD Recording',\n",
       " 'Video Recording',\n",
       " 'Video Recording Resolution',\n",
       " 'Frame Rate',\n",
       " 'Dual Camera Lens',\n",
       " 'Network Type',\n",
       " 'Supported Networks',\n",
       " 'Internet Connectivity',\n",
       " '3G',\n",
       " 'GPRS',\n",
       " 'Pre-installed Browser',\n",
       " 'Bluetooth Support',\n",
       " 'Bluetooth Version',\n",
       " 'Wi-Fi',\n",
       " 'Wi-Fi Version',\n",
       " 'Wi-Fi Hotspot',\n",
       " 'Infrared',\n",
       " 'USB Connectivity',\n",
       " 'EDGE',\n",
       " 'Audio Jack',\n",
       " 'Map Support',\n",
       " 'GPS Support',\n",
       " 'Smartphone',\n",
       " 'SIM Size',\n",
       " 'User Interface',\n",
       " 'SMS',\n",
       " 'Graphics PPI',\n",
       " 'Sensors',\n",
       " 'Browser',\n",
       " 'Other Features',\n",
       " 'GPS Type',\n",
       " 'Battery Capacity',\n",
       " 'Width',\n",
       " 'Height',\n",
       " 'Depth',\n",
       " 'Weight',\n",
       " 'Warranty Summary',\n",
       " 'Domestic Warranty',\n",
       " 'In The Box\\nHandset, Power Adapter, Micro-USB Cable, SIM Ejector Tool, User Guide and Warranty Card',\n",
       " 'Model Number\\nMZB0A0KIN',\n",
       " 'Model Name\\nC31',\n",
       " 'Color\\nRoyal Blue',\n",
       " 'Browse Type\\nSmartphones',\n",
       " 'SIM Type\\nDual Sim',\n",
       " 'Hybrid Sim Slot\\nNo',\n",
       " 'Touchscreen\\nYes',\n",
       " 'OTG Compatible\\nYes',\n",
       " 'SAR Value\\nHead: 0.506 W/Kg, Body: 0.833 W/Kg',\n",
       " 'Display Size\\n16.59 cm (6.53 inch)',\n",
       " 'Resolution\\n1600 x 720 Pixels',\n",
       " 'Resolution Type\\nHD+',\n",
       " 'GPU\\nPowerVR GE8320',\n",
       " 'Display Type\\nHD+ In-Cell LCD',\n",
       " 'Other Display Features\\n20:9 Aspect Ratio, Panda Glass, 1500:1 Contrast Ratio, 70.8% NTSC Ratio',\n",
       " 'Operating System\\nAndroid 10',\n",
       " 'Processor Type\\nMediaTek Helio G35',\n",
       " 'Processor Core\\nOcta Core',\n",
       " 'Primary Clock Speed\\n2.3 GHz',\n",
       " 'Secondary Clock Speed\\n1.8 GHz',\n",
       " 'Operating Frequency\\n2G GSM: B2/B3/B5/B8, 3G WCDMA: B1/B5/B8, 4G LTE FDD: B1/B3/B5/B8, 4G LTE TDD: B40/B41',\n",
       " 'Internal Storage\\n64 GB',\n",
       " 'RAM\\n4 GB',\n",
       " 'Expandable Storage\\n512 GB',\n",
       " 'Supported Memory Card Type\\nmicroSD',\n",
       " 'Memory Card Slot Type\\nDedicated Slot',\n",
       " 'Primary Camera Available\\nYes',\n",
       " 'Primary Camera\\n13MP + 2MP + 2MP',\n",
       " 'Primary Camera Features\\nTriple Rear Camera Setup: 13MP Primary (f/2.2, 1.0μm Pixel Size) + 2MP Macro (Fixed Focus, 1.75μm Pixel Size) + 2MP Portrait (Fixed Focus, 1.75μm Pixel Size), Features: Phase Detection Auto Focus, HDR, AI Portrait Mode, Face Recognition, AI Scene Detection, Night Mode',\n",
       " 'Secondary Camera Available\\nYes',\n",
       " 'Secondary Camera\\n5MP Front Camera',\n",
       " 'Secondary Camera Features\\n5MP Front Camera (f/2.2, 1.12μm Pixel Size), Features: Face Recognition, HDR, AI Portrait Mode, Screen Flash, Selfie Timer, Portrait Selfies, Palm Shutter',\n",
       " 'Flash\\nRear - LED Flash | Front - Screen Flash',\n",
       " 'HD Recording\\nYes',\n",
       " 'Full HD Recording\\nYes',\n",
       " 'Video Recording\\nYes',\n",
       " 'Video Recording Resolution\\nFront and Rear Camera: 1080p (at 30fps)',\n",
       " 'Frame Rate\\n30 fps',\n",
       " 'Dual Camera Lens\\nPrimary Camera',\n",
       " 'Network Type\\n4G, 3G, 2G',\n",
       " 'Supported Networks\\n4G LTE, WCDMA, GSM',\n",
       " 'Internet Connectivity\\n4G, 3G, Wi-Fi, EDGE, GPRS',\n",
       " '3G\\nYes',\n",
       " 'GPRS\\nYes',\n",
       " 'Pre-installed Browser\\nGoogle Chrome',\n",
       " 'Bluetooth Support\\nYes',\n",
       " 'Bluetooth Version\\nv5.0',\n",
       " 'Wi-Fi\\nYes',\n",
       " 'Wi-Fi Version\\n802.11 a/b/g/n',\n",
       " 'Wi-Fi Hotspot\\nYes',\n",
       " 'Infrared\\nNo',\n",
       " 'USB Connectivity\\nYes',\n",
       " 'EDGE\\nYes',\n",
       " 'Audio Jack\\n3.5mm',\n",
       " 'Map Support\\nGoogle Maps',\n",
       " 'GPS Support\\nYes',\n",
       " 'Smartphone\\nYes',\n",
       " 'SIM Size\\nNano',\n",
       " 'User Interface\\nMIUI 12 (Based on Android 10)',\n",
       " 'SMS\\nYes',\n",
       " 'Graphics PPI\\n270 PPI',\n",
       " 'Sensors\\nAmbient Light Sensor, Proximity Sensor, Accelerometer',\n",
       " 'Browser\\nGoogle Chrome',\n",
       " 'Other Features\\nScreen Mirror/Cast, Face Unlock, Dual App Support, 10W Charger',\n",
       " 'GPS Type\\nGPS/A-GPS, GLONASS, BeiDou',\n",
       " 'Battery Capacity\\n5000 mAh',\n",
       " 'Width\\n77.1 mm',\n",
       " 'Height\\n164.9 mm',\n",
       " 'Depth\\n9 mm',\n",
       " 'Weight\\n194 g',\n",
       " 'Warranty Summary\\n1 Year Warranty for Handset, 6 Months for Accessories',\n",
       " 'Domestic Warranty\\n1 Year',\n",
       " 'Handset, Power Adapter, Micro-USB Cable, SIM Ejector Tool, User Guide and Warranty Card',\n",
       " 'MZB0A0KIN',\n",
       " 'C31',\n",
       " 'Royal Blue',\n",
       " 'Smartphones',\n",
       " 'Dual Sim',\n",
       " 'No',\n",
       " 'Yes',\n",
       " 'Yes',\n",
       " 'Head: 0.506 W/Kg, Body: 0.833 W/Kg',\n",
       " '16.59 cm (6.53 inch)',\n",
       " '1600 x 720 Pixels',\n",
       " 'HD+',\n",
       " 'PowerVR GE8320',\n",
       " 'HD+ In-Cell LCD',\n",
       " '20:9 Aspect Ratio, Panda Glass, 1500:1 Contrast Ratio, 70.8% NTSC Ratio',\n",
       " 'Android 10',\n",
       " 'MediaTek Helio G35',\n",
       " 'Octa Core',\n",
       " '2.3 GHz',\n",
       " '1.8 GHz',\n",
       " '2G GSM: B2/B3/B5/B8, 3G WCDMA: B1/B5/B8, 4G LTE FDD: B1/B3/B5/B8, 4G LTE TDD: B40/B41',\n",
       " '64 GB',\n",
       " '4 GB',\n",
       " '512 GB',\n",
       " 'microSD',\n",
       " 'Dedicated Slot',\n",
       " 'Yes',\n",
       " '13MP + 2MP + 2MP',\n",
       " 'Triple Rear Camera Setup: 13MP Primary (f/2.2, 1.0μm Pixel Size) + 2MP Macro (Fixed Focus, 1.75μm Pixel Size) + 2MP Portrait (Fixed Focus, 1.75μm Pixel Size), Features: Phase Detection Auto Focus, HDR, AI Portrait Mode, Face Recognition, AI Scene Detection, Night Mode',\n",
       " 'Yes',\n",
       " '5MP Front Camera',\n",
       " '5MP Front Camera (f/2.2, 1.12μm Pixel Size), Features: Face Recognition, HDR, AI Portrait Mode, Screen Flash, Selfie Timer, Portrait Selfies, Palm Shutter',\n",
       " 'Rear - LED Flash | Front - Screen Flash',\n",
       " 'Yes',\n",
       " 'Yes',\n",
       " 'Yes',\n",
       " 'Front and Rear Camera: 1080p (at 30fps)',\n",
       " '30 fps',\n",
       " 'Primary Camera',\n",
       " '4G, 3G, 2G',\n",
       " '4G LTE, WCDMA, GSM',\n",
       " '4G, 3G, Wi-Fi, EDGE, GPRS',\n",
       " 'Yes',\n",
       " 'Yes',\n",
       " 'Google Chrome',\n",
       " 'Yes',\n",
       " 'v5.0',\n",
       " 'Yes',\n",
       " '802.11 a/b/g/n',\n",
       " 'Yes',\n",
       " 'No',\n",
       " 'Yes',\n",
       " 'Yes',\n",
       " '3.5mm',\n",
       " 'Google Maps',\n",
       " 'Yes',\n",
       " 'Yes',\n",
       " 'Nano',\n",
       " 'MIUI 12 (Based on Android 10)',\n",
       " 'Yes',\n",
       " '270 PPI',\n",
       " 'Ambient Light Sensor, Proximity Sensor, Accelerometer',\n",
       " 'Google Chrome',\n",
       " 'Screen Mirror/Cast, Face Unlock, Dual App Support, 10W Charger',\n",
       " 'GPS/A-GPS, GLONASS, BeiDou',\n",
       " '5000 mAh',\n",
       " '77.1 mm',\n",
       " '164.9 mm',\n",
       " '9 mm',\n",
       " '194 g',\n",
       " '1 Year Warranty for Handset, 6 Months for Accessories',\n",
       " '1 Year']"
      ]
     },
     "execution_count": 28,
     "metadata": {},
     "output_type": "execute_result"
    }
   ],
   "source": [
    "for i in display_tags:\n",
    "    title=i.text\n",
    "    display_size.append(title)\n",
    "display_size"
   ]
  },
  {
   "cell_type": "code",
   "execution_count": 31,
   "id": "62968c71",
   "metadata": {},
   "outputs": [
    {
     "data": {
      "text/plain": [
       "[<selenium.webdriver.remote.webelement.WebElement (session=\"084760ce81140b1b252d7a66843d2acd\", element=\"ac62c2f2-9f30-40c6-ae5f-256e0598f533\")>,\n",
       " <selenium.webdriver.remote.webelement.WebElement (session=\"084760ce81140b1b252d7a66843d2acd\", element=\"38ba3ce4-e34e-4986-8cb2-e6a6bb6aa676\")>,\n",
       " <selenium.webdriver.remote.webelement.WebElement (session=\"084760ce81140b1b252d7a66843d2acd\", element=\"b0179eca-bd3d-4911-a846-0b524dd55af3\")>,\n",
       " <selenium.webdriver.remote.webelement.WebElement (session=\"084760ce81140b1b252d7a66843d2acd\", element=\"3e3b8b2e-b672-46a2-9e91-bf92db6cc634\")>,\n",
       " <selenium.webdriver.remote.webelement.WebElement (session=\"084760ce81140b1b252d7a66843d2acd\", element=\"7cd47e77-afe5-4c3a-9aea-cbeb1f8bdeb1\")>,\n",
       " <selenium.webdriver.remote.webelement.WebElement (session=\"084760ce81140b1b252d7a66843d2acd\", element=\"aefc44ec-56a9-4531-91d6-30762a8be256\")>,\n",
       " <selenium.webdriver.remote.webelement.WebElement (session=\"084760ce81140b1b252d7a66843d2acd\", element=\"8fbb61e3-1e2a-4a7e-98bd-5f12395414b2\")>,\n",
       " <selenium.webdriver.remote.webelement.WebElement (session=\"084760ce81140b1b252d7a66843d2acd\", element=\"da129b0f-0eba-459b-b905-cf1d86a13038\")>,\n",
       " <selenium.webdriver.remote.webelement.WebElement (session=\"084760ce81140b1b252d7a66843d2acd\", element=\"3e639ae9-17e0-4616-8523-96f94706a689\")>,\n",
       " <selenium.webdriver.remote.webelement.WebElement (session=\"084760ce81140b1b252d7a66843d2acd\", element=\"b1586510-f303-4d35-9489-e0dda4c28f5c\")>,\n",
       " <selenium.webdriver.remote.webelement.WebElement (session=\"084760ce81140b1b252d7a66843d2acd\", element=\"73b70280-fe29-4b63-b222-12be82f04b24\")>,\n",
       " <selenium.webdriver.remote.webelement.WebElement (session=\"084760ce81140b1b252d7a66843d2acd\", element=\"17ffb3b4-17e5-431e-a81d-8d28ec57d6c8\")>,\n",
       " <selenium.webdriver.remote.webelement.WebElement (session=\"084760ce81140b1b252d7a66843d2acd\", element=\"c963d0f2-b970-48a7-9902-6e553f511eb2\")>,\n",
       " <selenium.webdriver.remote.webelement.WebElement (session=\"084760ce81140b1b252d7a66843d2acd\", element=\"08cfcc8c-a3b5-4395-944a-7a687287725b\")>,\n",
       " <selenium.webdriver.remote.webelement.WebElement (session=\"084760ce81140b1b252d7a66843d2acd\", element=\"a10d1fdd-bc90-4596-99ad-d2234cecd6d7\")>,\n",
       " <selenium.webdriver.remote.webelement.WebElement (session=\"084760ce81140b1b252d7a66843d2acd\", element=\"f50bdb6c-170b-4163-b160-1fabd430b1aa\")>,\n",
       " <selenium.webdriver.remote.webelement.WebElement (session=\"084760ce81140b1b252d7a66843d2acd\", element=\"1db4e8b8-9134-4e04-818a-93be7dc5d682\")>,\n",
       " <selenium.webdriver.remote.webelement.WebElement (session=\"084760ce81140b1b252d7a66843d2acd\", element=\"b12be18b-9e33-40af-b49f-4dc5930c77ae\")>,\n",
       " <selenium.webdriver.remote.webelement.WebElement (session=\"084760ce81140b1b252d7a66843d2acd\", element=\"ba5944e3-cc95-46d0-a96d-0e6a8e5401a4\")>,\n",
       " <selenium.webdriver.remote.webelement.WebElement (session=\"084760ce81140b1b252d7a66843d2acd\", element=\"74a71747-c82a-43fc-ae18-786602d3f094\")>,\n",
       " <selenium.webdriver.remote.webelement.WebElement (session=\"084760ce81140b1b252d7a66843d2acd\", element=\"c7a0f802-18df-47c3-a5ab-bb77ee4baf0f\")>,\n",
       " <selenium.webdriver.remote.webelement.WebElement (session=\"084760ce81140b1b252d7a66843d2acd\", element=\"1fb62104-31b7-42ae-85e5-e74324a0874d\")>,\n",
       " <selenium.webdriver.remote.webelement.WebElement (session=\"084760ce81140b1b252d7a66843d2acd\", element=\"83bc1677-82f8-446a-b80e-323ffa27cb2e\")>,\n",
       " <selenium.webdriver.remote.webelement.WebElement (session=\"084760ce81140b1b252d7a66843d2acd\", element=\"ec898e6e-b06c-4ca8-99b3-2ccde19b6377\")>,\n",
       " <selenium.webdriver.remote.webelement.WebElement (session=\"084760ce81140b1b252d7a66843d2acd\", element=\"72a4972f-4957-42c1-8105-3109bfa71761\")>,\n",
       " <selenium.webdriver.remote.webelement.WebElement (session=\"084760ce81140b1b252d7a66843d2acd\", element=\"bf71c136-62fc-449c-b5e5-6af31b00ef72\")>,\n",
       " <selenium.webdriver.remote.webelement.WebElement (session=\"084760ce81140b1b252d7a66843d2acd\", element=\"06ce2ce2-eb7e-4fb2-891f-ba323006af0e\")>,\n",
       " <selenium.webdriver.remote.webelement.WebElement (session=\"084760ce81140b1b252d7a66843d2acd\", element=\"8a1a52e4-e7e9-4f4d-abb3-a24b139f6022\")>,\n",
       " <selenium.webdriver.remote.webelement.WebElement (session=\"084760ce81140b1b252d7a66843d2acd\", element=\"2e38c223-a915-4faf-b692-e438f45518c5\")>,\n",
       " <selenium.webdriver.remote.webelement.WebElement (session=\"084760ce81140b1b252d7a66843d2acd\", element=\"1305cfc6-a574-4997-898c-46ffa516b538\")>,\n",
       " <selenium.webdriver.remote.webelement.WebElement (session=\"084760ce81140b1b252d7a66843d2acd\", element=\"fdfcbc04-1eb8-47a4-b6d6-fb50a7a9ce46\")>,\n",
       " <selenium.webdriver.remote.webelement.WebElement (session=\"084760ce81140b1b252d7a66843d2acd\", element=\"0c26b8aa-0431-423d-a164-cacb075b8274\")>,\n",
       " <selenium.webdriver.remote.webelement.WebElement (session=\"084760ce81140b1b252d7a66843d2acd\", element=\"16f10de8-4f33-4870-abed-d8840b9753ba\")>,\n",
       " <selenium.webdriver.remote.webelement.WebElement (session=\"084760ce81140b1b252d7a66843d2acd\", element=\"c6c5f210-ede1-47ab-ae3d-35c056c996da\")>,\n",
       " <selenium.webdriver.remote.webelement.WebElement (session=\"084760ce81140b1b252d7a66843d2acd\", element=\"36435d4d-d172-4145-88ed-50464bad5113\")>,\n",
       " <selenium.webdriver.remote.webelement.WebElement (session=\"084760ce81140b1b252d7a66843d2acd\", element=\"3dc821c5-4670-49fa-8929-cb6b2dba9412\")>,\n",
       " <selenium.webdriver.remote.webelement.WebElement (session=\"084760ce81140b1b252d7a66843d2acd\", element=\"454e2c68-53c3-4db2-b60e-ee3e83fda43e\")>,\n",
       " <selenium.webdriver.remote.webelement.WebElement (session=\"084760ce81140b1b252d7a66843d2acd\", element=\"9e912a54-1d29-4674-8290-92ebe0b8860a\")>,\n",
       " <selenium.webdriver.remote.webelement.WebElement (session=\"084760ce81140b1b252d7a66843d2acd\", element=\"2ee0613c-c523-4168-b87e-a1c18eca6e5b\")>,\n",
       " <selenium.webdriver.remote.webelement.WebElement (session=\"084760ce81140b1b252d7a66843d2acd\", element=\"48598a6e-2750-48d5-a18d-6f528cff11bd\")>,\n",
       " <selenium.webdriver.remote.webelement.WebElement (session=\"084760ce81140b1b252d7a66843d2acd\", element=\"e2a45ac7-ebd1-4e40-93b0-9e5c9e4f202d\")>,\n",
       " <selenium.webdriver.remote.webelement.WebElement (session=\"084760ce81140b1b252d7a66843d2acd\", element=\"e9edac21-7287-43d6-a8b9-d4b611433b15\")>,\n",
       " <selenium.webdriver.remote.webelement.WebElement (session=\"084760ce81140b1b252d7a66843d2acd\", element=\"e360ac9d-507f-4215-bc45-b97cfe77d7c5\")>,\n",
       " <selenium.webdriver.remote.webelement.WebElement (session=\"084760ce81140b1b252d7a66843d2acd\", element=\"cf74c475-3171-4955-939c-d02eb61640ab\")>,\n",
       " <selenium.webdriver.remote.webelement.WebElement (session=\"084760ce81140b1b252d7a66843d2acd\", element=\"649fd1d6-ebd7-41f9-b3aa-e209f53dd7dc\")>,\n",
       " <selenium.webdriver.remote.webelement.WebElement (session=\"084760ce81140b1b252d7a66843d2acd\", element=\"5dcee066-2594-4533-a7ad-bd7b169166e1\")>,\n",
       " <selenium.webdriver.remote.webelement.WebElement (session=\"084760ce81140b1b252d7a66843d2acd\", element=\"117912c0-2edb-4a99-a616-868a3094d53e\")>,\n",
       " <selenium.webdriver.remote.webelement.WebElement (session=\"084760ce81140b1b252d7a66843d2acd\", element=\"ab748417-1358-478f-834e-e9048358ea2c\")>,\n",
       " <selenium.webdriver.remote.webelement.WebElement (session=\"084760ce81140b1b252d7a66843d2acd\", element=\"f15399a7-c705-4d6a-9f75-80fdc2f37b2b\")>,\n",
       " <selenium.webdriver.remote.webelement.WebElement (session=\"084760ce81140b1b252d7a66843d2acd\", element=\"312c0c01-dab2-4cf1-8172-6dd97dcf2257\")>,\n",
       " <selenium.webdriver.remote.webelement.WebElement (session=\"084760ce81140b1b252d7a66843d2acd\", element=\"673a6c1f-15d6-4c31-b673-17a0a1b277e9\")>,\n",
       " <selenium.webdriver.remote.webelement.WebElement (session=\"084760ce81140b1b252d7a66843d2acd\", element=\"e0582d8f-1dc3-4263-b699-4e61599beb13\")>,\n",
       " <selenium.webdriver.remote.webelement.WebElement (session=\"084760ce81140b1b252d7a66843d2acd\", element=\"3c2671b7-b596-4f3d-ba93-a8894f6e6b53\")>,\n",
       " <selenium.webdriver.remote.webelement.WebElement (session=\"084760ce81140b1b252d7a66843d2acd\", element=\"89178ccf-af3f-4a50-88ca-4560785a3805\")>,\n",
       " <selenium.webdriver.remote.webelement.WebElement (session=\"084760ce81140b1b252d7a66843d2acd\", element=\"a7c264c9-177d-4acb-a394-cfc56b595107\")>,\n",
       " <selenium.webdriver.remote.webelement.WebElement (session=\"084760ce81140b1b252d7a66843d2acd\", element=\"776f8a78-fc3c-4d03-9f75-3f4989d45918\")>,\n",
       " <selenium.webdriver.remote.webelement.WebElement (session=\"084760ce81140b1b252d7a66843d2acd\", element=\"e87a8a9b-d2e4-4965-975a-23e459e6049d\")>,\n",
       " <selenium.webdriver.remote.webelement.WebElement (session=\"084760ce81140b1b252d7a66843d2acd\", element=\"c8f931e5-6412-4298-9d41-78b0ac1766ab\")>,\n",
       " <selenium.webdriver.remote.webelement.WebElement (session=\"084760ce81140b1b252d7a66843d2acd\", element=\"37c7e5c4-0ef5-487d-b328-2dc6a9a01342\")>,\n",
       " <selenium.webdriver.remote.webelement.WebElement (session=\"084760ce81140b1b252d7a66843d2acd\", element=\"d6ea7bea-fae7-43f3-a0b3-461be5e9da48\")>,\n",
       " <selenium.webdriver.remote.webelement.WebElement (session=\"084760ce81140b1b252d7a66843d2acd\", element=\"e81a0159-d6b5-422f-a3cb-7f0aa9c68216\")>,\n",
       " <selenium.webdriver.remote.webelement.WebElement (session=\"084760ce81140b1b252d7a66843d2acd\", element=\"0a9064ae-8d35-4529-8047-ff66a5c9b272\")>,\n",
       " <selenium.webdriver.remote.webelement.WebElement (session=\"084760ce81140b1b252d7a66843d2acd\", element=\"4ee7909e-a7bd-405d-8360-49a423c1e55d\")>,\n",
       " <selenium.webdriver.remote.webelement.WebElement (session=\"084760ce81140b1b252d7a66843d2acd\", element=\"c1c82fd5-87e0-4586-9bc3-ccd6cf391964\")>,\n",
       " <selenium.webdriver.remote.webelement.WebElement (session=\"084760ce81140b1b252d7a66843d2acd\", element=\"e635bf3c-1bdc-4cce-becd-106a48e02c18\")>,\n",
       " <selenium.webdriver.remote.webelement.WebElement (session=\"084760ce81140b1b252d7a66843d2acd\", element=\"368147de-3df3-4a09-9e29-41455e1f5ba8\")>,\n",
       " <selenium.webdriver.remote.webelement.WebElement (session=\"084760ce81140b1b252d7a66843d2acd\", element=\"b738e02f-6ab3-41fd-8606-35543b40fc2f\")>,\n",
       " <selenium.webdriver.remote.webelement.WebElement (session=\"084760ce81140b1b252d7a66843d2acd\", element=\"d1c383fa-8901-413e-861c-e2a91a779730\")>,\n",
       " <selenium.webdriver.remote.webelement.WebElement (session=\"084760ce81140b1b252d7a66843d2acd\", element=\"5cb0f0a6-7581-4ccf-80a4-f76deb900e56\")>,\n",
       " <selenium.webdriver.remote.webelement.WebElement (session=\"084760ce81140b1b252d7a66843d2acd\", element=\"cc7fd3c3-7755-48a6-be20-a9b78bed7f05\")>,\n",
       " <selenium.webdriver.remote.webelement.WebElement (session=\"084760ce81140b1b252d7a66843d2acd\", element=\"24378884-25f7-4c76-a0af-a4844bc28fd6\")>,\n",
       " <selenium.webdriver.remote.webelement.WebElement (session=\"084760ce81140b1b252d7a66843d2acd\", element=\"718a33ad-572f-496b-9f4c-5f34aee05f5e\")>,\n",
       " <selenium.webdriver.remote.webelement.WebElement (session=\"084760ce81140b1b252d7a66843d2acd\", element=\"331c570b-5ac7-4ddf-a10f-14b1b29bb227\")>]"
      ]
     },
     "execution_count": 31,
     "metadata": {},
     "output_type": "execute_result"
    }
   ],
   "source": [
    "battery_tags=driver.find_elements_by_xpath('//td[@class=\"URwL2w col col-9-12\"]')\n",
    "battery_tags"
   ]
  },
  {
   "cell_type": "code",
   "execution_count": 32,
   "id": "103b3b07",
   "metadata": {},
   "outputs": [
    {
     "data": {
      "text/plain": [
       "['General',\n",
       " 'Display Features',\n",
       " 'Os & Processor Features',\n",
       " 'Memory & Storage Features',\n",
       " 'Camera Features',\n",
       " 'Connectivity Features',\n",
       " 'Other Details',\n",
       " 'Battery & Power Features',\n",
       " 'Dimensions',\n",
       " 'Warranty',\n",
       " 'Handset, Power Adapter, Micro-USB Cable, SIM Ejector Tool, User Guide and Warranty Card',\n",
       " 'MZB0A0KIN',\n",
       " 'C31',\n",
       " 'Royal Blue',\n",
       " 'Smartphones',\n",
       " 'Dual Sim',\n",
       " 'No',\n",
       " 'Yes',\n",
       " 'Yes',\n",
       " 'Head: 0.506 W/Kg, Body: 0.833 W/Kg',\n",
       " '16.59 cm (6.53 inch)',\n",
       " '1600 x 720 Pixels',\n",
       " 'HD+',\n",
       " 'PowerVR GE8320',\n",
       " 'HD+ In-Cell LCD',\n",
       " '20:9 Aspect Ratio, Panda Glass, 1500:1 Contrast Ratio, 70.8% NTSC Ratio',\n",
       " 'Android 10',\n",
       " 'MediaTek Helio G35',\n",
       " 'Octa Core',\n",
       " '2.3 GHz',\n",
       " '1.8 GHz',\n",
       " '2G GSM: B2/B3/B5/B8, 3G WCDMA: B1/B5/B8, 4G LTE FDD: B1/B3/B5/B8, 4G LTE TDD: B40/B41',\n",
       " '64 GB',\n",
       " '4 GB',\n",
       " '512 GB',\n",
       " 'microSD',\n",
       " 'Dedicated Slot',\n",
       " 'Yes',\n",
       " '13MP + 2MP + 2MP',\n",
       " 'Triple Rear Camera Setup: 13MP Primary (f/2.2, 1.0μm Pixel Size) + 2MP Macro (Fixed Focus, 1.75μm Pixel Size) + 2MP Portrait (Fixed Focus, 1.75μm Pixel Size), Features: Phase Detection Auto Focus, HDR, AI Portrait Mode, Face Recognition, AI Scene Detection, Night Mode',\n",
       " 'Yes',\n",
       " '5MP Front Camera',\n",
       " '5MP Front Camera (f/2.2, 1.12μm Pixel Size), Features: Face Recognition, HDR, AI Portrait Mode, Screen Flash, Selfie Timer, Portrait Selfies, Palm Shutter',\n",
       " 'Rear - LED Flash | Front - Screen Flash',\n",
       " 'Yes',\n",
       " 'Yes',\n",
       " 'Yes',\n",
       " 'Front and Rear Camera: 1080p (at 30fps)',\n",
       " '30 fps',\n",
       " 'Primary Camera',\n",
       " '4G, 3G, 2G',\n",
       " '4G LTE, WCDMA, GSM',\n",
       " '4G, 3G, Wi-Fi, EDGE, GPRS',\n",
       " 'Yes',\n",
       " 'Yes',\n",
       " 'Google Chrome',\n",
       " 'Yes',\n",
       " 'v5.0',\n",
       " 'Yes',\n",
       " '802.11 a/b/g/n',\n",
       " 'Yes',\n",
       " 'No',\n",
       " 'Yes',\n",
       " 'Yes',\n",
       " '3.5mm',\n",
       " 'Google Maps',\n",
       " 'Yes',\n",
       " 'Yes',\n",
       " 'Nano',\n",
       " 'MIUI 12 (Based on Android 10)',\n",
       " 'Yes',\n",
       " '270 PPI',\n",
       " 'Ambient Light Sensor, Proximity Sensor, Accelerometer',\n",
       " 'Google Chrome',\n",
       " 'Screen Mirror/Cast, Face Unlock, Dual App Support, 10W Charger',\n",
       " 'GPS/A-GPS, GLONASS, BeiDou',\n",
       " '5000 mAh',\n",
       " '77.1 mm',\n",
       " '164.9 mm',\n",
       " '9 mm',\n",
       " '194 g',\n",
       " '1 Year Warranty for Handset, 6 Months for Accessories',\n",
       " '1 Year']"
      ]
     },
     "execution_count": 32,
     "metadata": {},
     "output_type": "execute_result"
    }
   ],
   "source": [
    "for i in battery_tags:\n",
    "    title=i.text\n",
    "    battery_capacity.append(title)\n",
    "battery_capacity"
   ]
  },
  {
   "cell_type": "code",
   "execution_count": 33,
   "id": "78d93afe",
   "metadata": {},
   "outputs": [
    {
     "data": {
      "text/plain": [
       "[<selenium.webdriver.remote.webelement.WebElement (session=\"084760ce81140b1b252d7a66843d2acd\", element=\"ef4a67f6-58b8-4f37-bb77-c2535ab2c4a6\")>]"
      ]
     },
     "execution_count": 33,
     "metadata": {},
     "output_type": "execute_result"
    }
   ],
   "source": [
    "price_tags=driver.find_elements_by_xpath('//div[@class=\"_30jeq3 _16Jk6d\"]')\n",
    "price_tags"
   ]
  },
  {
   "cell_type": "code",
   "execution_count": 34,
   "id": "925f78e7",
   "metadata": {},
   "outputs": [
    {
     "data": {
      "text/plain": [
       "['₹8,499']"
      ]
     },
     "execution_count": 34,
     "metadata": {},
     "output_type": "execute_result"
    }
   ],
   "source": [
    "for i in price_tags:\n",
    "    title=i.text\n",
    "    price_titles.append(title)\n",
    "price_titles"
   ]
  },
  {
   "cell_type": "code",
   "execution_count": null,
   "id": "b2103413",
   "metadata": {},
   "outputs": [],
   "source": [
    "storage_rom=[]\n",
    "primary_camera=[]\n",
    "secondary_camera=[]\n",
    "display_size=[]\n",
    "battery_capacity=[]\n",
    "price_titles=[]\n",
    "product_url=[]\n"
   ]
  },
  {
   "cell_type": "code",
   "execution_count": null,
   "id": "d1686f67",
   "metadata": {},
   "outputs": [],
   "source": [
    "\t\n",
    "Khushboo Garg Today at 03:34:25 pm\n",
    "yes, and you have to scrap it from the main page where all the product are available. You can refer mentioned approach for it. \n",
    "\n",
    "flip_urls = []\n",
    "\n",
    "urls = driver.find_elements_by_xpath('//a[@class=\"_1fQZEK\"]')\n",
    "\n",
    "for url in urls:\n",
    "\n",
    "    flip_urls.append(url.get_attribute(\"href\"))"
   ]
  },
  {
   "cell_type": "code",
   "execution_count": null,
   "id": "c102671a",
   "metadata": {},
   "outputs": [],
   "source": []
  },
  {
   "cell_type": "code",
   "execution_count": 42,
   "id": "ddc1b0f4",
   "metadata": {},
   "outputs": [],
   "source": [
    "flip_urls = ['https://www.flipkart.com/search?q=smartphone&otracker=search&otracker1=search&marketplace=FLIPKART&as-show=off&as=off']\n",
    "\n",
    "urls = driver.find_elements_by_xpath('//a[@class=\"_1fQZEK\"]')\n",
    "for url in urls:\n",
    "\n",
    "    flip_urls.append(url.get_attribute(\"href\"))\n"
   ]
  },
  {
   "cell_type": "markdown",
   "id": "a9d0b3f9",
   "metadata": {},
   "source": [
    "# 5. Write a program to scrap geospatial coordinates (latitude, longitude) of a city searched on google\n",
    "maps.\n"
   ]
  },
  {
   "cell_type": "code",
   "execution_count": 48,
   "id": "ea1819cf",
   "metadata": {},
   "outputs": [],
   "source": [
    "from selenium.webdriver.support.ui import WebDriverWait\n",
    "from selenium.webdriver.common.by import By\n",
    "from selenium.webdriver.support import expected_conditions as EC"
   ]
  },
  {
   "cell_type": "code",
   "execution_count": 49,
   "id": "639685aa",
   "metadata": {},
   "outputs": [
    {
     "ename": "NameError",
     "evalue": "name 'ActionChains' is not defined",
     "output_type": "error",
     "traceback": [
      "\u001b[1;31m---------------------------------------------------------------------------\u001b[0m",
      "\u001b[1;31mNameError\u001b[0m                                 Traceback (most recent call last)",
      "\u001b[1;32m~\\AppData\\Local\\Temp/ipykernel_27900/2101429534.py\u001b[0m in \u001b[0;36m<module>\u001b[1;34m\u001b[0m\n\u001b[0;32m      3\u001b[0m \u001b[0mwait\u001b[0m\u001b[1;33m.\u001b[0m\u001b[0muntil\u001b[0m\u001b[1;33m(\u001b[0m\u001b[0mEC\u001b[0m\u001b[1;33m.\u001b[0m\u001b[0melement_to_be_clickable\u001b[0m\u001b[1;33m(\u001b[0m\u001b[1;33m(\u001b[0m\u001b[0mBy\u001b[0m\u001b[1;33m.\u001b[0m\u001b[0mID\u001b[0m\u001b[1;33m,\u001b[0m \u001b[1;34m\"searchboxinput\"\u001b[0m\u001b[1;33m)\u001b[0m\u001b[1;33m)\u001b[0m\u001b[1;33m)\u001b[0m\u001b[1;33m.\u001b[0m\u001b[0msend_keys\u001b[0m\u001b[1;33m(\u001b[0m\u001b[1;34m\"New York\"\u001b[0m\u001b[1;33m)\u001b[0m\u001b[1;33m\u001b[0m\u001b[1;33m\u001b[0m\u001b[0m\n\u001b[0;32m      4\u001b[0m \u001b[0mwait\u001b[0m\u001b[1;33m.\u001b[0m\u001b[0muntil\u001b[0m\u001b[1;33m(\u001b[0m\u001b[0mEC\u001b[0m\u001b[1;33m.\u001b[0m\u001b[0melement_to_be_clickable\u001b[0m\u001b[1;33m(\u001b[0m\u001b[1;33m(\u001b[0m\u001b[0mBy\u001b[0m\u001b[1;33m.\u001b[0m\u001b[0mID\u001b[0m\u001b[1;33m,\u001b[0m \u001b[1;34m\"searchbox-searchbutton\"\u001b[0m\u001b[1;33m)\u001b[0m\u001b[1;33m)\u001b[0m\u001b[1;33m)\u001b[0m\u001b[1;33m.\u001b[0m\u001b[0mclick\u001b[0m\u001b[1;33m\u001b[0m\u001b[1;33m\u001b[0m\u001b[0m\n\u001b[1;32m----> 5\u001b[1;33m \u001b[0mActionChains\u001b[0m\u001b[1;33m(\u001b[0m\u001b[0mdriver\u001b[0m\u001b[1;33m)\u001b[0m\u001b[1;33m.\u001b[0m\u001b[0mmove_to_element\u001b[0m\u001b[1;33m(\u001b[0m\u001b[0mdriver\u001b[0m\u001b[1;33m.\u001b[0m\u001b[0mfind_element_by_xpath\u001b[0m\u001b[1;33m(\u001b[0m\u001b[1;34m\"//html/body\"\u001b[0m\u001b[1;33m)\u001b[0m\u001b[1;33m)\u001b[0m\u001b[1;33m.\u001b[0m\u001b[0mcontext_click\u001b[0m\u001b[1;33m(\u001b[0m\u001b[1;33m)\u001b[0m\u001b[1;33m.\u001b[0m\u001b[0mperform\u001b[0m\u001b[1;33m(\u001b[0m\u001b[1;33m)\u001b[0m\u001b[1;33m\u001b[0m\u001b[1;33m\u001b[0m\u001b[0m\n\u001b[0m\u001b[0;32m      6\u001b[0m \u001b[0mprint\u001b[0m\u001b[1;33m(\u001b[0m\u001b[0mwait\u001b[0m\u001b[1;33m.\u001b[0m\u001b[0muntil\u001b[0m\u001b[1;33m(\u001b[0m\u001b[0mEC\u001b[0m\u001b[1;33m.\u001b[0m\u001b[0mvisibility_of_element_located\u001b[0m\u001b[1;33m(\u001b[0m\u001b[1;33m(\u001b[0m\u001b[0mBy\u001b[0m\u001b[1;33m.\u001b[0m\u001b[0mCSS_SELECTOR\u001b[0m\u001b[1;33m,\u001b[0m \u001b[1;34m\"ul[role='menu']>li div div[class*='text']:nth-of-type(1)\"\u001b[0m\u001b[1;33m)\u001b[0m\u001b[1;33m)\u001b[0m\u001b[1;33m)\u001b[0m\u001b[1;33m.\u001b[0m\u001b[0mtext\u001b[0m\u001b[1;33m)\u001b[0m\u001b[1;33m\u001b[0m\u001b[1;33m\u001b[0m\u001b[0m\n",
      "\u001b[1;31mNameError\u001b[0m: name 'ActionChains' is not defined"
     ]
    }
   ],
   "source": [
    "wait = WebDriverWait(driver, 10)\n",
    "driver.get(\"https://www.google.com/maps\")\n",
    "wait.until(EC.element_to_be_clickable((By.ID, \"searchboxinput\"))).send_keys(\"New York\")\n",
    "wait.until(EC.element_to_be_clickable((By.ID, \"searchbox-searchbutton\"))).click\n",
    "ActionChains(driver).move_to_element(driver.find_element_by_xpath(\"//html/body\")).context_click().perform()\n",
    "print(wait.until(EC.visibility_of_element_located((By.CSS_SELECTOR, \"ul[role='menu']>li div div[class*='text']:nth-of-type(1)\"))).text)"
   ]
  },
  {
   "cell_type": "markdown",
   "id": "f7fab6cf",
   "metadata": {},
   "source": [
    "9. Write a program to extract at least 500 Comments, Comment upvote and time when comment was posted\n",
    "from any YouTube Video"
   ]
  },
  {
   "cell_type": "code",
   "execution_count": 52,
   "id": "a3fa819e",
   "metadata": {},
   "outputs": [],
   "source": [
    "driver.get('https://www.youtube.com/')"
   ]
  },
  {
   "cell_type": "code",
   "execution_count": 54,
   "id": "c7d26e96",
   "metadata": {},
   "outputs": [
    {
     "ename": "ElementNotInteractableException",
     "evalue": "Message: element not interactable\n  (Session info: chrome=102.0.5005.63)\nStacktrace:\nBacktrace:\n\tOrdinal0 [0x010ED953+2414931]\n\tOrdinal0 [0x0107F5E1+1963489]\n\tOrdinal0 [0x00F6C580+836992]\n\tOrdinal0 [0x00F94BE3+1002467]\n\tOrdinal0 [0x00F942C8+1000136]\n\tOrdinal0 [0x00FB449C+1131676]\n\tOrdinal0 [0x00F8FC74+982132]\n\tOrdinal0 [0x00FB46B4+1132212]\n\tOrdinal0 [0x00FC4812+1198098]\n\tOrdinal0 [0x00FB42B6+1131190]\n\tOrdinal0 [0x00F8E860+976992]\n\tOrdinal0 [0x00F8F756+980822]\n\tGetHandleVerifier [0x0135CC62+2510274]\n\tGetHandleVerifier [0x0134F760+2455744]\n\tGetHandleVerifier [0x0117EABA+551962]\n\tGetHandleVerifier [0x0117D916+547446]\n\tOrdinal0 [0x01085F3B+1990459]\n\tOrdinal0 [0x0108A898+2009240]\n\tOrdinal0 [0x0108A985+2009477]\n\tOrdinal0 [0x01093AD1+2046673]\n\tBaseThreadInitThunk [0x76C06739+25]\n\tRtlGetFullPathName_UEx [0x777C8FEF+1215]\n\tRtlGetFullPathName_UEx [0x777C8FBD+1165]\n",
     "output_type": "error",
     "traceback": [
      "\u001b[1;31m---------------------------------------------------------------------------\u001b[0m",
      "\u001b[1;31mElementNotInteractableException\u001b[0m           Traceback (most recent call last)",
      "\u001b[1;32m~\\AppData\\Local\\Temp/ipykernel_27900/24567576.py\u001b[0m in \u001b[0;36m<module>\u001b[1;34m\u001b[0m\n\u001b[0;32m      1\u001b[0m \u001b[0msearch_field_product\u001b[0m\u001b[1;33m=\u001b[0m\u001b[0mdriver\u001b[0m\u001b[1;33m.\u001b[0m\u001b[0mfind_element_by_id\u001b[0m\u001b[1;33m(\u001b[0m\u001b[1;34m\"search\"\u001b[0m\u001b[1;33m)\u001b[0m\u001b[1;33m\u001b[0m\u001b[1;33m\u001b[0m\u001b[0m\n\u001b[1;32m----> 2\u001b[1;33m \u001b[0msearch_field_product\u001b[0m\u001b[1;33m.\u001b[0m\u001b[0msend_keys\u001b[0m\u001b[1;33m(\u001b[0m\u001b[1;34m'coke studio'\u001b[0m\u001b[1;33m)\u001b[0m\u001b[1;33m\u001b[0m\u001b[1;33m\u001b[0m\u001b[0m\n\u001b[0m",
      "\u001b[1;32m~\\anaconda3\\lib\\site-packages\\selenium\\webdriver\\remote\\webelement.py\u001b[0m in \u001b[0;36msend_keys\u001b[1;34m(self, *value)\u001b[0m\n\u001b[0;32m    538\u001b[0m                 \u001b[0mvalue\u001b[0m \u001b[1;33m=\u001b[0m \u001b[1;34m'\\n'\u001b[0m\u001b[1;33m.\u001b[0m\u001b[0mjoin\u001b[0m\u001b[1;33m(\u001b[0m\u001b[0mremote_files\u001b[0m\u001b[1;33m)\u001b[0m\u001b[1;33m\u001b[0m\u001b[1;33m\u001b[0m\u001b[0m\n\u001b[0;32m    539\u001b[0m \u001b[1;33m\u001b[0m\u001b[0m\n\u001b[1;32m--> 540\u001b[1;33m         self._execute(Command.SEND_KEYS_TO_ELEMENT,\n\u001b[0m\u001b[0;32m    541\u001b[0m                       {'text': \"\".join(keys_to_typing(value)),\n\u001b[0;32m    542\u001b[0m                        'value': keys_to_typing(value)})\n",
      "\u001b[1;32m~\\anaconda3\\lib\\site-packages\\selenium\\webdriver\\remote\\webelement.py\u001b[0m in \u001b[0;36m_execute\u001b[1;34m(self, command, params)\u001b[0m\n\u001b[0;32m    708\u001b[0m             \u001b[0mparams\u001b[0m \u001b[1;33m=\u001b[0m \u001b[1;33m{\u001b[0m\u001b[1;33m}\u001b[0m\u001b[1;33m\u001b[0m\u001b[1;33m\u001b[0m\u001b[0m\n\u001b[0;32m    709\u001b[0m         \u001b[0mparams\u001b[0m\u001b[1;33m[\u001b[0m\u001b[1;34m'id'\u001b[0m\u001b[1;33m]\u001b[0m \u001b[1;33m=\u001b[0m \u001b[0mself\u001b[0m\u001b[1;33m.\u001b[0m\u001b[0m_id\u001b[0m\u001b[1;33m\u001b[0m\u001b[1;33m\u001b[0m\u001b[0m\n\u001b[1;32m--> 710\u001b[1;33m         \u001b[1;32mreturn\u001b[0m \u001b[0mself\u001b[0m\u001b[1;33m.\u001b[0m\u001b[0m_parent\u001b[0m\u001b[1;33m.\u001b[0m\u001b[0mexecute\u001b[0m\u001b[1;33m(\u001b[0m\u001b[0mcommand\u001b[0m\u001b[1;33m,\u001b[0m \u001b[0mparams\u001b[0m\u001b[1;33m)\u001b[0m\u001b[1;33m\u001b[0m\u001b[1;33m\u001b[0m\u001b[0m\n\u001b[0m\u001b[0;32m    711\u001b[0m \u001b[1;33m\u001b[0m\u001b[0m\n\u001b[0;32m    712\u001b[0m     \u001b[1;32mdef\u001b[0m \u001b[0mfind_element\u001b[0m\u001b[1;33m(\u001b[0m\u001b[0mself\u001b[0m\u001b[1;33m,\u001b[0m \u001b[0mby\u001b[0m\u001b[1;33m=\u001b[0m\u001b[0mBy\u001b[0m\u001b[1;33m.\u001b[0m\u001b[0mID\u001b[0m\u001b[1;33m,\u001b[0m \u001b[0mvalue\u001b[0m\u001b[1;33m=\u001b[0m\u001b[1;32mNone\u001b[0m\u001b[1;33m)\u001b[0m\u001b[1;33m:\u001b[0m\u001b[1;33m\u001b[0m\u001b[1;33m\u001b[0m\u001b[0m\n",
      "\u001b[1;32m~\\anaconda3\\lib\\site-packages\\selenium\\webdriver\\remote\\webdriver.py\u001b[0m in \u001b[0;36mexecute\u001b[1;34m(self, driver_command, params)\u001b[0m\n\u001b[0;32m    423\u001b[0m         \u001b[0mresponse\u001b[0m \u001b[1;33m=\u001b[0m \u001b[0mself\u001b[0m\u001b[1;33m.\u001b[0m\u001b[0mcommand_executor\u001b[0m\u001b[1;33m.\u001b[0m\u001b[0mexecute\u001b[0m\u001b[1;33m(\u001b[0m\u001b[0mdriver_command\u001b[0m\u001b[1;33m,\u001b[0m \u001b[0mparams\u001b[0m\u001b[1;33m)\u001b[0m\u001b[1;33m\u001b[0m\u001b[1;33m\u001b[0m\u001b[0m\n\u001b[0;32m    424\u001b[0m         \u001b[1;32mif\u001b[0m \u001b[0mresponse\u001b[0m\u001b[1;33m:\u001b[0m\u001b[1;33m\u001b[0m\u001b[1;33m\u001b[0m\u001b[0m\n\u001b[1;32m--> 425\u001b[1;33m             \u001b[0mself\u001b[0m\u001b[1;33m.\u001b[0m\u001b[0merror_handler\u001b[0m\u001b[1;33m.\u001b[0m\u001b[0mcheck_response\u001b[0m\u001b[1;33m(\u001b[0m\u001b[0mresponse\u001b[0m\u001b[1;33m)\u001b[0m\u001b[1;33m\u001b[0m\u001b[1;33m\u001b[0m\u001b[0m\n\u001b[0m\u001b[0;32m    426\u001b[0m             response['value'] = self._unwrap_value(\n\u001b[0;32m    427\u001b[0m                 response.get('value', None))\n",
      "\u001b[1;32m~\\anaconda3\\lib\\site-packages\\selenium\\webdriver\\remote\\errorhandler.py\u001b[0m in \u001b[0;36mcheck_response\u001b[1;34m(self, response)\u001b[0m\n\u001b[0;32m    245\u001b[0m                 \u001b[0malert_text\u001b[0m \u001b[1;33m=\u001b[0m \u001b[0mvalue\u001b[0m\u001b[1;33m[\u001b[0m\u001b[1;34m'alert'\u001b[0m\u001b[1;33m]\u001b[0m\u001b[1;33m.\u001b[0m\u001b[0mget\u001b[0m\u001b[1;33m(\u001b[0m\u001b[1;34m'text'\u001b[0m\u001b[1;33m)\u001b[0m\u001b[1;33m\u001b[0m\u001b[1;33m\u001b[0m\u001b[0m\n\u001b[0;32m    246\u001b[0m             \u001b[1;32mraise\u001b[0m \u001b[0mexception_class\u001b[0m\u001b[1;33m(\u001b[0m\u001b[0mmessage\u001b[0m\u001b[1;33m,\u001b[0m \u001b[0mscreen\u001b[0m\u001b[1;33m,\u001b[0m \u001b[0mstacktrace\u001b[0m\u001b[1;33m,\u001b[0m \u001b[0malert_text\u001b[0m\u001b[1;33m)\u001b[0m  \u001b[1;31m# type: ignore[call-arg]  # mypy is not smart enough here\u001b[0m\u001b[1;33m\u001b[0m\u001b[1;33m\u001b[0m\u001b[0m\n\u001b[1;32m--> 247\u001b[1;33m         \u001b[1;32mraise\u001b[0m \u001b[0mexception_class\u001b[0m\u001b[1;33m(\u001b[0m\u001b[0mmessage\u001b[0m\u001b[1;33m,\u001b[0m \u001b[0mscreen\u001b[0m\u001b[1;33m,\u001b[0m \u001b[0mstacktrace\u001b[0m\u001b[1;33m)\u001b[0m\u001b[1;33m\u001b[0m\u001b[1;33m\u001b[0m\u001b[0m\n\u001b[0m\u001b[0;32m    248\u001b[0m \u001b[1;33m\u001b[0m\u001b[0m\n\u001b[0;32m    249\u001b[0m     \u001b[1;32mdef\u001b[0m \u001b[0m_value_or_default\u001b[0m\u001b[1;33m(\u001b[0m\u001b[0mself\u001b[0m\u001b[1;33m,\u001b[0m \u001b[0mobj\u001b[0m\u001b[1;33m:\u001b[0m \u001b[0mMapping\u001b[0m\u001b[1;33m[\u001b[0m\u001b[0m_KT\u001b[0m\u001b[1;33m,\u001b[0m \u001b[0m_VT\u001b[0m\u001b[1;33m]\u001b[0m\u001b[1;33m,\u001b[0m \u001b[0mkey\u001b[0m\u001b[1;33m:\u001b[0m \u001b[0m_KT\u001b[0m\u001b[1;33m,\u001b[0m \u001b[0mdefault\u001b[0m\u001b[1;33m:\u001b[0m \u001b[0m_VT\u001b[0m\u001b[1;33m)\u001b[0m \u001b[1;33m->\u001b[0m \u001b[0m_VT\u001b[0m\u001b[1;33m:\u001b[0m\u001b[1;33m\u001b[0m\u001b[1;33m\u001b[0m\u001b[0m\n",
      "\u001b[1;31mElementNotInteractableException\u001b[0m: Message: element not interactable\n  (Session info: chrome=102.0.5005.63)\nStacktrace:\nBacktrace:\n\tOrdinal0 [0x010ED953+2414931]\n\tOrdinal0 [0x0107F5E1+1963489]\n\tOrdinal0 [0x00F6C580+836992]\n\tOrdinal0 [0x00F94BE3+1002467]\n\tOrdinal0 [0x00F942C8+1000136]\n\tOrdinal0 [0x00FB449C+1131676]\n\tOrdinal0 [0x00F8FC74+982132]\n\tOrdinal0 [0x00FB46B4+1132212]\n\tOrdinal0 [0x00FC4812+1198098]\n\tOrdinal0 [0x00FB42B6+1131190]\n\tOrdinal0 [0x00F8E860+976992]\n\tOrdinal0 [0x00F8F756+980822]\n\tGetHandleVerifier [0x0135CC62+2510274]\n\tGetHandleVerifier [0x0134F760+2455744]\n\tGetHandleVerifier [0x0117EABA+551962]\n\tGetHandleVerifier [0x0117D916+547446]\n\tOrdinal0 [0x01085F3B+1990459]\n\tOrdinal0 [0x0108A898+2009240]\n\tOrdinal0 [0x0108A985+2009477]\n\tOrdinal0 [0x01093AD1+2046673]\n\tBaseThreadInitThunk [0x76C06739+25]\n\tRtlGetFullPathName_UEx [0x777C8FEF+1215]\n\tRtlGetFullPathName_UEx [0x777C8FBD+1165]\n"
     ]
    }
   ],
   "source": [
    "search_field_product=driver.find_element_by_id(\"search\")\n",
    "search_field_product.send_keys('coke studio')"
   ]
  },
  {
   "cell_type": "code",
   "execution_count": null,
   "id": "b4bec3fd",
   "metadata": {},
   "outputs": [],
   "source": []
  }
 ],
 "metadata": {
  "kernelspec": {
   "display_name": "Python 3 (ipykernel)",
   "language": "python",
   "name": "python3"
  },
  "language_info": {
   "codemirror_mode": {
    "name": "ipython",
    "version": 3
   },
   "file_extension": ".py",
   "mimetype": "text/x-python",
   "name": "python",
   "nbconvert_exporter": "python",
   "pygments_lexer": "ipython3",
   "version": "3.9.7"
  }
 },
 "nbformat": 4,
 "nbformat_minor": 5
}
