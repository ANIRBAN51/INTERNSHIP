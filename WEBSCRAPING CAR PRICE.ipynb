{
 "cells": [
  {
   "cell_type": "code",
   "execution_count": 1,
   "id": "2542a598",
   "metadata": {},
   "outputs": [],
   "source": [
    "import selenium\n",
    "from selenium import webdriver\n",
    "from selenium.common.exceptions import StaleElementReferenceException, NoSuchElementException\n",
    "import time"
   ]
  },
  {
   "cell_type": "code",
   "execution_count": 2,
   "id": "49405a77",
   "metadata": {},
   "outputs": [],
   "source": [
    "import selenium\n",
    "import pandas as pd\n",
    "from selenium import webdriver\n",
    "import warnings\n",
    "warnings.filterwarnings(\"ignore\")\n",
    "import time"
   ]
  },
  {
   "cell_type": "code",
   "execution_count": 3,
   "id": "c9bd8ce2",
   "metadata": {},
   "outputs": [],
   "source": [
    "driver=webdriver.Chrome(r'C:\\Users\\hp\\OneDrive\\Documents\\chromedriver_win32\\chromedriver.exe')"
   ]
  },
  {
   "cell_type": "code",
   "execution_count": 4,
   "id": "9368ccd2",
   "metadata": {},
   "outputs": [],
   "source": [
    "driver=webdriver.Chrome(\"chromedriver.exe\")\n",
    "time.sleep(2)"
   ]
  },
  {
   "cell_type": "code",
   "execution_count": 5,
   "id": "46d3dab0",
   "metadata": {},
   "outputs": [],
   "source": [
    "url='https://www.cardekho.com/carmodels/Renault/Renault_KWID#leadForm'\n",
    "driver.get(url)"
   ]
  },
  {
   "cell_type": "code",
   "execution_count": 6,
   "id": "fef10046",
   "metadata": {},
   "outputs": [],
   "source": [
    "search_field_designation=driver.find_element_by_id(\"cardekhosearchtext\" ) #job search bar\n",
    "\n",
    "search_field_designation.send_keys(\"usedcars\")\n"
   ]
  },
  {
   "cell_type": "code",
   "execution_count": 7,
   "id": "98f90873",
   "metadata": {},
   "outputs": [],
   "source": [
    "car_names=[]\n",
    "car_price=[]"
   ]
  },
  {
   "cell_type": "code",
   "execution_count": 8,
   "id": "181cee0d",
   "metadata": {},
   "outputs": [
    {
     "data": {
      "text/plain": [
       "[<selenium.webdriver.remote.webelement.WebElement (session=\"d54831188d5ad7d066537f215bacbc52\", element=\"0863397c-2051-40b2-b429-35b5c4757cdd\")>]"
      ]
     },
     "execution_count": 8,
     "metadata": {},
     "output_type": "execute_result"
    }
   ],
   "source": [
    "titles_tags=driver.find_elements_by_xpath('//h1[@class=\"tooltip\"]')\n",
    "titles_tags[0:500]"
   ]
  },
  {
   "cell_type": "code",
   "execution_count": 9,
   "id": "94123d7b",
   "metadata": {},
   "outputs": [
    {
     "data": {
      "text/plain": [
       "['Renault KWID']"
      ]
     },
     "execution_count": 9,
     "metadata": {},
     "output_type": "execute_result"
    }
   ],
   "source": [
    "for i in titles_tags:\n",
    "    title=i.text\n",
    "    car_names.append(title)\n",
    "car_names[0:500]"
   ]
  },
  {
   "cell_type": "code",
   "execution_count": 10,
   "id": "9174ecdf",
   "metadata": {},
   "outputs": [
    {
     "ename": "SyntaxError",
     "evalue": "EOL while scanning string literal (Temp/ipykernel_10632/3486159696.py, line 1)",
     "output_type": "error",
     "traceback": [
      "\u001b[1;36m  File \u001b[1;32m\"C:\\Users\\hp\\AppData\\Local\\Temp/ipykernel_10632/3486159696.py\"\u001b[1;36m, line \u001b[1;32m1\u001b[0m\n\u001b[1;33m    price_tags=driver.find_elements_by_xpath('//div[@class=\"price\"]\u001b[0m\n\u001b[1;37m                                                                   ^\u001b[0m\n\u001b[1;31mSyntaxError\u001b[0m\u001b[1;31m:\u001b[0m EOL while scanning string literal\n"
     ]
    }
   ],
   "source": [
    "price_tags=driver.find_elements_by_xpath('//div[@class=\"price\"]\n",
    "price_tags[0:5000]"
   ]
  },
  {
   "cell_type": "code",
   "execution_count": 4,
   "id": "212872d5",
   "metadata": {},
   "outputs": [],
   "source": [
    "url = \"https://www.amazon.in/ref=nav_logo\"\n",
    "driver.get(url)"
   ]
  },
  {
   "cell_type": "code",
   "execution_count": 6,
   "id": "b94b5b00",
   "metadata": {},
   "outputs": [],
   "source": [
    "search_bar = driver.find_element_by_id(\"twotabsearchtextbox\")    # Locating searc_bar by id\n",
    "#search_bar.clear()                                               # clearing search_bar\n",
    "search_bar.send_keys(\"laptops\")                                   "
   ]
  },
  {
   "cell_type": "code",
   "execution_count": 21,
   "id": "d1cf83cb",
   "metadata": {},
   "outputs": [],
   "source": [
    "search_button = driver.find_element_by_xpath('//button[@class=\"searchbtn\"]')       # Locating search_button by xpath\n",
    "search_button.click()    \n"
   ]
  },
  {
   "cell_type": "code",
   "execution_count": 22,
   "id": "14fe53bf",
   "metadata": {},
   "outputs": [],
   "source": [
    "url='https://www.cardekho.com/mostpopularcars'"
   ]
  },
  {
   "cell_type": "code",
   "execution_count": 23,
   "id": "71847c20",
   "metadata": {},
   "outputs": [],
   "source": [
    "driver.get(url)"
   ]
  },
  {
   "cell_type": "code",
   "execution_count": null,
   "id": "ec920a84",
   "metadata": {},
   "outputs": [],
   "source": [
    "/html/body/div[2]/div/header/div[1]/div/div/div[2]/div/div/form/button"
   ]
  },
  {
   "cell_type": "code",
   "execution_count": 9,
   "id": "48a3e949",
   "metadata": {},
   "outputs": [],
   "source": [
    "time.sleep(2)\n",
    "#locating the core i7 filter\n",
    "filter_button=driver.find_elements_by_xpath(\"//a[@class='a-link-normal s-navigation-item']/span\")\n",
    "for i in filter_button:\n",
    "    if i.text=='Intel Core i7':\n",
    "        i.click()\n",
    "        break"
   ]
  },
  {
   "cell_type": "code",
   "execution_count": 10,
   "id": "1a302198",
   "metadata": {},
   "outputs": [],
   "source": [
    "#Scrapping Titles\n",
    "titles=driver.find_elements_by_xpath(\"//span[@class='a-size-medium a-color-base a-text-normal']\")\n",
    "for i in titles[:10]:\n",
    "    Title.append(i.text)"
   ]
  },
  {
   "cell_type": "code",
   "execution_count": null,
   "id": "37bf931e",
   "metadata": {},
   "outputs": [],
   "source": []
  }
 ],
 "metadata": {
  "kernelspec": {
   "display_name": "Python 3 (ipykernel)",
   "language": "python",
   "name": "python3"
  },
  "language_info": {
   "codemirror_mode": {
    "name": "ipython",
    "version": 3
   },
   "file_extension": ".py",
   "mimetype": "text/x-python",
   "name": "python",
   "nbconvert_exporter": "python",
   "pygments_lexer": "ipython3",
   "version": "3.9.7"
  }
 },
 "nbformat": 4,
 "nbformat_minor": 5
}
