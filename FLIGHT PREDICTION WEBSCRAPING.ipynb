{
 "cells": [
  {
   "cell_type": "code",
   "execution_count": 10,
   "id": "b7fe6d1b",
   "metadata": {},
   "outputs": [],
   "source": [
    "# Importing Libraries\n",
    "import selenium\n",
    "import pandas as pd\n",
    "import time\n",
    "from bs4 import BeautifulSoup\n",
    "\n",
    "# Importing selenium webdriver \n",
    "from selenium import webdriver\n",
    "\n",
    "# Importing required Exceptions which needs to handled\n",
    "from selenium.common.exceptions import StaleElementReferenceException, NoSuchElementException,ElementNotInteractableException\n",
    "\n",
    "#Importing requests\n",
    "import requests\n",
    "\n",
    "# importing regex\n",
    "import re"
   ]
  },
  {
   "cell_type": "code",
   "execution_count": 11,
   "id": "66cd3bce",
   "metadata": {},
   "outputs": [],
   "source": [
    "import warnings\n",
    "warnings.filterwarnings('ignore')"
   ]
  },
  {
   "cell_type": "markdown",
   "id": "5d98be5c",
   "metadata": {},
   "source": [
    "1 Data collection"
   ]
  },
  {
   "cell_type": "code",
   "execution_count": 17,
   "id": "0454f835",
   "metadata": {},
   "outputs": [],
   "source": [
    "driver=webdriver.Chrome(r'C:\\Users\\hp\\OneDrive\\Documents\\chromedriver_win32\\chromedriver.exe')"
   ]
  },
  {
   "cell_type": "code",
   "execution_count": 16,
   "id": "b4c488aa",
   "metadata": {},
   "outputs": [
    {
     "ename": "SessionNotCreatedException",
     "evalue": "Message: session not created: This version of ChromeDriver only supports Chrome version 102\nCurrent browser version is 104.0.5112.80 with binary path C:\\Program Files (x86)\\Google\\Chrome\\Application\\chrome.exe\nStacktrace:\nBacktrace:\n\tOrdinal0 [0x0104D953+2414931]\n\tOrdinal0 [0x00FDF5E1+1963489]\n\tOrdinal0 [0x00ECC6B8+837304]\n\tOrdinal0 [0x00EECAE3+969443]\n\tOrdinal0 [0x00EE86FA+952058]\n\tOrdinal0 [0x00EE5FB1+942001]\n\tOrdinal0 [0x00F19100+1151232]\n\tOrdinal0 [0x00F18D5A+1150298]\n\tOrdinal0 [0x00F142B6+1131190]\n\tOrdinal0 [0x00EEE860+976992]\n\tOrdinal0 [0x00EEF756+980822]\n\tGetHandleVerifier [0x012BCC62+2510274]\n\tGetHandleVerifier [0x012AF760+2455744]\n\tGetHandleVerifier [0x010DEABA+551962]\n\tGetHandleVerifier [0x010DD916+547446]\n\tOrdinal0 [0x00FE5F3B+1990459]\n\tOrdinal0 [0x00FEA898+2009240]\n\tOrdinal0 [0x00FEA985+2009477]\n\tOrdinal0 [0x00FF3AD1+2046673]\n\tBaseThreadInitThunk [0x764C6739+25]\n\tRtlGetFullPathName_UEx [0x77258FEF+1215]\n\tRtlGetFullPathName_UEx [0x77258FBD+1165]\n",
     "output_type": "error",
     "traceback": [
      "\u001b[1;31m---------------------------------------------------------------------------\u001b[0m",
      "\u001b[1;31mSessionNotCreatedException\u001b[0m                Traceback (most recent call last)",
      "\u001b[1;32m~\\AppData\\Local\\Temp/ipykernel_1172/1659935237.py\u001b[0m in \u001b[0;36m<module>\u001b[1;34m\u001b[0m\n\u001b[1;32m----> 1\u001b[1;33m \u001b[0mdriver\u001b[0m\u001b[1;33m=\u001b[0m\u001b[0mwebdriver\u001b[0m\u001b[1;33m.\u001b[0m\u001b[0mChrome\u001b[0m\u001b[1;33m(\u001b[0m\u001b[1;34m\"chromedriver.exe\"\u001b[0m\u001b[1;33m)\u001b[0m\u001b[1;33m\u001b[0m\u001b[1;33m\u001b[0m\u001b[0m\n\u001b[0m\u001b[0;32m      2\u001b[0m \u001b[0mtime\u001b[0m\u001b[1;33m.\u001b[0m\u001b[0msleep\u001b[0m\u001b[1;33m(\u001b[0m\u001b[1;36m2\u001b[0m\u001b[1;33m)\u001b[0m\u001b[1;33m\u001b[0m\u001b[1;33m\u001b[0m\u001b[0m\n",
      "\u001b[1;32m~\\anaconda3\\lib\\site-packages\\selenium\\webdriver\\chrome\\webdriver.py\u001b[0m in \u001b[0;36m__init__\u001b[1;34m(self, executable_path, port, options, service_args, desired_capabilities, service_log_path, chrome_options, service, keep_alive)\u001b[0m\n\u001b[0;32m     68\u001b[0m             \u001b[0mservice\u001b[0m \u001b[1;33m=\u001b[0m \u001b[0mService\u001b[0m\u001b[1;33m(\u001b[0m\u001b[0mexecutable_path\u001b[0m\u001b[1;33m,\u001b[0m \u001b[0mport\u001b[0m\u001b[1;33m,\u001b[0m \u001b[0mservice_args\u001b[0m\u001b[1;33m,\u001b[0m \u001b[0mservice_log_path\u001b[0m\u001b[1;33m)\u001b[0m\u001b[1;33m\u001b[0m\u001b[1;33m\u001b[0m\u001b[0m\n\u001b[0;32m     69\u001b[0m \u001b[1;33m\u001b[0m\u001b[0m\n\u001b[1;32m---> 70\u001b[1;33m         super(WebDriver, self).__init__(DesiredCapabilities.CHROME['browserName'], \"goog\",\n\u001b[0m\u001b[0;32m     71\u001b[0m                                         \u001b[0mport\u001b[0m\u001b[1;33m,\u001b[0m \u001b[0moptions\u001b[0m\u001b[1;33m,\u001b[0m\u001b[1;33m\u001b[0m\u001b[1;33m\u001b[0m\u001b[0m\n\u001b[0;32m     72\u001b[0m                                         \u001b[0mservice_args\u001b[0m\u001b[1;33m,\u001b[0m \u001b[0mdesired_capabilities\u001b[0m\u001b[1;33m,\u001b[0m\u001b[1;33m\u001b[0m\u001b[1;33m\u001b[0m\u001b[0m\n",
      "\u001b[1;32m~\\anaconda3\\lib\\site-packages\\selenium\\webdriver\\chromium\\webdriver.py\u001b[0m in \u001b[0;36m__init__\u001b[1;34m(self, browser_name, vendor_prefix, port, options, service_args, desired_capabilities, service_log_path, service, keep_alive)\u001b[0m\n\u001b[0;32m     91\u001b[0m \u001b[1;33m\u001b[0m\u001b[0m\n\u001b[0;32m     92\u001b[0m         \u001b[1;32mtry\u001b[0m\u001b[1;33m:\u001b[0m\u001b[1;33m\u001b[0m\u001b[1;33m\u001b[0m\u001b[0m\n\u001b[1;32m---> 93\u001b[1;33m             RemoteWebDriver.__init__(\n\u001b[0m\u001b[0;32m     94\u001b[0m                 \u001b[0mself\u001b[0m\u001b[1;33m,\u001b[0m\u001b[1;33m\u001b[0m\u001b[1;33m\u001b[0m\u001b[0m\n\u001b[0;32m     95\u001b[0m                 command_executor=ChromiumRemoteConnection(\n",
      "\u001b[1;32m~\\anaconda3\\lib\\site-packages\\selenium\\webdriver\\remote\\webdriver.py\u001b[0m in \u001b[0;36m__init__\u001b[1;34m(self, command_executor, desired_capabilities, browser_profile, proxy, keep_alive, file_detector, options)\u001b[0m\n\u001b[0;32m    267\u001b[0m         \u001b[0mself\u001b[0m\u001b[1;33m.\u001b[0m\u001b[0mfile_detector\u001b[0m \u001b[1;33m=\u001b[0m \u001b[0mfile_detector\u001b[0m \u001b[1;32mor\u001b[0m \u001b[0mLocalFileDetector\u001b[0m\u001b[1;33m(\u001b[0m\u001b[1;33m)\u001b[0m\u001b[1;33m\u001b[0m\u001b[1;33m\u001b[0m\u001b[0m\n\u001b[0;32m    268\u001b[0m         \u001b[0mself\u001b[0m\u001b[1;33m.\u001b[0m\u001b[0mstart_client\u001b[0m\u001b[1;33m(\u001b[0m\u001b[1;33m)\u001b[0m\u001b[1;33m\u001b[0m\u001b[1;33m\u001b[0m\u001b[0m\n\u001b[1;32m--> 269\u001b[1;33m         \u001b[0mself\u001b[0m\u001b[1;33m.\u001b[0m\u001b[0mstart_session\u001b[0m\u001b[1;33m(\u001b[0m\u001b[0mcapabilities\u001b[0m\u001b[1;33m,\u001b[0m \u001b[0mbrowser_profile\u001b[0m\u001b[1;33m)\u001b[0m\u001b[1;33m\u001b[0m\u001b[1;33m\u001b[0m\u001b[0m\n\u001b[0m\u001b[0;32m    270\u001b[0m \u001b[1;33m\u001b[0m\u001b[0m\n\u001b[0;32m    271\u001b[0m     \u001b[1;32mdef\u001b[0m \u001b[0m__repr__\u001b[0m\u001b[1;33m(\u001b[0m\u001b[0mself\u001b[0m\u001b[1;33m)\u001b[0m\u001b[1;33m:\u001b[0m\u001b[1;33m\u001b[0m\u001b[1;33m\u001b[0m\u001b[0m\n",
      "\u001b[1;32m~\\anaconda3\\lib\\site-packages\\selenium\\webdriver\\remote\\webdriver.py\u001b[0m in \u001b[0;36mstart_session\u001b[1;34m(self, capabilities, browser_profile)\u001b[0m\n\u001b[0;32m    358\u001b[0m         parameters = {\"capabilities\": w3c_caps,\n\u001b[0;32m    359\u001b[0m                       \"desiredCapabilities\": capabilities}\n\u001b[1;32m--> 360\u001b[1;33m         \u001b[0mresponse\u001b[0m \u001b[1;33m=\u001b[0m \u001b[0mself\u001b[0m\u001b[1;33m.\u001b[0m\u001b[0mexecute\u001b[0m\u001b[1;33m(\u001b[0m\u001b[0mCommand\u001b[0m\u001b[1;33m.\u001b[0m\u001b[0mNEW_SESSION\u001b[0m\u001b[1;33m,\u001b[0m \u001b[0mparameters\u001b[0m\u001b[1;33m)\u001b[0m\u001b[1;33m\u001b[0m\u001b[1;33m\u001b[0m\u001b[0m\n\u001b[0m\u001b[0;32m    361\u001b[0m         \u001b[1;32mif\u001b[0m \u001b[1;34m'sessionId'\u001b[0m \u001b[1;32mnot\u001b[0m \u001b[1;32min\u001b[0m \u001b[0mresponse\u001b[0m\u001b[1;33m:\u001b[0m\u001b[1;33m\u001b[0m\u001b[1;33m\u001b[0m\u001b[0m\n\u001b[0;32m    362\u001b[0m             \u001b[0mresponse\u001b[0m \u001b[1;33m=\u001b[0m \u001b[0mresponse\u001b[0m\u001b[1;33m[\u001b[0m\u001b[1;34m'value'\u001b[0m\u001b[1;33m]\u001b[0m\u001b[1;33m\u001b[0m\u001b[1;33m\u001b[0m\u001b[0m\n",
      "\u001b[1;32m~\\anaconda3\\lib\\site-packages\\selenium\\webdriver\\remote\\webdriver.py\u001b[0m in \u001b[0;36mexecute\u001b[1;34m(self, driver_command, params)\u001b[0m\n\u001b[0;32m    423\u001b[0m         \u001b[0mresponse\u001b[0m \u001b[1;33m=\u001b[0m \u001b[0mself\u001b[0m\u001b[1;33m.\u001b[0m\u001b[0mcommand_executor\u001b[0m\u001b[1;33m.\u001b[0m\u001b[0mexecute\u001b[0m\u001b[1;33m(\u001b[0m\u001b[0mdriver_command\u001b[0m\u001b[1;33m,\u001b[0m \u001b[0mparams\u001b[0m\u001b[1;33m)\u001b[0m\u001b[1;33m\u001b[0m\u001b[1;33m\u001b[0m\u001b[0m\n\u001b[0;32m    424\u001b[0m         \u001b[1;32mif\u001b[0m \u001b[0mresponse\u001b[0m\u001b[1;33m:\u001b[0m\u001b[1;33m\u001b[0m\u001b[1;33m\u001b[0m\u001b[0m\n\u001b[1;32m--> 425\u001b[1;33m             \u001b[0mself\u001b[0m\u001b[1;33m.\u001b[0m\u001b[0merror_handler\u001b[0m\u001b[1;33m.\u001b[0m\u001b[0mcheck_response\u001b[0m\u001b[1;33m(\u001b[0m\u001b[0mresponse\u001b[0m\u001b[1;33m)\u001b[0m\u001b[1;33m\u001b[0m\u001b[1;33m\u001b[0m\u001b[0m\n\u001b[0m\u001b[0;32m    426\u001b[0m             response['value'] = self._unwrap_value(\n\u001b[0;32m    427\u001b[0m                 response.get('value', None))\n",
      "\u001b[1;32m~\\anaconda3\\lib\\site-packages\\selenium\\webdriver\\remote\\errorhandler.py\u001b[0m in \u001b[0;36mcheck_response\u001b[1;34m(self, response)\u001b[0m\n\u001b[0;32m    245\u001b[0m                 \u001b[0malert_text\u001b[0m \u001b[1;33m=\u001b[0m \u001b[0mvalue\u001b[0m\u001b[1;33m[\u001b[0m\u001b[1;34m'alert'\u001b[0m\u001b[1;33m]\u001b[0m\u001b[1;33m.\u001b[0m\u001b[0mget\u001b[0m\u001b[1;33m(\u001b[0m\u001b[1;34m'text'\u001b[0m\u001b[1;33m)\u001b[0m\u001b[1;33m\u001b[0m\u001b[1;33m\u001b[0m\u001b[0m\n\u001b[0;32m    246\u001b[0m             \u001b[1;32mraise\u001b[0m \u001b[0mexception_class\u001b[0m\u001b[1;33m(\u001b[0m\u001b[0mmessage\u001b[0m\u001b[1;33m,\u001b[0m \u001b[0mscreen\u001b[0m\u001b[1;33m,\u001b[0m \u001b[0mstacktrace\u001b[0m\u001b[1;33m,\u001b[0m \u001b[0malert_text\u001b[0m\u001b[1;33m)\u001b[0m  \u001b[1;31m# type: ignore[call-arg]  # mypy is not smart enough here\u001b[0m\u001b[1;33m\u001b[0m\u001b[1;33m\u001b[0m\u001b[0m\n\u001b[1;32m--> 247\u001b[1;33m         \u001b[1;32mraise\u001b[0m \u001b[0mexception_class\u001b[0m\u001b[1;33m(\u001b[0m\u001b[0mmessage\u001b[0m\u001b[1;33m,\u001b[0m \u001b[0mscreen\u001b[0m\u001b[1;33m,\u001b[0m \u001b[0mstacktrace\u001b[0m\u001b[1;33m)\u001b[0m\u001b[1;33m\u001b[0m\u001b[1;33m\u001b[0m\u001b[0m\n\u001b[0m\u001b[0;32m    248\u001b[0m \u001b[1;33m\u001b[0m\u001b[0m\n\u001b[0;32m    249\u001b[0m     \u001b[1;32mdef\u001b[0m \u001b[0m_value_or_default\u001b[0m\u001b[1;33m(\u001b[0m\u001b[0mself\u001b[0m\u001b[1;33m,\u001b[0m \u001b[0mobj\u001b[0m\u001b[1;33m:\u001b[0m \u001b[0mMapping\u001b[0m\u001b[1;33m[\u001b[0m\u001b[0m_KT\u001b[0m\u001b[1;33m,\u001b[0m \u001b[0m_VT\u001b[0m\u001b[1;33m]\u001b[0m\u001b[1;33m,\u001b[0m \u001b[0mkey\u001b[0m\u001b[1;33m:\u001b[0m \u001b[0m_KT\u001b[0m\u001b[1;33m,\u001b[0m \u001b[0mdefault\u001b[0m\u001b[1;33m:\u001b[0m \u001b[0m_VT\u001b[0m\u001b[1;33m)\u001b[0m \u001b[1;33m->\u001b[0m \u001b[0m_VT\u001b[0m\u001b[1;33m:\u001b[0m\u001b[1;33m\u001b[0m\u001b[1;33m\u001b[0m\u001b[0m\n",
      "\u001b[1;31mSessionNotCreatedException\u001b[0m: Message: session not created: This version of ChromeDriver only supports Chrome version 102\nCurrent browser version is 104.0.5112.80 with binary path C:\\Program Files (x86)\\Google\\Chrome\\Application\\chrome.exe\nStacktrace:\nBacktrace:\n\tOrdinal0 [0x0104D953+2414931]\n\tOrdinal0 [0x00FDF5E1+1963489]\n\tOrdinal0 [0x00ECC6B8+837304]\n\tOrdinal0 [0x00EECAE3+969443]\n\tOrdinal0 [0x00EE86FA+952058]\n\tOrdinal0 [0x00EE5FB1+942001]\n\tOrdinal0 [0x00F19100+1151232]\n\tOrdinal0 [0x00F18D5A+1150298]\n\tOrdinal0 [0x00F142B6+1131190]\n\tOrdinal0 [0x00EEE860+976992]\n\tOrdinal0 [0x00EEF756+980822]\n\tGetHandleVerifier [0x012BCC62+2510274]\n\tGetHandleVerifier [0x012AF760+2455744]\n\tGetHandleVerifier [0x010DEABA+551962]\n\tGetHandleVerifier [0x010DD916+547446]\n\tOrdinal0 [0x00FE5F3B+1990459]\n\tOrdinal0 [0x00FEA898+2009240]\n\tOrdinal0 [0x00FEA985+2009477]\n\tOrdinal0 [0x00FF3AD1+2046673]\n\tBaseThreadInitThunk [0x764C6739+25]\n\tRtlGetFullPathName_UEx [0x77258FEF+1215]\n\tRtlGetFullPathName_UEx [0x77258FBD+1165]\n"
     ]
    }
   ],
   "source": [
    "driver=webdriver.Chrome(\"chromedriver.exe\")\n",
    "time.sleep(2)"
   ]
  },
  {
   "cell_type": "code",
   "execution_count": 135,
   "id": "7c615a3f",
   "metadata": {},
   "outputs": [],
   "source": [
    "driver.get(\"https://www.yatra.com/\")"
   ]
  },
  {
   "cell_type": "code",
   "execution_count": 136,
   "id": "079f6945",
   "metadata": {},
   "outputs": [],
   "source": [
    "url='https://flight.yatra.com/air-search-ui/dom2/trigger?ADT=1&CHD=0&INF=0&class=Economy&destination=BOM&destinationCountry=IN&flexi=0&flight_depart_date=31%2F07%2F2022&hb=0&noOfSegments=1&origin=DEL&originCountry=IN&type=O&unique=147883644135&viewName=normal'"
   ]
  },
  {
   "cell_type": "code",
   "execution_count": 137,
   "id": "29d7ced6",
   "metadata": {},
   "outputs": [],
   "source": [
    "driver.get(url)"
   ]
  },
  {
   "cell_type": "code",
   "execution_count": 155,
   "id": "360c42c5",
   "metadata": {},
   "outputs": [],
   "source": [
    "airline_name=[]\n",
    "date_ofjourney=[]\n",
    "source_title=[]\n",
    "destination_place=[]\n",
    "route_title=[]\n",
    "departure_time=[]\n",
    "arrival_time=[]\n",
    "duration_time=[]\n",
    "total_stops=[]\n",
    "airplane_price=[]"
   ]
  },
  {
   "cell_type": "code",
   "execution_count": 95,
   "id": "cfa3d6c4",
   "metadata": {},
   "outputs": [
    {
     "data": {
      "text/plain": [
       "[<selenium.webdriver.remote.webelement.WebElement (session=\"37a668459f46d3359386e37ae27398b5\", element=\"5fcdc263-e37e-457f-b248-d246d72c329b\")>,\n",
       " <selenium.webdriver.remote.webelement.WebElement (session=\"37a668459f46d3359386e37ae27398b5\", element=\"7d3e82bf-3219-4a47-8cdf-898236a3d6fb\")>,\n",
       " <selenium.webdriver.remote.webelement.WebElement (session=\"37a668459f46d3359386e37ae27398b5\", element=\"26c4b947-7232-4a67-a298-0fb192e1535a\")>,\n",
       " <selenium.webdriver.remote.webelement.WebElement (session=\"37a668459f46d3359386e37ae27398b5\", element=\"71be3019-4883-420b-8812-fb10ef37e3b9\")>,\n",
       " <selenium.webdriver.remote.webelement.WebElement (session=\"37a668459f46d3359386e37ae27398b5\", element=\"66fa7509-f377-40b6-a97e-7886f742fdbc\")>,\n",
       " <selenium.webdriver.remote.webelement.WebElement (session=\"37a668459f46d3359386e37ae27398b5\", element=\"510288d1-2964-4782-b71c-d8808aca9b4a\")>,\n",
       " <selenium.webdriver.remote.webelement.WebElement (session=\"37a668459f46d3359386e37ae27398b5\", element=\"9e5f49f1-1155-4ed8-a2a0-2c4bbfb0a4b0\")>,\n",
       " <selenium.webdriver.remote.webelement.WebElement (session=\"37a668459f46d3359386e37ae27398b5\", element=\"abe32d1e-c19c-4176-b12e-1cb286c11602\")>,\n",
       " <selenium.webdriver.remote.webelement.WebElement (session=\"37a668459f46d3359386e37ae27398b5\", element=\"52e6c262-3112-4856-a829-d207642d8f8d\")>,\n",
       " <selenium.webdriver.remote.webelement.WebElement (session=\"37a668459f46d3359386e37ae27398b5\", element=\"eee7d40f-929c-443f-8d89-1e83a79e7f6e\")>,\n",
       " <selenium.webdriver.remote.webelement.WebElement (session=\"37a668459f46d3359386e37ae27398b5\", element=\"cce0d6dd-9752-4441-8401-add85d9d5186\")>,\n",
       " <selenium.webdriver.remote.webelement.WebElement (session=\"37a668459f46d3359386e37ae27398b5\", element=\"2aa084df-3da1-41f6-910e-e2fd9f618a19\")>,\n",
       " <selenium.webdriver.remote.webelement.WebElement (session=\"37a668459f46d3359386e37ae27398b5\", element=\"2badf78b-cfb6-459d-b0c2-a229b5ad14af\")>,\n",
       " <selenium.webdriver.remote.webelement.WebElement (session=\"37a668459f46d3359386e37ae27398b5\", element=\"fbbef6dc-26c1-45a6-95e5-cac7b86091f0\")>,\n",
       " <selenium.webdriver.remote.webelement.WebElement (session=\"37a668459f46d3359386e37ae27398b5\", element=\"988b0399-c6f0-4798-8f89-a4be2d26ea66\")>,\n",
       " <selenium.webdriver.remote.webelement.WebElement (session=\"37a668459f46d3359386e37ae27398b5\", element=\"64ff9cf6-bb4a-429f-97b8-82c1b76c2b74\")>,\n",
       " <selenium.webdriver.remote.webelement.WebElement (session=\"37a668459f46d3359386e37ae27398b5\", element=\"05216492-fd8f-4732-b4e0-0bede71d382a\")>,\n",
       " <selenium.webdriver.remote.webelement.WebElement (session=\"37a668459f46d3359386e37ae27398b5\", element=\"33871da0-2aa7-4bcf-af06-918247dea913\")>,\n",
       " <selenium.webdriver.remote.webelement.WebElement (session=\"37a668459f46d3359386e37ae27398b5\", element=\"b098e3b0-ff24-4933-8aaf-03cafab6b369\")>,\n",
       " <selenium.webdriver.remote.webelement.WebElement (session=\"37a668459f46d3359386e37ae27398b5\", element=\"a2518169-a517-4081-ba7d-4f6877b3ce4d\")>,\n",
       " <selenium.webdriver.remote.webelement.WebElement (session=\"37a668459f46d3359386e37ae27398b5\", element=\"eadb997e-0429-4cda-bb83-3bf74ca2f7fd\")>,\n",
       " <selenium.webdriver.remote.webelement.WebElement (session=\"37a668459f46d3359386e37ae27398b5\", element=\"c153ec1d-fdbe-43b3-9d7b-a05c9f3c9c18\")>,\n",
       " <selenium.webdriver.remote.webelement.WebElement (session=\"37a668459f46d3359386e37ae27398b5\", element=\"4b317d01-ad47-496d-a769-da4e549e7cdd\")>,\n",
       " <selenium.webdriver.remote.webelement.WebElement (session=\"37a668459f46d3359386e37ae27398b5\", element=\"58eb5c84-3938-4171-9886-c30399742116\")>,\n",
       " <selenium.webdriver.remote.webelement.WebElement (session=\"37a668459f46d3359386e37ae27398b5\", element=\"8cede7e7-e2b5-40df-bc69-57420574c9d4\")>]"
      ]
     },
     "execution_count": 95,
     "metadata": {},
     "output_type": "execute_result"
    }
   ],
   "source": [
    "airplane_tags=driver.find_elements_by_xpath('//span[@class=\"i-b text ellipsis\"]')\n",
    "airplane_tags\n"
   ]
  },
  {
   "cell_type": "code",
   "execution_count": 96,
   "id": "a0c09f37",
   "metadata": {},
   "outputs": [
    {
     "data": {
      "text/plain": [
       "['Air Asia',\n",
       " 'Vistara',\n",
       " 'Vistara',\n",
       " 'Vistara',\n",
       " 'IndiGo',\n",
       " 'IndiGo',\n",
       " 'IndiGo',\n",
       " 'SpiceJet',\n",
       " 'IndiGo',\n",
       " 'IndiGo',\n",
       " 'SpiceJet',\n",
       " 'Go First',\n",
       " 'IndiGo',\n",
       " 'IndiGo',\n",
       " 'IndiGo',\n",
       " 'IndiGo',\n",
       " 'IndiGo',\n",
       " 'SpiceJet',\n",
       " 'IndiGo',\n",
       " 'IndiGo',\n",
       " 'IndiGo',\n",
       " 'IndiGo',\n",
       " 'IndiGo',\n",
       " 'IndiGo',\n",
       " 'IndiGo']"
      ]
     },
     "execution_count": 96,
     "metadata": {},
     "output_type": "execute_result"
    }
   ],
   "source": [
    "for i in airplane_tags:\n",
    "    title=i.text\n",
    "    airline_name.append(title)\n",
    "airline_name"
   ]
  },
  {
   "cell_type": "code",
   "execution_count": 115,
   "id": "f81a5559",
   "metadata": {},
   "outputs": [
    {
     "data": {
      "text/plain": [
       "[<selenium.webdriver.remote.webelement.WebElement (session=\"37a668459f46d3359386e37ae27398b5\", element=\"f6ba59e2-2989-4676-b3db-542e6433f5d9\")>]"
      ]
     },
     "execution_count": 115,
     "metadata": {},
     "output_type": "execute_result"
    }
   ],
   "source": [
    "date_tags=driver.find_elements_by_xpath('//div[@class=\"scroller full-width flex\"]')\n",
    "date_tags"
   ]
  },
  {
   "cell_type": "code",
   "execution_count": 116,
   "id": "2ec40e23",
   "metadata": {},
   "outputs": [
    {
     "data": {
      "text/plain": [
       "['Date',\n",
       " '',\n",
       " 'Date',\n",
       " '',\n",
       " 'Depart Time:',\n",
       " 'Depart Time:\\nFrom New Delhi\\n00 - 06\\n06 - 12\\n12 - 18\\n18 - 00',\n",
       " 'JUL',\n",
       " 'JUL',\n",
       " 'Sat, 30 Jul\\n8,578\\nSun, 31 Jul\\n8,500\\nMon, 1 Aug\\n8,500\\nTue, 2 Aug\\n8,579\\nWed, 3 Aug\\n8,500\\nThu, 4 Aug\\n8,579\\nFri, 5 Aug\\n8,500\\nJUL',\n",
       " 'Sat, 30 Jul\\n8,578\\nSun, 31 Jul\\n8,500\\nMon, 1 Aug\\n8,500\\nTue, 2 Aug\\n8,579\\nWed, 3 Aug\\n8,500\\nThu, 4 Aug\\n8,579\\nFri, 5 Aug\\n8,500',\n",
       " 'Sat, 30 Jul\\n8,578\\nSun, 31 Jul\\n8,500\\nMon, 1 Aug\\n8,500\\nTue, 2 Aug\\n8,579\\nWed, 3 Aug\\n8,500\\nThu, 4 Aug\\n8,579\\nFri, 5 Aug\\n8,500']"
      ]
     },
     "execution_count": 116,
     "metadata": {},
     "output_type": "execute_result"
    }
   ],
   "source": [
    "for i in date_tags:\n",
    "    title=i.text\n",
    "    date_ofjourney.append(title)\n",
    "date_ofjourney"
   ]
  },
  {
   "cell_type": "code",
   "execution_count": 122,
   "id": "ad5c5f37",
   "metadata": {},
   "outputs": [
    {
     "data": {
      "text/plain": [
       "[<selenium.webdriver.remote.webelement.WebElement (session=\"37a668459f46d3359386e37ae27398b5\", element=\"981be079-139b-4e1d-b5df-d015011454c0\")>,\n",
       " <selenium.webdriver.remote.webelement.WebElement (session=\"37a668459f46d3359386e37ae27398b5\", element=\"6195f3a2-f516-401d-8cb5-2715467b9c4b\")>]"
      ]
     },
     "execution_count": 122,
     "metadata": {},
     "output_type": "execute_result"
    }
   ],
   "source": [
    "source_tags=driver.find_elements_by_xpath('//div[@class=\"font-lightestgrey fs-12 ellipsis\"]/span[1]')\n",
    "source_tags"
   ]
  },
  {
   "cell_type": "code",
   "execution_count": 123,
   "id": "d774dc89",
   "metadata": {},
   "outputs": [
    {
     "data": {
      "text/plain": [
       "['(Economy)',\n",
       " '(Economy)',\n",
       " 'Indira Gandhi,T-3',\n",
       " 'Bengaluru',\n",
       " 'Indira Gandhi',\n",
       " 'Bengaluru']"
      ]
     },
     "execution_count": 123,
     "metadata": {},
     "output_type": "execute_result"
    }
   ],
   "source": [
    "for i in source_tags:\n",
    "    title=i.text\n",
    "    source_title.append(title)\n",
    "source_title"
   ]
  },
  {
   "cell_type": "code",
   "execution_count": 125,
   "id": "0d175135",
   "metadata": {},
   "outputs": [
    {
     "data": {
      "text/plain": [
       "[<selenium.webdriver.remote.webelement.WebElement (session=\"37a668459f46d3359386e37ae27398b5\", element=\"af5874b4-86a1-410d-a8ab-ba3111db7475\")>,\n",
       " <selenium.webdriver.remote.webelement.WebElement (session=\"37a668459f46d3359386e37ae27398b5\", element=\"7806f535-29bd-4836-99a7-96555d5410a3\")>,\n",
       " <selenium.webdriver.remote.webelement.WebElement (session=\"37a668459f46d3359386e37ae27398b5\", element=\"620df967-2114-4a7c-8052-aee361b49592\")>,\n",
       " <selenium.webdriver.remote.webelement.WebElement (session=\"37a668459f46d3359386e37ae27398b5\", element=\"2f208ae1-eba8-44f7-bcdf-5f226a8fafa1\")>,\n",
       " <selenium.webdriver.remote.webelement.WebElement (session=\"37a668459f46d3359386e37ae27398b5\", element=\"d905d02a-0159-4ff2-b14e-34939c767a9d\")>,\n",
       " <selenium.webdriver.remote.webelement.WebElement (session=\"37a668459f46d3359386e37ae27398b5\", element=\"2e0ab125-3dbb-4496-aabf-945e448b81a1\")>,\n",
       " <selenium.webdriver.remote.webelement.WebElement (session=\"37a668459f46d3359386e37ae27398b5\", element=\"ff72919c-01c1-4810-9dc6-118b356c7ac7\")>,\n",
       " <selenium.webdriver.remote.webelement.WebElement (session=\"37a668459f46d3359386e37ae27398b5\", element=\"8a7a883a-6434-4549-8c41-b6cb94db5cc6\")>,\n",
       " <selenium.webdriver.remote.webelement.WebElement (session=\"37a668459f46d3359386e37ae27398b5\", element=\"5df30738-7642-4952-8479-aa4636d4f344\")>,\n",
       " <selenium.webdriver.remote.webelement.WebElement (session=\"37a668459f46d3359386e37ae27398b5\", element=\"e407a859-69f9-45e2-83e5-c9ba064eeca7\")>,\n",
       " <selenium.webdriver.remote.webelement.WebElement (session=\"37a668459f46d3359386e37ae27398b5\", element=\"2cf00c18-f9b2-4027-acdb-755195d7c32b\")>,\n",
       " <selenium.webdriver.remote.webelement.WebElement (session=\"37a668459f46d3359386e37ae27398b5\", element=\"9497bd89-d158-4636-beb7-40b2cf87ed68\")>,\n",
       " <selenium.webdriver.remote.webelement.WebElement (session=\"37a668459f46d3359386e37ae27398b5\", element=\"32d2a1ef-e4fc-4eda-9d8b-29b6306a6510\")>,\n",
       " <selenium.webdriver.remote.webelement.WebElement (session=\"37a668459f46d3359386e37ae27398b5\", element=\"802692da-8d3e-4178-8d27-bf46960d09b0\")>,\n",
       " <selenium.webdriver.remote.webelement.WebElement (session=\"37a668459f46d3359386e37ae27398b5\", element=\"3f39dfa0-0c2d-4385-b394-dc7048620c7f\")>,\n",
       " <selenium.webdriver.remote.webelement.WebElement (session=\"37a668459f46d3359386e37ae27398b5\", element=\"3fa0ba64-290f-4ea0-8023-964f3b1edd14\")>,\n",
       " <selenium.webdriver.remote.webelement.WebElement (session=\"37a668459f46d3359386e37ae27398b5\", element=\"5bb828ec-0c5f-46c6-a850-39c414d6af10\")>,\n",
       " <selenium.webdriver.remote.webelement.WebElement (session=\"37a668459f46d3359386e37ae27398b5\", element=\"54da0cb9-4e92-4189-8016-384797ccb090\")>,\n",
       " <selenium.webdriver.remote.webelement.WebElement (session=\"37a668459f46d3359386e37ae27398b5\", element=\"dd45bde2-f4ec-44e1-8e74-18fcbf476ffa\")>,\n",
       " <selenium.webdriver.remote.webelement.WebElement (session=\"37a668459f46d3359386e37ae27398b5\", element=\"001b9a29-085d-4fb8-a846-b23a34775177\")>,\n",
       " <selenium.webdriver.remote.webelement.WebElement (session=\"37a668459f46d3359386e37ae27398b5\", element=\"ac9ebf72-c0be-4584-94ee-ec37fae6b4ae\")>,\n",
       " <selenium.webdriver.remote.webelement.WebElement (session=\"37a668459f46d3359386e37ae27398b5\", element=\"06ba2e83-397a-4d40-99e9-c52d9120d59a\")>,\n",
       " <selenium.webdriver.remote.webelement.WebElement (session=\"37a668459f46d3359386e37ae27398b5\", element=\"c7a77464-dd9a-4934-9d1d-67c6bf7b29b7\")>,\n",
       " <selenium.webdriver.remote.webelement.WebElement (session=\"37a668459f46d3359386e37ae27398b5\", element=\"3bc5238d-8933-4d23-ba7c-770728731672\")>,\n",
       " <selenium.webdriver.remote.webelement.WebElement (session=\"37a668459f46d3359386e37ae27398b5\", element=\"fca51b6e-c715-4950-903f-8065095d1503\")>,\n",
       " <selenium.webdriver.remote.webelement.WebElement (session=\"37a668459f46d3359386e37ae27398b5\", element=\"62bde6d9-35b7-43fe-adb4-4c31d0134193\")>,\n",
       " <selenium.webdriver.remote.webelement.WebElement (session=\"37a668459f46d3359386e37ae27398b5\", element=\"ce9b780a-a8aa-493a-a7ae-eae467c12abe\")>,\n",
       " <selenium.webdriver.remote.webelement.WebElement (session=\"37a668459f46d3359386e37ae27398b5\", element=\"a41d37e5-00cc-4549-a6aa-0510daa5c86f\")>,\n",
       " <selenium.webdriver.remote.webelement.WebElement (session=\"37a668459f46d3359386e37ae27398b5\", element=\"793909a9-c98e-495a-a4c7-6eeda0276725\")>,\n",
       " <selenium.webdriver.remote.webelement.WebElement (session=\"37a668459f46d3359386e37ae27398b5\", element=\"054289fa-d49d-4558-805d-91b4b036ed2c\")>,\n",
       " <selenium.webdriver.remote.webelement.WebElement (session=\"37a668459f46d3359386e37ae27398b5\", element=\"e934c3ee-6a9f-4146-923c-cb000ee22977\")>,\n",
       " <selenium.webdriver.remote.webelement.WebElement (session=\"37a668459f46d3359386e37ae27398b5\", element=\"512d35d3-e946-494f-9ead-05c2ffab969d\")>,\n",
       " <selenium.webdriver.remote.webelement.WebElement (session=\"37a668459f46d3359386e37ae27398b5\", element=\"e97ebc72-817d-45fb-8ed3-6883df61e725\")>,\n",
       " <selenium.webdriver.remote.webelement.WebElement (session=\"37a668459f46d3359386e37ae27398b5\", element=\"fe1351d0-20f5-4ada-b523-f22b7490bfff\")>,\n",
       " <selenium.webdriver.remote.webelement.WebElement (session=\"37a668459f46d3359386e37ae27398b5\", element=\"77e431f7-170e-4ef7-a3c0-e51906a76bd1\")>,\n",
       " <selenium.webdriver.remote.webelement.WebElement (session=\"37a668459f46d3359386e37ae27398b5\", element=\"37ad4b11-78cb-4aec-9172-b428afa0496f\")>,\n",
       " <selenium.webdriver.remote.webelement.WebElement (session=\"37a668459f46d3359386e37ae27398b5\", element=\"286385b6-b134-41b5-ac86-8bd4ae41e26e\")>,\n",
       " <selenium.webdriver.remote.webelement.WebElement (session=\"37a668459f46d3359386e37ae27398b5\", element=\"8d7aa262-3875-4cbc-a42b-25d7f4f56019\")>,\n",
       " <selenium.webdriver.remote.webelement.WebElement (session=\"37a668459f46d3359386e37ae27398b5\", element=\"ee7badc2-3c07-4744-ac06-409ac13726ab\")>,\n",
       " <selenium.webdriver.remote.webelement.WebElement (session=\"37a668459f46d3359386e37ae27398b5\", element=\"c163be60-e2ff-41c3-88ea-bb9b18cd5903\")>,\n",
       " <selenium.webdriver.remote.webelement.WebElement (session=\"37a668459f46d3359386e37ae27398b5\", element=\"e7203364-8670-4053-bd81-f727bcf1def0\")>,\n",
       " <selenium.webdriver.remote.webelement.WebElement (session=\"37a668459f46d3359386e37ae27398b5\", element=\"b84df7c5-061d-43ab-97cb-ed3f77f13706\")>,\n",
       " <selenium.webdriver.remote.webelement.WebElement (session=\"37a668459f46d3359386e37ae27398b5\", element=\"9f549869-1e25-45cd-adf5-eb4f131d4562\")>,\n",
       " <selenium.webdriver.remote.webelement.WebElement (session=\"37a668459f46d3359386e37ae27398b5\", element=\"30f2d358-ee69-4d6d-831b-580af16eb64b\")>,\n",
       " <selenium.webdriver.remote.webelement.WebElement (session=\"37a668459f46d3359386e37ae27398b5\", element=\"08dad7bb-3e21-4263-8e73-ed653bc4860e\")>,\n",
       " <selenium.webdriver.remote.webelement.WebElement (session=\"37a668459f46d3359386e37ae27398b5\", element=\"95862085-081d-4446-857b-f1a7b1421b54\")>,\n",
       " <selenium.webdriver.remote.webelement.WebElement (session=\"37a668459f46d3359386e37ae27398b5\", element=\"428649a4-0f3e-499a-a471-3bcf841ac1c3\")>,\n",
       " <selenium.webdriver.remote.webelement.WebElement (session=\"37a668459f46d3359386e37ae27398b5\", element=\"f55b17d7-b9f6-4295-9659-7d17b0c9c4ee\")>,\n",
       " <selenium.webdriver.remote.webelement.WebElement (session=\"37a668459f46d3359386e37ae27398b5\", element=\"e3e557be-ad62-4903-8e1a-4fc8e0b69c1c\")>,\n",
       " <selenium.webdriver.remote.webelement.WebElement (session=\"37a668459f46d3359386e37ae27398b5\", element=\"083d412d-a626-4cc8-82b4-664c8bddf9c4\")>]"
      ]
     },
     "execution_count": 125,
     "metadata": {},
     "output_type": "execute_result"
    }
   ],
   "source": [
    "destination_title=driver.find_elements_by_xpath('//p[@class=\"fs-10 font-lightgrey no-wrap city ellipsis\"]')\n",
    "destination_title"
   ]
  },
  {
   "cell_type": "code",
   "execution_count": 126,
   "id": "bc42ccc3",
   "metadata": {},
   "outputs": [
    {
     "data": {
      "text/plain": [
       "['New Delhi',\n",
       " 'Mumbai',\n",
       " 'New Delhi',\n",
       " 'Mumbai',\n",
       " 'New Delhi',\n",
       " 'Mumbai',\n",
       " 'New Delhi',\n",
       " 'Mumbai',\n",
       " 'New Delhi',\n",
       " 'Mumbai',\n",
       " 'New Delhi',\n",
       " 'Mumbai',\n",
       " 'New Delhi',\n",
       " 'Mumbai',\n",
       " 'New Delhi',\n",
       " 'Mumbai',\n",
       " 'New Delhi',\n",
       " 'Mumbai',\n",
       " 'New Delhi',\n",
       " 'Mumbai',\n",
       " 'New Delhi',\n",
       " 'Mumbai',\n",
       " 'New Delhi',\n",
       " 'Mumbai',\n",
       " 'New Delhi',\n",
       " 'Mumbai',\n",
       " 'New Delhi',\n",
       " 'Mumbai',\n",
       " 'New Delhi',\n",
       " 'Mumbai',\n",
       " 'New Delhi',\n",
       " 'Mumbai',\n",
       " 'New Delhi',\n",
       " 'Mumbai',\n",
       " 'New Delhi',\n",
       " 'Mumbai',\n",
       " 'New Delhi',\n",
       " 'Mumbai',\n",
       " 'New Delhi',\n",
       " 'Mumbai',\n",
       " 'New Delhi',\n",
       " 'Mumbai',\n",
       " 'New Delhi',\n",
       " 'Mumbai',\n",
       " 'New Delhi',\n",
       " 'Mumbai',\n",
       " 'New Delhi',\n",
       " 'Mumbai',\n",
       " 'New Delhi',\n",
       " 'Mumbai']"
      ]
     },
     "execution_count": 126,
     "metadata": {},
     "output_type": "execute_result"
    }
   ],
   "source": [
    "for i in destination_title:\n",
    "    title=i.text\n",
    "    destination_place.append(title)\n",
    "destination_place"
   ]
  },
  {
   "cell_type": "code",
   "execution_count": 145,
   "id": "70bc90e2",
   "metadata": {},
   "outputs": [
    {
     "data": {
      "text/plain": [
       "[<selenium.webdriver.remote.webelement.WebElement (session=\"280c1b0a6f8cec6681e9ab177f8b005c\", element=\"176b9df6-d4f0-4788-8b93-87ab9c84e3ae\")>,\n",
       " <selenium.webdriver.remote.webelement.WebElement (session=\"280c1b0a6f8cec6681e9ab177f8b005c\", element=\"c973b348-aac2-4e80-bdb7-aef104adc38e\")>,\n",
       " <selenium.webdriver.remote.webelement.WebElement (session=\"280c1b0a6f8cec6681e9ab177f8b005c\", element=\"929755ba-0c18-4a4b-836e-40f09b85be85\")>,\n",
       " <selenium.webdriver.remote.webelement.WebElement (session=\"280c1b0a6f8cec6681e9ab177f8b005c\", element=\"93a26ad9-0cf4-40b6-b302-d592c5242337\")>,\n",
       " <selenium.webdriver.remote.webelement.WebElement (session=\"280c1b0a6f8cec6681e9ab177f8b005c\", element=\"cac0fb59-9bae-4d1a-9314-a9f3d36bfd13\")>,\n",
       " <selenium.webdriver.remote.webelement.WebElement (session=\"280c1b0a6f8cec6681e9ab177f8b005c\", element=\"0c4e0946-1420-4e03-8e0b-f14ca8bd574e\")>]"
      ]
     },
     "execution_count": 145,
     "metadata": {},
     "output_type": "execute_result"
    }
   ],
   "source": [
    "route_tag=driver.find_elements_by_xpath('//span[@class=\"bold\"]')\n",
    "route_tag"
   ]
  },
  {
   "cell_type": "code",
   "execution_count": 146,
   "id": "9509fc3c",
   "metadata": {},
   "outputs": [
    {
     "data": {
      "text/plain": [
       "['', '', '', 'Bangalore (BLR)', '8h 05m', '']"
      ]
     },
     "execution_count": 146,
     "metadata": {},
     "output_type": "execute_result"
    }
   ],
   "source": [
    "for i in route_tag:\n",
    "    title=i.text\n",
    "    route_title.append(title)\n",
    "route_title"
   ]
  },
  {
   "cell_type": "code",
   "execution_count": null,
   "id": "0ede1fec",
   "metadata": {},
   "outputs": [],
   "source": []
  },
  {
   "cell_type": "code",
   "execution_count": null,
   "id": "ac5ed568",
   "metadata": {},
   "outputs": [],
   "source": []
  },
  {
   "cell_type": "code",
   "execution_count": 149,
   "id": "aad18020",
   "metadata": {},
   "outputs": [
    {
     "data": {
      "text/plain": [
       "[<selenium.webdriver.remote.webelement.WebElement (session=\"280c1b0a6f8cec6681e9ab177f8b005c\", element=\"a02b1515-6b68-43b0-812d-43f35faf3198\")>,\n",
       " <selenium.webdriver.remote.webelement.WebElement (session=\"280c1b0a6f8cec6681e9ab177f8b005c\", element=\"cc866ce0-ba98-400d-bda7-6dbedc84d89d\")>,\n",
       " <selenium.webdriver.remote.webelement.WebElement (session=\"280c1b0a6f8cec6681e9ab177f8b005c\", element=\"911aff94-9f2e-42f2-8467-ba4fe1ca1c15\")>,\n",
       " <selenium.webdriver.remote.webelement.WebElement (session=\"280c1b0a6f8cec6681e9ab177f8b005c\", element=\"8039bc67-6c73-4083-8fc4-67c3355e5212\")>,\n",
       " <selenium.webdriver.remote.webelement.WebElement (session=\"280c1b0a6f8cec6681e9ab177f8b005c\", element=\"ae042717-48f6-4cba-b964-71c62cbd68fa\")>,\n",
       " <selenium.webdriver.remote.webelement.WebElement (session=\"280c1b0a6f8cec6681e9ab177f8b005c\", element=\"8d737872-3aae-46d6-8ba2-95ee6c25a45b\")>,\n",
       " <selenium.webdriver.remote.webelement.WebElement (session=\"280c1b0a6f8cec6681e9ab177f8b005c\", element=\"d1e128b9-1211-4258-a0ff-725413024521\")>,\n",
       " <selenium.webdriver.remote.webelement.WebElement (session=\"280c1b0a6f8cec6681e9ab177f8b005c\", element=\"3d299865-1bd8-4e3d-a4a8-df59c80baa5e\")>,\n",
       " <selenium.webdriver.remote.webelement.WebElement (session=\"280c1b0a6f8cec6681e9ab177f8b005c\", element=\"5d019f07-cca1-4324-b0d9-bebcb24f1a94\")>,\n",
       " <selenium.webdriver.remote.webelement.WebElement (session=\"280c1b0a6f8cec6681e9ab177f8b005c\", element=\"3355e0f4-2e35-458a-ba6e-b82e60e82ff7\")>,\n",
       " <selenium.webdriver.remote.webelement.WebElement (session=\"280c1b0a6f8cec6681e9ab177f8b005c\", element=\"0b3e7de7-8f94-4fb4-be59-3c92b42ada88\")>,\n",
       " <selenium.webdriver.remote.webelement.WebElement (session=\"280c1b0a6f8cec6681e9ab177f8b005c\", element=\"3657e071-8b81-4654-936a-24901e5ff49b\")>,\n",
       " <selenium.webdriver.remote.webelement.WebElement (session=\"280c1b0a6f8cec6681e9ab177f8b005c\", element=\"c0724add-fa1c-4a71-a8e0-3c1125e6c983\")>,\n",
       " <selenium.webdriver.remote.webelement.WebElement (session=\"280c1b0a6f8cec6681e9ab177f8b005c\", element=\"b3535a6f-3382-4522-a276-d4f8c0fb2fd8\")>,\n",
       " <selenium.webdriver.remote.webelement.WebElement (session=\"280c1b0a6f8cec6681e9ab177f8b005c\", element=\"ebab0e7a-c45d-4617-a972-9d370e21fba2\")>,\n",
       " <selenium.webdriver.remote.webelement.WebElement (session=\"280c1b0a6f8cec6681e9ab177f8b005c\", element=\"5c7df6bb-6f26-467e-a1ae-321202719d6a\")>,\n",
       " <selenium.webdriver.remote.webelement.WebElement (session=\"280c1b0a6f8cec6681e9ab177f8b005c\", element=\"b63e7430-d616-4a27-b1ae-ae442664287e\")>,\n",
       " <selenium.webdriver.remote.webelement.WebElement (session=\"280c1b0a6f8cec6681e9ab177f8b005c\", element=\"eb2c69c4-962f-42c0-8896-e44653475cf2\")>,\n",
       " <selenium.webdriver.remote.webelement.WebElement (session=\"280c1b0a6f8cec6681e9ab177f8b005c\", element=\"30dc1305-341a-4362-b35a-7f5cb73885eb\")>,\n",
       " <selenium.webdriver.remote.webelement.WebElement (session=\"280c1b0a6f8cec6681e9ab177f8b005c\", element=\"8d3e2323-b15e-4b22-a7dd-49f144a0e7fb\")>,\n",
       " <selenium.webdriver.remote.webelement.WebElement (session=\"280c1b0a6f8cec6681e9ab177f8b005c\", element=\"55ffb3f4-3142-41bc-8a14-8d3392f269fe\")>,\n",
       " <selenium.webdriver.remote.webelement.WebElement (session=\"280c1b0a6f8cec6681e9ab177f8b005c\", element=\"1816d8e4-bd81-4628-b5af-f2529d341fb2\")>,\n",
       " <selenium.webdriver.remote.webelement.WebElement (session=\"280c1b0a6f8cec6681e9ab177f8b005c\", element=\"85b7d199-4598-44ab-9f1c-0984415fe980\")>,\n",
       " <selenium.webdriver.remote.webelement.WebElement (session=\"280c1b0a6f8cec6681e9ab177f8b005c\", element=\"c716e7b2-a869-4973-90fd-9e84767bd915\")>,\n",
       " <selenium.webdriver.remote.webelement.WebElement (session=\"280c1b0a6f8cec6681e9ab177f8b005c\", element=\"39aba037-cb40-453e-945c-95d2bb38f066\")>]"
      ]
     },
     "execution_count": 149,
     "metadata": {},
     "output_type": "execute_result"
    }
   ],
   "source": [
    "departure_reports=driver.find_elements_by_xpath('//div[@class=\"fs-15 bold time\"]')\n",
    "departure_reports"
   ]
  },
  {
   "cell_type": "code",
   "execution_count": 150,
   "id": "724fee27",
   "metadata": {},
   "outputs": [
    {
     "data": {
      "text/plain": [
       "['Change plane at Bangalore (BLR), Connecting Time: 8h 05m',\n",
       " '08:10',\n",
       " '07:30',\n",
       " '10:20',\n",
       " '08:50',\n",
       " '11:55',\n",
       " '07:20',\n",
       " '10:45',\n",
       " '19:00',\n",
       " '19:45',\n",
       " '18:10',\n",
       " '20:00',\n",
       " '22:45',\n",
       " '21:45',\n",
       " '17:50',\n",
       " '17:20',\n",
       " '06:30',\n",
       " '19:35',\n",
       " '09:50',\n",
       " '22:30',\n",
       " '10:10',\n",
       " '09:35',\n",
       " '17:20',\n",
       " '13:35',\n",
       " '22:30',\n",
       " '19:35']"
      ]
     },
     "execution_count": 150,
     "metadata": {},
     "output_type": "execute_result"
    }
   ],
   "source": [
    "for i in departure_reports:\n",
    "    title=i.text\n",
    "    departure_time.append(title)\n",
    "departure_time"
   ]
  },
  {
   "cell_type": "code",
   "execution_count": 151,
   "id": "4d14c4ec",
   "metadata": {},
   "outputs": [
    {
     "data": {
      "text/plain": [
       "[<selenium.webdriver.remote.webelement.WebElement (session=\"280c1b0a6f8cec6681e9ab177f8b005c\", element=\"65104393-df65-46da-9548-43214d050a5b\")>,\n",
       " <selenium.webdriver.remote.webelement.WebElement (session=\"280c1b0a6f8cec6681e9ab177f8b005c\", element=\"e1d3d140-5e58-4f9c-a3dc-7b0c634abfd0\")>,\n",
       " <selenium.webdriver.remote.webelement.WebElement (session=\"280c1b0a6f8cec6681e9ab177f8b005c\", element=\"2f439cea-0aba-4451-807c-25da953a1b07\")>,\n",
       " <selenium.webdriver.remote.webelement.WebElement (session=\"280c1b0a6f8cec6681e9ab177f8b005c\", element=\"5bd2ca27-8151-4a3a-a9aa-fa549d0e16ed\")>,\n",
       " <selenium.webdriver.remote.webelement.WebElement (session=\"280c1b0a6f8cec6681e9ab177f8b005c\", element=\"6ddb7c3d-d872-4bda-b35d-07433820cfc0\")>,\n",
       " <selenium.webdriver.remote.webelement.WebElement (session=\"280c1b0a6f8cec6681e9ab177f8b005c\", element=\"bfcdf360-f913-465e-bba2-89bde29981ec\")>,\n",
       " <selenium.webdriver.remote.webelement.WebElement (session=\"280c1b0a6f8cec6681e9ab177f8b005c\", element=\"7eb41b68-1064-4ad3-b96f-d0e29ee80083\")>,\n",
       " <selenium.webdriver.remote.webelement.WebElement (session=\"280c1b0a6f8cec6681e9ab177f8b005c\", element=\"c668246a-5b56-4a54-af41-1795e9521def\")>,\n",
       " <selenium.webdriver.remote.webelement.WebElement (session=\"280c1b0a6f8cec6681e9ab177f8b005c\", element=\"e3cd8a30-392c-4d1b-9216-8a1440debe00\")>,\n",
       " <selenium.webdriver.remote.webelement.WebElement (session=\"280c1b0a6f8cec6681e9ab177f8b005c\", element=\"3a0d7425-bf4a-4fa4-9c98-45717abb1e6c\")>,\n",
       " <selenium.webdriver.remote.webelement.WebElement (session=\"280c1b0a6f8cec6681e9ab177f8b005c\", element=\"583766c8-e345-4af6-91b8-73f1c31e2f83\")>,\n",
       " <selenium.webdriver.remote.webelement.WebElement (session=\"280c1b0a6f8cec6681e9ab177f8b005c\", element=\"64f09fb9-bfc3-4c3f-b147-0c81a971553d\")>,\n",
       " <selenium.webdriver.remote.webelement.WebElement (session=\"280c1b0a6f8cec6681e9ab177f8b005c\", element=\"af869453-ada5-41ae-85a7-898568cfad44\")>,\n",
       " <selenium.webdriver.remote.webelement.WebElement (session=\"280c1b0a6f8cec6681e9ab177f8b005c\", element=\"65b650c2-34c7-4cef-a9b8-3abcc61551e8\")>,\n",
       " <selenium.webdriver.remote.webelement.WebElement (session=\"280c1b0a6f8cec6681e9ab177f8b005c\", element=\"96848e0d-523a-4736-be61-82ae31c20a74\")>,\n",
       " <selenium.webdriver.remote.webelement.WebElement (session=\"280c1b0a6f8cec6681e9ab177f8b005c\", element=\"375ff55b-44bd-4104-b327-81f970f5d3e4\")>,\n",
       " <selenium.webdriver.remote.webelement.WebElement (session=\"280c1b0a6f8cec6681e9ab177f8b005c\", element=\"1dacb633-0e8c-4782-8138-35a3793a9495\")>,\n",
       " <selenium.webdriver.remote.webelement.WebElement (session=\"280c1b0a6f8cec6681e9ab177f8b005c\", element=\"c1bab3e6-5386-4a54-8995-1fbf1ab0a5be\")>,\n",
       " <selenium.webdriver.remote.webelement.WebElement (session=\"280c1b0a6f8cec6681e9ab177f8b005c\", element=\"49b117ea-6e28-46d5-9989-16be8b73dd1a\")>,\n",
       " <selenium.webdriver.remote.webelement.WebElement (session=\"280c1b0a6f8cec6681e9ab177f8b005c\", element=\"83c2e150-6fa9-48fa-bb9c-eea9c7fc5ec8\")>,\n",
       " <selenium.webdriver.remote.webelement.WebElement (session=\"280c1b0a6f8cec6681e9ab177f8b005c\", element=\"14ecdf00-413f-498c-b060-58bed524af6c\")>,\n",
       " <selenium.webdriver.remote.webelement.WebElement (session=\"280c1b0a6f8cec6681e9ab177f8b005c\", element=\"7eeabf91-a444-4c1c-bb6e-a0fec9338f2f\")>,\n",
       " <selenium.webdriver.remote.webelement.WebElement (session=\"280c1b0a6f8cec6681e9ab177f8b005c\", element=\"8402a9f7-1e11-423f-bee1-65644e060786\")>,\n",
       " <selenium.webdriver.remote.webelement.WebElement (session=\"280c1b0a6f8cec6681e9ab177f8b005c\", element=\"859ffb9e-f6f5-4ecc-a156-38ccb9b1eef3\")>,\n",
       " <selenium.webdriver.remote.webelement.WebElement (session=\"280c1b0a6f8cec6681e9ab177f8b005c\", element=\"9ee72e22-8423-4548-8be6-129b8a0ecf5a\")>]"
      ]
     },
     "execution_count": 151,
     "metadata": {},
     "output_type": "execute_result"
    }
   ],
   "source": [
    "arrival_at=driver.find_elements_by_xpath('//p[@class=\"bold fs-15 mb-2 pr time\"]')\n",
    "arrival_at"
   ]
  },
  {
   "cell_type": "code",
   "execution_count": 152,
   "id": "161e9db2",
   "metadata": {},
   "outputs": [
    {
     "data": {
      "text/plain": [
       "['DEPART',\n",
       " 'ARRIVE',\n",
       " 'DURATION',\n",
       " '20:40',\n",
       " '09:45',\n",
       " '12:35',\n",
       " '11:10',\n",
       " '13:55',\n",
       " '09:25',\n",
       " '12:50',\n",
       " '21:10',\n",
       " '21:55',\n",
       " '20:25',\n",
       " '22:15',\n",
       " '01:00\\n+ 1 day',\n",
       " '00:10\\n+ 1 day',\n",
       " '22:10',\n",
       " '21:45',\n",
       " '11:20',\n",
       " '00:40\\n+ 1 day',\n",
       " '16:10',\n",
       " '05:30\\n+ 1 day',\n",
       " '17:25',\n",
       " '16:55',\n",
       " '00:40\\n+ 1 day',\n",
       " '21:45',\n",
       " '08:00\\n+ 1 day',\n",
       " '05:30\\n+ 1 day']"
      ]
     },
     "execution_count": 152,
     "metadata": {},
     "output_type": "execute_result"
    }
   ],
   "source": [
    "for i in arrival_at:\n",
    "    title=i.text\n",
    "    arrival_time.append(title)\n",
    "arrival_time"
   ]
  },
  {
   "cell_type": "code",
   "execution_count": 153,
   "id": "407dcae5",
   "metadata": {},
   "outputs": [
    {
     "data": {
      "text/plain": [
       "[<selenium.webdriver.remote.webelement.WebElement (session=\"280c1b0a6f8cec6681e9ab177f8b005c\", element=\"a76893f0-2683-4b00-98f4-f7d88895a476\")>,\n",
       " <selenium.webdriver.remote.webelement.WebElement (session=\"280c1b0a6f8cec6681e9ab177f8b005c\", element=\"31fc1459-25db-4799-a850-34dc45dd82d8\")>,\n",
       " <selenium.webdriver.remote.webelement.WebElement (session=\"280c1b0a6f8cec6681e9ab177f8b005c\", element=\"514ac621-8fcd-4633-86d3-6f7370f916cc\")>,\n",
       " <selenium.webdriver.remote.webelement.WebElement (session=\"280c1b0a6f8cec6681e9ab177f8b005c\", element=\"6e105eb6-b4cc-494f-b83e-f0328bada9ff\")>,\n",
       " <selenium.webdriver.remote.webelement.WebElement (session=\"280c1b0a6f8cec6681e9ab177f8b005c\", element=\"173d53be-60e8-42b6-8a16-b2f531860ad7\")>,\n",
       " <selenium.webdriver.remote.webelement.WebElement (session=\"280c1b0a6f8cec6681e9ab177f8b005c\", element=\"6f5d1e33-7309-4c08-a1c2-83d0bbd874cd\")>,\n",
       " <selenium.webdriver.remote.webelement.WebElement (session=\"280c1b0a6f8cec6681e9ab177f8b005c\", element=\"e32d3680-7498-49fb-9ce5-d6cafc07377a\")>,\n",
       " <selenium.webdriver.remote.webelement.WebElement (session=\"280c1b0a6f8cec6681e9ab177f8b005c\", element=\"182e7e80-875d-4b7b-bec0-fadced937a75\")>,\n",
       " <selenium.webdriver.remote.webelement.WebElement (session=\"280c1b0a6f8cec6681e9ab177f8b005c\", element=\"da9da8d0-adc7-4f65-b518-3728918248bb\")>,\n",
       " <selenium.webdriver.remote.webelement.WebElement (session=\"280c1b0a6f8cec6681e9ab177f8b005c\", element=\"10aca770-f770-46fa-b924-1abff98ab084\")>,\n",
       " <selenium.webdriver.remote.webelement.WebElement (session=\"280c1b0a6f8cec6681e9ab177f8b005c\", element=\"52dd4ed1-4e70-46c5-bf3d-e9a1ce56d71b\")>,\n",
       " <selenium.webdriver.remote.webelement.WebElement (session=\"280c1b0a6f8cec6681e9ab177f8b005c\", element=\"479fb2a4-ff60-46a7-bbf6-632708f6b344\")>,\n",
       " <selenium.webdriver.remote.webelement.WebElement (session=\"280c1b0a6f8cec6681e9ab177f8b005c\", element=\"205816c1-1847-45c4-a796-49b96b40f6e0\")>,\n",
       " <selenium.webdriver.remote.webelement.WebElement (session=\"280c1b0a6f8cec6681e9ab177f8b005c\", element=\"199d7972-325b-4509-9980-05cc6ff90858\")>,\n",
       " <selenium.webdriver.remote.webelement.WebElement (session=\"280c1b0a6f8cec6681e9ab177f8b005c\", element=\"37825e92-5552-4a1a-bfe2-7b59da0492f3\")>,\n",
       " <selenium.webdriver.remote.webelement.WebElement (session=\"280c1b0a6f8cec6681e9ab177f8b005c\", element=\"b6af0880-6f48-4b75-8540-717bc05b91b7\")>,\n",
       " <selenium.webdriver.remote.webelement.WebElement (session=\"280c1b0a6f8cec6681e9ab177f8b005c\", element=\"aba56a7c-dfca-41bf-9b1d-428b688f4715\")>,\n",
       " <selenium.webdriver.remote.webelement.WebElement (session=\"280c1b0a6f8cec6681e9ab177f8b005c\", element=\"7ea3e68c-9cc7-45cc-a9cc-1b42e2cdd34d\")>,\n",
       " <selenium.webdriver.remote.webelement.WebElement (session=\"280c1b0a6f8cec6681e9ab177f8b005c\", element=\"29d3f9c3-e516-4ac1-a0fe-379079544dda\")>,\n",
       " <selenium.webdriver.remote.webelement.WebElement (session=\"280c1b0a6f8cec6681e9ab177f8b005c\", element=\"951d4543-f6f2-4cf7-aa2e-537b8319907b\")>,\n",
       " <selenium.webdriver.remote.webelement.WebElement (session=\"280c1b0a6f8cec6681e9ab177f8b005c\", element=\"ebaecf2d-4cb6-4715-8280-0a9ff44b27d5\")>,\n",
       " <selenium.webdriver.remote.webelement.WebElement (session=\"280c1b0a6f8cec6681e9ab177f8b005c\", element=\"695eb34c-8f10-4e24-b509-65bf5e949805\")>,\n",
       " <selenium.webdriver.remote.webelement.WebElement (session=\"280c1b0a6f8cec6681e9ab177f8b005c\", element=\"876916e5-d5ff-4491-a3ce-e72dbff901b5\")>,\n",
       " <selenium.webdriver.remote.webelement.WebElement (session=\"280c1b0a6f8cec6681e9ab177f8b005c\", element=\"d17a5e5d-feae-40dd-9120-16f5d7272b12\")>,\n",
       " <selenium.webdriver.remote.webelement.WebElement (session=\"280c1b0a6f8cec6681e9ab177f8b005c\", element=\"18f9c83b-c88f-42cf-a155-1791b4ed5f60\")>]"
      ]
     },
     "execution_count": 153,
     "metadata": {},
     "output_type": "execute_result"
    }
   ],
   "source": [
    "duration_hours=driver.find_elements_by_xpath('//p[@class=\"fs-12 bold du mb-2\"]')\n",
    "duration_hours"
   ]
  },
  {
   "cell_type": "code",
   "execution_count": 154,
   "id": "eda1942d",
   "metadata": {},
   "outputs": [
    {
     "data": {
      "text/plain": [
       "['12h 30m',\n",
       " '2h 15m',\n",
       " '2h 15m',\n",
       " '2h 20m',\n",
       " '2h 00m',\n",
       " '2h 05m',\n",
       " '2h 05m',\n",
       " '2h 10m',\n",
       " '2h 10m',\n",
       " '2h 15m',\n",
       " '2h 15m',\n",
       " '2h 15m',\n",
       " '2h 25m',\n",
       " '4h 20m',\n",
       " '4h 25m',\n",
       " '4h 50m',\n",
       " '5h 05m',\n",
       " '6h 20m',\n",
       " '7h 00m',\n",
       " '7h 15m',\n",
       " '7h 20m',\n",
       " '7h 20m',\n",
       " '8h 10m',\n",
       " '9h 30m',\n",
       " '9h 55m']"
      ]
     },
     "execution_count": 154,
     "metadata": {},
     "output_type": "execute_result"
    }
   ],
   "source": [
    "for i in duration_hours:\n",
    "    title=i.text\n",
    "    duration_time.append(title)\n",
    "duration_time"
   ]
  },
  {
   "cell_type": "code",
   "execution_count": 156,
   "id": "dee20e9e",
   "metadata": {},
   "outputs": [
    {
     "data": {
      "text/plain": [
       "[<selenium.webdriver.remote.webelement.WebElement (session=\"280c1b0a6f8cec6681e9ab177f8b005c\", element=\"5c08f983-25bc-42c2-9233-54ea8b824405\")>,\n",
       " <selenium.webdriver.remote.webelement.WebElement (session=\"280c1b0a6f8cec6681e9ab177f8b005c\", element=\"c1172ef0-cd39-4553-af3e-c455358f919b\")>,\n",
       " <selenium.webdriver.remote.webelement.WebElement (session=\"280c1b0a6f8cec6681e9ab177f8b005c\", element=\"6848b5a7-399a-47b7-b505-c3d44a611203\")>,\n",
       " <selenium.webdriver.remote.webelement.WebElement (session=\"280c1b0a6f8cec6681e9ab177f8b005c\", element=\"d1c5a722-c699-409f-96e7-54f2b645a6a0\")>,\n",
       " <selenium.webdriver.remote.webelement.WebElement (session=\"280c1b0a6f8cec6681e9ab177f8b005c\", element=\"816b446a-5e4a-4cfa-8acb-b067b28143fb\")>,\n",
       " <selenium.webdriver.remote.webelement.WebElement (session=\"280c1b0a6f8cec6681e9ab177f8b005c\", element=\"f217d779-d395-4659-8591-53cef7d3a0e8\")>,\n",
       " <selenium.webdriver.remote.webelement.WebElement (session=\"280c1b0a6f8cec6681e9ab177f8b005c\", element=\"1f54185e-6d58-43b0-8ef5-6dce5b0a6b06\")>,\n",
       " <selenium.webdriver.remote.webelement.WebElement (session=\"280c1b0a6f8cec6681e9ab177f8b005c\", element=\"6e3fa1c3-68d6-411a-9cf8-f7936599fb49\")>,\n",
       " <selenium.webdriver.remote.webelement.WebElement (session=\"280c1b0a6f8cec6681e9ab177f8b005c\", element=\"7dc2e0db-8fdb-4680-b7e3-448e789f6feb\")>,\n",
       " <selenium.webdriver.remote.webelement.WebElement (session=\"280c1b0a6f8cec6681e9ab177f8b005c\", element=\"f93190c9-0325-405e-b644-0daf201230e3\")>,\n",
       " <selenium.webdriver.remote.webelement.WebElement (session=\"280c1b0a6f8cec6681e9ab177f8b005c\", element=\"ce554db7-3e71-4f57-97bb-274b14b3bfc5\")>,\n",
       " <selenium.webdriver.remote.webelement.WebElement (session=\"280c1b0a6f8cec6681e9ab177f8b005c\", element=\"e1ceebdf-cf5b-4b74-ac3e-d6f773c9d556\")>,\n",
       " <selenium.webdriver.remote.webelement.WebElement (session=\"280c1b0a6f8cec6681e9ab177f8b005c\", element=\"6c829ca3-f2cf-4111-bbbd-3db25afaa736\")>]"
      ]
     },
     "execution_count": 156,
     "metadata": {},
     "output_type": "execute_result"
    }
   ],
   "source": [
    "total_stop=driver.find_elements_by_xpath('//span[@class=\"dotted-borderbtm\"]')\n",
    "total_stop\n"
   ]
  },
  {
   "cell_type": "code",
   "execution_count": 157,
   "id": "a0067840",
   "metadata": {},
   "outputs": [
    {
     "data": {
      "text/plain": [
       "['1 Stop',\n",
       " '1 Stop',\n",
       " '1 Stop',\n",
       " '1 Stop',\n",
       " '1 Stop',\n",
       " '1 Stop',\n",
       " '1 Stop',\n",
       " '1 Stop',\n",
       " '1 Stop',\n",
       " '1 Stop',\n",
       " '1 Stop',\n",
       " '1 Stop',\n",
       " '1 Stop']"
      ]
     },
     "execution_count": 157,
     "metadata": {},
     "output_type": "execute_result"
    }
   ],
   "source": [
    "for i in total_stop:\n",
    "    title=i.text\n",
    "    total_stops.append(title)\n",
    "total_stops"
   ]
  },
  {
   "cell_type": "code",
   "execution_count": 171,
   "id": "f0529c5d",
   "metadata": {},
   "outputs": [
    {
     "data": {
      "text/plain": [
       "[]"
      ]
     },
     "execution_count": 171,
     "metadata": {},
     "output_type": "execute_result"
    }
   ],
   "source": [
    "\n",
    "airplane_costs=driver.find_elements_by_xpath('//div[@class=\"rangeslider__fill\"]')\n",
    "airplane_costs"
   ]
  },
  {
   "cell_type": "code",
   "execution_count": 172,
   "id": "b2f4bfba",
   "metadata": {},
   "outputs": [
    {
     "data": {
      "text/plain": [
       "['8,500',\n",
       " '8,578',\n",
       " '8,578',\n",
       " '8,578',\n",
       " '',\n",
       " '',\n",
       " '',\n",
       " '',\n",
       " '',\n",
       " '',\n",
       " '',\n",
       " '',\n",
       " '',\n",
       " '',\n",
       " '',\n",
       " '',\n",
       " '',\n",
       " '',\n",
       " '',\n",
       " '',\n",
       " '',\n",
       " '',\n",
       " '',\n",
       " '',\n",
       " '']"
      ]
     },
     "execution_count": 172,
     "metadata": {},
     "output_type": "execute_result"
    }
   ],
   "source": [
    "for i in airplane_costs:\n",
    "    title=i.text\n",
    "    airplane_price.append(title)\n",
    "airplane_price"
   ]
  },
  {
   "cell_type": "markdown",
   "id": "174cde37",
   "metadata": {},
   "source": [
    "Q2"
   ]
  },
  {
   "cell_type": "code",
   "execution_count": 18,
   "id": "215bb300",
   "metadata": {},
   "outputs": [],
   "source": [
    "url='https://www.skyscanner.co.in/transport/flights/ccu/iixb/220811/220818/?adultsv2=1&cabinclass=economy&childrenv2=&inboundaltsenabled=false&outboundaltsenabled=false&preferdirects=false&priceSourceId=&qp_prevCurrency=INR&qp_prevPrice=4817&qp_prevProvider=ins_browse&rtn=1'\n",
    "driver.get(url)"
   ]
  },
  {
   "cell_type": "code",
   "execution_count": 19,
   "id": "162ca489",
   "metadata": {},
   "outputs": [],
   "source": [
    "airline_name=[]\n",
    "date_ofjourney=[]\n",
    "source_title=[]\n",
    "destination_place=[]\n",
    "route_title=[]\n",
    "departure_time=[]\n",
    "arrival_time=[]\n",
    "duration_time=[]\n",
    "total_stops=[]\n",
    "airplane_price=[]"
   ]
  },
  {
   "cell_type": "code",
   "execution_count": 22,
   "id": "47baae27",
   "metadata": {},
   "outputs": [
    {
     "data": {
      "text/plain": [
       "[<selenium.webdriver.remote.webelement.WebElement (session=\"7ef71d2677d66d317d0f2d663bba6892\", element=\"e5f3b0df-871f-49b7-be1a-f6281206e8e6\")>,\n",
       " <selenium.webdriver.remote.webelement.WebElement (session=\"7ef71d2677d66d317d0f2d663bba6892\", element=\"5a5a1ebe-af6a-4de9-9ab6-7109145fa58b\")>,\n",
       " <selenium.webdriver.remote.webelement.WebElement (session=\"7ef71d2677d66d317d0f2d663bba6892\", element=\"e14d144f-0d30-492e-91ce-5ba961d1bd43\")>,\n",
       " <selenium.webdriver.remote.webelement.WebElement (session=\"7ef71d2677d66d317d0f2d663bba6892\", element=\"de2da11d-0f8f-4a96-a3a3-a0b9696a5526\")>,\n",
       " <selenium.webdriver.remote.webelement.WebElement (session=\"7ef71d2677d66d317d0f2d663bba6892\", element=\"fd6dccca-b8ee-4292-bad0-f03fa711f347\")>]"
      ]
     },
     "execution_count": 22,
     "metadata": {},
     "output_type": "execute_result"
    }
   ],
   "source": [
    "airplane_tags=driver.find_elements_by_xpath('//span[@class=\"BpkText_bpk-text__YWQwM BpkText_bpk-text--body-default__NGZhN BpkAccordionItem_bpk-accordion__title-text__MzVmM\"]')\n",
    "airplane_tags\n"
   ]
  },
  {
   "cell_type": "code",
   "execution_count": 23,
   "id": "6ba5977d",
   "metadata": {},
   "outputs": [
    {
     "data": {
      "text/plain": [
       "['Direct',\n",
       " '1 stop',\n",
       " '2+ stops',\n",
       " 'Air India',\n",
       " 'AirAsia India',\n",
       " 'Go First',\n",
       " 'IndiGo',\n",
       " 'SpiceJet',\n",
       " 'Vistara',\n",
       " 'Airline combinations',\n",
       " 'Only show flights with lower CO₂ emissions',\n",
       " 'Stops',\n",
       " 'Departure times',\n",
       " 'Journey duration',\n",
       " 'Airlines',\n",
       " 'Greener flights']"
      ]
     },
     "execution_count": 23,
     "metadata": {},
     "output_type": "execute_result"
    }
   ],
   "source": [
    "for i in airplane_tags:\n",
    "    title=i.text\n",
    "    airline_name.append(title)\n",
    "airline_name"
   ]
  },
  {
   "cell_type": "code",
   "execution_count": 26,
   "id": "6cd29cd8",
   "metadata": {},
   "outputs": [
    {
     "data": {
      "text/plain": [
       "[<selenium.webdriver.remote.webelement.WebElement (session=\"7ef71d2677d66d317d0f2d663bba6892\", element=\"f16e62d8-03d2-4e33-942c-def9564a4eed\")>,\n",
       " <selenium.webdriver.remote.webelement.WebElement (session=\"7ef71d2677d66d317d0f2d663bba6892\", element=\"a4c7edf6-b4e8-4bdc-a579-b3ae3ac7ac7c\")>,\n",
       " <selenium.webdriver.remote.webelement.WebElement (session=\"7ef71d2677d66d317d0f2d663bba6892\", element=\"cf187a16-0114-44c2-8671-8c0297de0db4\")>,\n",
       " <selenium.webdriver.remote.webelement.WebElement (session=\"7ef71d2677d66d317d0f2d663bba6892\", element=\"31c2adb8-f563-4cf9-b3b6-48b228aa490c\")>,\n",
       " <selenium.webdriver.remote.webelement.WebElement (session=\"7ef71d2677d66d317d0f2d663bba6892\", element=\"570269cd-dc1f-4594-9edc-4a9238ebacac\")>,\n",
       " <selenium.webdriver.remote.webelement.WebElement (session=\"7ef71d2677d66d317d0f2d663bba6892\", element=\"f484ea46-636c-4ee7-9017-5c820b381689\")>,\n",
       " <selenium.webdriver.remote.webelement.WebElement (session=\"7ef71d2677d66d317d0f2d663bba6892\", element=\"e6687ee9-11fa-4425-9eb6-9852bc562607\")>]"
      ]
     },
     "execution_count": 26,
     "metadata": {},
     "output_type": "execute_result"
    }
   ],
   "source": [
    "date_time=driver.find_elements_by_xpath('//li[@class=\"BpkCalendarGridHeader_bpk-calendar-header__weekday__YjE0Z\"]')\n",
    "date_time"
   ]
  },
  {
   "cell_type": "code",
   "execution_count": 27,
   "id": "27f3f213",
   "metadata": {},
   "outputs": [
    {
     "data": {
      "text/plain": [
       "['', '', 'Mon', 'Tue', 'Wed', 'Thu', 'Fri', 'Sat', 'Sun']"
      ]
     },
     "execution_count": 27,
     "metadata": {},
     "output_type": "execute_result"
    }
   ],
   "source": [
    "for i in date_time:\n",
    "    title=i.text\n",
    "    date_ofjourney.append(title)\n",
    "date_ofjourney"
   ]
  },
  {
   "cell_type": "code",
   "execution_count": 28,
   "id": "5034ef70",
   "metadata": {},
   "outputs": [
    {
     "data": {
      "text/plain": [
       "[<selenium.webdriver.remote.webelement.WebElement (session=\"7ef71d2677d66d317d0f2d663bba6892\", element=\"b266de13-1c43-41af-bf88-c22ee281c802\")>,\n",
       " <selenium.webdriver.remote.webelement.WebElement (session=\"7ef71d2677d66d317d0f2d663bba6892\", element=\"025edbf2-39a1-4a1d-ba49-2c732632c9b1\")>,\n",
       " <selenium.webdriver.remote.webelement.WebElement (session=\"7ef71d2677d66d317d0f2d663bba6892\", element=\"2754e2d0-ae39-407d-b6df-25bd01e3e6e8\")>,\n",
       " <selenium.webdriver.remote.webelement.WebElement (session=\"7ef71d2677d66d317d0f2d663bba6892\", element=\"36f348c2-c3ba-41fc-82ed-ca89eb712127\")>,\n",
       " <selenium.webdriver.remote.webelement.WebElement (session=\"7ef71d2677d66d317d0f2d663bba6892\", element=\"40f78b99-e348-4568-bffc-0d2ddab537cc\")>,\n",
       " <selenium.webdriver.remote.webelement.WebElement (session=\"7ef71d2677d66d317d0f2d663bba6892\", element=\"61305759-1a86-469a-9901-e07b45f82f62\")>,\n",
       " <selenium.webdriver.remote.webelement.WebElement (session=\"7ef71d2677d66d317d0f2d663bba6892\", element=\"9d28c300-3504-4baf-905a-24c9d5b00015\")>,\n",
       " <selenium.webdriver.remote.webelement.WebElement (session=\"7ef71d2677d66d317d0f2d663bba6892\", element=\"6cc2bb1c-6c94-4226-b507-71182f6c640a\")>,\n",
       " <selenium.webdriver.remote.webelement.WebElement (session=\"7ef71d2677d66d317d0f2d663bba6892\", element=\"11cbe1bb-e3b9-4bb6-8739-6ebea6c00adc\")>,\n",
       " <selenium.webdriver.remote.webelement.WebElement (session=\"7ef71d2677d66d317d0f2d663bba6892\", element=\"ecce91a1-a32c-458e-bf3d-3c73605ce518\")>,\n",
       " <selenium.webdriver.remote.webelement.WebElement (session=\"7ef71d2677d66d317d0f2d663bba6892\", element=\"8b83bb43-73ee-45d4-a0b6-30ce3e75265b\")>,\n",
       " <selenium.webdriver.remote.webelement.WebElement (session=\"7ef71d2677d66d317d0f2d663bba6892\", element=\"03e5db67-8cdb-4381-9c31-2e78fcbe4da1\")>,\n",
       " <selenium.webdriver.remote.webelement.WebElement (session=\"7ef71d2677d66d317d0f2d663bba6892\", element=\"6735e424-bceb-46c1-99eb-f75dc388e1cd\")>,\n",
       " <selenium.webdriver.remote.webelement.WebElement (session=\"7ef71d2677d66d317d0f2d663bba6892\", element=\"f7d4b5bd-9ab4-41f8-a7fd-f07d43d5cd6e\")>,\n",
       " <selenium.webdriver.remote.webelement.WebElement (session=\"7ef71d2677d66d317d0f2d663bba6892\", element=\"0c36f74c-078d-4d1f-a92a-8cc625269577\")>,\n",
       " <selenium.webdriver.remote.webelement.WebElement (session=\"7ef71d2677d66d317d0f2d663bba6892\", element=\"00caca01-c220-4072-ad91-f0dcefcfc1a2\")>,\n",
       " <selenium.webdriver.remote.webelement.WebElement (session=\"7ef71d2677d66d317d0f2d663bba6892\", element=\"bc2287eb-a2d4-480e-9908-334d5e2dcd49\")>,\n",
       " <selenium.webdriver.remote.webelement.WebElement (session=\"7ef71d2677d66d317d0f2d663bba6892\", element=\"9091e12a-ae4b-4100-a540-217181c3a78f\")>,\n",
       " <selenium.webdriver.remote.webelement.WebElement (session=\"7ef71d2677d66d317d0f2d663bba6892\", element=\"9f54fa04-480b-46fc-891f-df928fa4f4b1\")>,\n",
       " <selenium.webdriver.remote.webelement.WebElement (session=\"7ef71d2677d66d317d0f2d663bba6892\", element=\"2f0022c4-47ac-46e2-bd81-2d8a0ee64917\")>,\n",
       " <selenium.webdriver.remote.webelement.WebElement (session=\"7ef71d2677d66d317d0f2d663bba6892\", element=\"75f4c71d-bd7c-4af9-9d52-c3b53851652a\")>,\n",
       " <selenium.webdriver.remote.webelement.WebElement (session=\"7ef71d2677d66d317d0f2d663bba6892\", element=\"aa576cb3-2f67-44b1-b1ad-d2d87016bdf4\")>,\n",
       " <selenium.webdriver.remote.webelement.WebElement (session=\"7ef71d2677d66d317d0f2d663bba6892\", element=\"d83fa49b-4b84-4d3d-846d-4d53ddedd9bf\")>,\n",
       " <selenium.webdriver.remote.webelement.WebElement (session=\"7ef71d2677d66d317d0f2d663bba6892\", element=\"30855a50-a60b-43e6-ab25-8e2af012e764\")>,\n",
       " <selenium.webdriver.remote.webelement.WebElement (session=\"7ef71d2677d66d317d0f2d663bba6892\", element=\"5d69dcf5-746f-4276-8c66-da19f149a119\")>,\n",
       " <selenium.webdriver.remote.webelement.WebElement (session=\"7ef71d2677d66d317d0f2d663bba6892\", element=\"6ee28bfb-6040-4b1e-9121-8970aec9bdc8\")>,\n",
       " <selenium.webdriver.remote.webelement.WebElement (session=\"7ef71d2677d66d317d0f2d663bba6892\", element=\"16d8828d-b759-4804-881e-006b5cfa9da5\")>,\n",
       " <selenium.webdriver.remote.webelement.WebElement (session=\"7ef71d2677d66d317d0f2d663bba6892\", element=\"e6266bd8-1bd7-4d9e-b60a-d9d2ef065d60\")>,\n",
       " <selenium.webdriver.remote.webelement.WebElement (session=\"7ef71d2677d66d317d0f2d663bba6892\", element=\"63d98ecf-ed40-4da0-8425-8a7ca45a3ea1\")>,\n",
       " <selenium.webdriver.remote.webelement.WebElement (session=\"7ef71d2677d66d317d0f2d663bba6892\", element=\"bc8a3090-f5ed-4b9b-a70d-ad3ea92f4319\")>,\n",
       " <selenium.webdriver.remote.webelement.WebElement (session=\"7ef71d2677d66d317d0f2d663bba6892\", element=\"0c9aefe9-c37b-489b-9e4a-d9f8ee794866\")>,\n",
       " <selenium.webdriver.remote.webelement.WebElement (session=\"7ef71d2677d66d317d0f2d663bba6892\", element=\"40be51d2-33f3-49ae-a3c9-a0e0792c42f8\")>,\n",
       " <selenium.webdriver.remote.webelement.WebElement (session=\"7ef71d2677d66d317d0f2d663bba6892\", element=\"270769bb-11a2-4230-ace0-15ae022d1299\")>,\n",
       " <selenium.webdriver.remote.webelement.WebElement (session=\"7ef71d2677d66d317d0f2d663bba6892\", element=\"954b8ad6-7056-4f4a-b40f-c6f288deb886\")>,\n",
       " <selenium.webdriver.remote.webelement.WebElement (session=\"7ef71d2677d66d317d0f2d663bba6892\", element=\"acf7aff7-a0ac-4039-bbe7-e651e689769b\")>,\n",
       " <selenium.webdriver.remote.webelement.WebElement (session=\"7ef71d2677d66d317d0f2d663bba6892\", element=\"d45b1403-726e-4f89-8e5d-ea3422abfdda\")>]"
      ]
     },
     "execution_count": 28,
     "metadata": {},
     "output_type": "execute_result"
    }
   ],
   "source": [
    "destination_title=driver.find_elements_by_xpath('//span[@class=\"BpkText_bpk-text__YWQwM BpkText_bpk-text--body-default__NGZhN LegInfo_routePartialCityTooltip__NTE4Z\"]')\n",
    "destination_title"
   ]
  },
  {
   "cell_type": "code",
   "execution_count": 29,
   "id": "36949504",
   "metadata": {},
   "outputs": [
    {
     "data": {
      "text/plain": [
       "['CCU',\n",
       " 'IXB',\n",
       " 'IXB',\n",
       " 'CCU',\n",
       " 'CCU',\n",
       " 'IXB',\n",
       " 'IXB',\n",
       " 'CCU',\n",
       " 'CCU',\n",
       " 'IXB',\n",
       " 'IXB',\n",
       " 'CCU',\n",
       " 'CCU',\n",
       " 'IXB',\n",
       " 'IXB',\n",
       " 'CCU',\n",
       " 'CCU',\n",
       " 'IXB',\n",
       " 'IXB',\n",
       " 'CCU',\n",
       " 'CCU',\n",
       " 'IXB',\n",
       " 'IXB',\n",
       " 'CCU',\n",
       " 'CCU',\n",
       " 'IXB',\n",
       " 'IXB',\n",
       " 'CCU',\n",
       " 'CCU',\n",
       " 'IXB',\n",
       " 'IXB',\n",
       " 'CCU',\n",
       " 'CCU',\n",
       " 'IXB',\n",
       " 'IXB',\n",
       " 'CCU']"
      ]
     },
     "execution_count": 29,
     "metadata": {},
     "output_type": "execute_result"
    }
   ],
   "source": [
    "for i in destination_title:\n",
    "    title=i.text\n",
    "    destination_place.append(title)\n",
    "destination_place"
   ]
  },
  {
   "cell_type": "code",
   "execution_count": 30,
   "id": "5a796ce5",
   "metadata": {},
   "outputs": [
    {
     "data": {
      "text/plain": [
       "[<selenium.webdriver.remote.webelement.WebElement (session=\"7ef71d2677d66d317d0f2d663bba6892\", element=\"ee9a7359-eaea-426f-9599-b2374780297c\")>,\n",
       " <selenium.webdriver.remote.webelement.WebElement (session=\"7ef71d2677d66d317d0f2d663bba6892\", element=\"2703c912-fa11-4709-b9f5-fc5206fce614\")>,\n",
       " <selenium.webdriver.remote.webelement.WebElement (session=\"7ef71d2677d66d317d0f2d663bba6892\", element=\"874e6465-9675-43fd-9cad-f6caaf593beb\")>,\n",
       " <selenium.webdriver.remote.webelement.WebElement (session=\"7ef71d2677d66d317d0f2d663bba6892\", element=\"f41b6f92-c265-4bec-96de-94c327a24102\")>,\n",
       " <selenium.webdriver.remote.webelement.WebElement (session=\"7ef71d2677d66d317d0f2d663bba6892\", element=\"453a3cde-1184-4a8d-8422-dca49abfae4c\")>,\n",
       " <selenium.webdriver.remote.webelement.WebElement (session=\"7ef71d2677d66d317d0f2d663bba6892\", element=\"44c9f46e-7f41-4fc9-850a-d5c1bf300bb9\")>,\n",
       " <selenium.webdriver.remote.webelement.WebElement (session=\"7ef71d2677d66d317d0f2d663bba6892\", element=\"502870df-d19a-4ba0-8065-7a1c8a54efc4\")>,\n",
       " <selenium.webdriver.remote.webelement.WebElement (session=\"7ef71d2677d66d317d0f2d663bba6892\", element=\"ea022e9d-72ae-48cf-afac-692108da7984\")>,\n",
       " <selenium.webdriver.remote.webelement.WebElement (session=\"7ef71d2677d66d317d0f2d663bba6892\", element=\"2288ce0f-e875-4e83-ae0c-1c92100903c0\")>,\n",
       " <selenium.webdriver.remote.webelement.WebElement (session=\"7ef71d2677d66d317d0f2d663bba6892\", element=\"0582ec9e-c4e8-4e16-89cf-279867af5fc7\")>,\n",
       " <selenium.webdriver.remote.webelement.WebElement (session=\"7ef71d2677d66d317d0f2d663bba6892\", element=\"0c8b9f9e-0008-4f00-bd7b-016ecd0a6739\")>,\n",
       " <selenium.webdriver.remote.webelement.WebElement (session=\"7ef71d2677d66d317d0f2d663bba6892\", element=\"9ada1f66-7cd4-4d9f-a111-d44cf7c0fd92\")>,\n",
       " <selenium.webdriver.remote.webelement.WebElement (session=\"7ef71d2677d66d317d0f2d663bba6892\", element=\"e762ee9b-6900-45d3-9e0d-7f0e9a2c1ea7\")>,\n",
       " <selenium.webdriver.remote.webelement.WebElement (session=\"7ef71d2677d66d317d0f2d663bba6892\", element=\"11e36897-a1c8-42a7-b2e2-d70e03ca2356\")>,\n",
       " <selenium.webdriver.remote.webelement.WebElement (session=\"7ef71d2677d66d317d0f2d663bba6892\", element=\"3679608a-056d-4518-af93-101f7b5679cd\")>,\n",
       " <selenium.webdriver.remote.webelement.WebElement (session=\"7ef71d2677d66d317d0f2d663bba6892\", element=\"2cd16214-3b1b-449e-8684-eccb22806acf\")>,\n",
       " <selenium.webdriver.remote.webelement.WebElement (session=\"7ef71d2677d66d317d0f2d663bba6892\", element=\"ba42d2f4-6de1-4031-9971-1c26299eeb6a\")>,\n",
       " <selenium.webdriver.remote.webelement.WebElement (session=\"7ef71d2677d66d317d0f2d663bba6892\", element=\"206ec1eb-f432-4a45-b6cb-1edda886fbc1\")>]"
      ]
     },
     "execution_count": 30,
     "metadata": {},
     "output_type": "execute_result"
    }
   ],
   "source": [
    "route_tag=driver.find_elements_by_xpath('//div[@class=\"LegInfo_legInfo__ZGMzY\"]')\n",
    "route_tag"
   ]
  },
  {
   "cell_type": "code",
   "execution_count": 31,
   "id": "87f2df3e",
   "metadata": {},
   "outputs": [
    {
     "data": {
      "text/plain": [
       "['12:55\\nCCU\\n1h 25\\nDirect\\n 14:20\\nIXB',\n",
       " '14:55\\nIXB\\n1h 05\\nDirect\\n 16:00\\nCCU',\n",
       " '12:30\\nCCU\\n1h 15\\nDirect\\n 13:45\\nIXB',\n",
       " '14:55\\nIXB\\n1h 05\\nDirect\\n 16:00\\nCCU',\n",
       " '10:20\\nCCU\\n1h 15\\nDirect\\n 11:35\\nIXB',\n",
       " '14:55\\nIXB\\n1h 05\\nDirect\\n 16:00\\nCCU',\n",
       " '12:30\\nCCU\\n1h 15\\nDirect\\n 13:45\\nIXB',\n",
       " '12:00\\nIXB\\n1h 10\\nDirect\\n 13:10\\nCCU',\n",
       " '10:20\\nCCU\\n1h 15\\nDirect\\n 11:35\\nIXB',\n",
       " '12:00\\nIXB\\n1h 10\\nDirect\\n 13:10\\nCCU',\n",
       " '12:55\\nCCU\\n1h 25\\nDirect\\n 14:20\\nIXB',\n",
       " '12:00\\nIXB\\n1h 10\\nDirect\\n 13:10\\nCCU',\n",
       " '12:30\\nCCU\\n1h 15\\nDirect\\n 13:45\\nIXB',\n",
       " '11:55\\nIXB\\n1h 20\\nDirect\\n 13:15\\nCCU',\n",
       " '12:30\\nCCU\\n1h 15\\nDirect\\n 13:45\\nIXB',\n",
       " '10:55\\nIXB\\n1h 10\\nDirect\\n 12:05\\nCCU',\n",
       " '12:55\\nCCU\\n1h 25\\nDirect\\n 14:20\\nIXB',\n",
       " '10:55\\nIXB\\n1h 10\\nDirect\\n 12:05\\nCCU']"
      ]
     },
     "execution_count": 31,
     "metadata": {},
     "output_type": "execute_result"
    }
   ],
   "source": [
    "for i in route_tag:\n",
    "    title=i.text\n",
    "    route_title.append(title)\n",
    "route_title"
   ]
  },
  {
   "cell_type": "code",
   "execution_count": 36,
   "id": "7e1491ea",
   "metadata": {},
   "outputs": [
    {
     "data": {
      "text/plain": [
       "[<selenium.webdriver.remote.webelement.WebElement (session=\"7ef71d2677d66d317d0f2d663bba6892\", element=\"1d83a337-0f00-41f7-932a-cd400ccd0601\")>,\n",
       " <selenium.webdriver.remote.webelement.WebElement (session=\"7ef71d2677d66d317d0f2d663bba6892\", element=\"02a483e7-3e6f-42a9-a189-e69671afe6ff\")>,\n",
       " <selenium.webdriver.remote.webelement.WebElement (session=\"7ef71d2677d66d317d0f2d663bba6892\", element=\"69d2601e-f4aa-4cd9-b49f-736bc7be88cf\")>,\n",
       " <selenium.webdriver.remote.webelement.WebElement (session=\"7ef71d2677d66d317d0f2d663bba6892\", element=\"8e509c74-66fa-4b13-aeb4-9ada013ae914\")>,\n",
       " <selenium.webdriver.remote.webelement.WebElement (session=\"7ef71d2677d66d317d0f2d663bba6892\", element=\"f8225f85-76a2-4f24-a054-fe9e736981ee\")>,\n",
       " <selenium.webdriver.remote.webelement.WebElement (session=\"7ef71d2677d66d317d0f2d663bba6892\", element=\"9eba158b-280e-4e07-bb45-e1bf0940c6fa\")>,\n",
       " <selenium.webdriver.remote.webelement.WebElement (session=\"7ef71d2677d66d317d0f2d663bba6892\", element=\"5e91dfeb-4136-47af-a59b-40363a4a20f1\")>,\n",
       " <selenium.webdriver.remote.webelement.WebElement (session=\"7ef71d2677d66d317d0f2d663bba6892\", element=\"af825e1a-3825-488e-a9ea-c2eb60b146ca\")>,\n",
       " <selenium.webdriver.remote.webelement.WebElement (session=\"7ef71d2677d66d317d0f2d663bba6892\", element=\"a8f6c978-849f-4ff8-9a81-24b9db6e305b\")>,\n",
       " <selenium.webdriver.remote.webelement.WebElement (session=\"7ef71d2677d66d317d0f2d663bba6892\", element=\"578329f8-2d76-4b58-9d94-b056ac6a4188\")>,\n",
       " <selenium.webdriver.remote.webelement.WebElement (session=\"7ef71d2677d66d317d0f2d663bba6892\", element=\"bef807fd-9c79-4d4f-93e7-39459601f95b\")>,\n",
       " <selenium.webdriver.remote.webelement.WebElement (session=\"7ef71d2677d66d317d0f2d663bba6892\", element=\"dda4b609-c7a5-4112-9648-42ba2e965307\")>,\n",
       " <selenium.webdriver.remote.webelement.WebElement (session=\"7ef71d2677d66d317d0f2d663bba6892\", element=\"51f309c9-3c63-489d-9c79-76e6a6eae520\")>,\n",
       " <selenium.webdriver.remote.webelement.WebElement (session=\"7ef71d2677d66d317d0f2d663bba6892\", element=\"e979c4d7-fe49-494a-a1e0-07c4c059d35d\")>,\n",
       " <selenium.webdriver.remote.webelement.WebElement (session=\"7ef71d2677d66d317d0f2d663bba6892\", element=\"9d405acf-af91-4085-a2b1-e7263b9bbfd6\")>,\n",
       " <selenium.webdriver.remote.webelement.WebElement (session=\"7ef71d2677d66d317d0f2d663bba6892\", element=\"106ea95d-7ada-40be-a36f-5c012fcd105d\")>,\n",
       " <selenium.webdriver.remote.webelement.WebElement (session=\"7ef71d2677d66d317d0f2d663bba6892\", element=\"fe448b15-7a2f-413c-9583-f86021d807c8\")>,\n",
       " <selenium.webdriver.remote.webelement.WebElement (session=\"7ef71d2677d66d317d0f2d663bba6892\", element=\"15dc507a-e4d4-4133-83b8-e2f5a04a6156\")>,\n",
       " <selenium.webdriver.remote.webelement.WebElement (session=\"7ef71d2677d66d317d0f2d663bba6892\", element=\"14631ddd-87f6-45e0-a880-206626b231fe\")>,\n",
       " <selenium.webdriver.remote.webelement.WebElement (session=\"7ef71d2677d66d317d0f2d663bba6892\", element=\"e26e5560-a710-48b5-bd16-a5dc8347109f\")>,\n",
       " <selenium.webdriver.remote.webelement.WebElement (session=\"7ef71d2677d66d317d0f2d663bba6892\", element=\"c19e0bc2-f412-442e-91d4-a553173074f4\")>,\n",
       " <selenium.webdriver.remote.webelement.WebElement (session=\"7ef71d2677d66d317d0f2d663bba6892\", element=\"2904c15b-f316-44aa-ad3d-d7bab375acd6\")>,\n",
       " <selenium.webdriver.remote.webelement.WebElement (session=\"7ef71d2677d66d317d0f2d663bba6892\", element=\"229dbc31-7385-4d24-9080-3cad7164f7b2\")>,\n",
       " <selenium.webdriver.remote.webelement.WebElement (session=\"7ef71d2677d66d317d0f2d663bba6892\", element=\"9f04ad13-61c8-4a58-bb07-b9fc365770ea\")>,\n",
       " <selenium.webdriver.remote.webelement.WebElement (session=\"7ef71d2677d66d317d0f2d663bba6892\", element=\"c30949ee-197f-45ac-89fc-d2c34ac8ea7a\")>,\n",
       " <selenium.webdriver.remote.webelement.WebElement (session=\"7ef71d2677d66d317d0f2d663bba6892\", element=\"479034c6-8741-448a-9c1f-f598173b7710\")>,\n",
       " <selenium.webdriver.remote.webelement.WebElement (session=\"7ef71d2677d66d317d0f2d663bba6892\", element=\"48a1ac5f-ce5c-4f27-872c-25c61dc6c602\")>,\n",
       " <selenium.webdriver.remote.webelement.WebElement (session=\"7ef71d2677d66d317d0f2d663bba6892\", element=\"95ce759d-f9ea-4d5b-96cb-a99a113d7b73\")>,\n",
       " <selenium.webdriver.remote.webelement.WebElement (session=\"7ef71d2677d66d317d0f2d663bba6892\", element=\"4ae0e938-970b-4802-be24-829aae6bc03c\")>,\n",
       " <selenium.webdriver.remote.webelement.WebElement (session=\"7ef71d2677d66d317d0f2d663bba6892\", element=\"b4bfed3f-5764-4cb2-b92a-238c5161276c\")>,\n",
       " <selenium.webdriver.remote.webelement.WebElement (session=\"7ef71d2677d66d317d0f2d663bba6892\", element=\"879caae3-1aa7-47da-8672-6c99aec68362\")>,\n",
       " <selenium.webdriver.remote.webelement.WebElement (session=\"7ef71d2677d66d317d0f2d663bba6892\", element=\"40910d7b-cb17-421b-9fbb-aeb8535f2141\")>,\n",
       " <selenium.webdriver.remote.webelement.WebElement (session=\"7ef71d2677d66d317d0f2d663bba6892\", element=\"eb752c37-b24b-4f6c-b8af-ca228a22a7b3\")>,\n",
       " <selenium.webdriver.remote.webelement.WebElement (session=\"7ef71d2677d66d317d0f2d663bba6892\", element=\"8c3fb8d6-d0c6-4338-a749-f01aadc57564\")>,\n",
       " <selenium.webdriver.remote.webelement.WebElement (session=\"7ef71d2677d66d317d0f2d663bba6892\", element=\"274f6de9-6140-4cb0-b011-93565339b5d4\")>,\n",
       " <selenium.webdriver.remote.webelement.WebElement (session=\"7ef71d2677d66d317d0f2d663bba6892\", element=\"d58811f7-8e9c-442b-91b8-f67b22962df2\")>]"
      ]
     },
     "execution_count": 36,
     "metadata": {},
     "output_type": "execute_result"
    }
   ],
   "source": [
    "departure_reports=driver.find_elements_by_xpath('//span[@class=\"BpkText_bpk-text__YWQwM BpkText_bpk-text--subheading__ODU3O\"]')\n",
    "departure_reports"
   ]
  },
  {
   "cell_type": "code",
   "execution_count": 37,
   "id": "cdf414e8",
   "metadata": {},
   "outputs": [
    {
     "data": {
      "text/plain": [
       "['12:55',\n",
       " '14:20',\n",
       " '14:55',\n",
       " '16:00',\n",
       " '12:30',\n",
       " '13:45',\n",
       " '14:55',\n",
       " '16:00',\n",
       " '10:20',\n",
       " '11:35',\n",
       " '14:55',\n",
       " '16:00',\n",
       " '12:30',\n",
       " '13:45',\n",
       " '12:00',\n",
       " '13:10',\n",
       " '10:20',\n",
       " '11:35',\n",
       " '12:00',\n",
       " '13:10',\n",
       " '12:55',\n",
       " '14:20',\n",
       " '12:00',\n",
       " '13:10',\n",
       " '12:30',\n",
       " '13:45',\n",
       " '11:55',\n",
       " '13:15',\n",
       " '12:30',\n",
       " '13:45',\n",
       " '10:55',\n",
       " '12:05',\n",
       " '12:55',\n",
       " '14:20',\n",
       " '10:55',\n",
       " '12:05',\n",
       " '12:55',\n",
       " '14:20',\n",
       " '14:55',\n",
       " '16:00',\n",
       " '12:30',\n",
       " '13:45',\n",
       " '14:55',\n",
       " '16:00',\n",
       " '10:20',\n",
       " '11:35',\n",
       " '14:55',\n",
       " '16:00',\n",
       " '12:30',\n",
       " '13:45',\n",
       " '12:00',\n",
       " '13:10',\n",
       " '10:20',\n",
       " '11:35',\n",
       " '12:00',\n",
       " '13:10',\n",
       " '12:55',\n",
       " '14:20',\n",
       " '12:00',\n",
       " '13:10',\n",
       " '12:30',\n",
       " '13:45',\n",
       " '11:55',\n",
       " '13:15',\n",
       " '12:30',\n",
       " '13:45',\n",
       " '10:55',\n",
       " '12:05',\n",
       " '12:55',\n",
       " '14:20',\n",
       " '10:55',\n",
       " '12:05']"
      ]
     },
     "execution_count": 37,
     "metadata": {},
     "output_type": "execute_result"
    }
   ],
   "source": [
    "for i in departure_reports:\n",
    "    title=i.text\n",
    "    departure_time.append(title)\n",
    "departure_time"
   ]
  },
  {
   "cell_type": "code",
   "execution_count": 34,
   "id": "8866e064",
   "metadata": {},
   "outputs": [
    {
     "data": {
      "text/plain": [
       "[<selenium.webdriver.remote.webelement.WebElement (session=\"7ef71d2677d66d317d0f2d663bba6892\", element=\"1d83a337-0f00-41f7-932a-cd400ccd0601\")>,\n",
       " <selenium.webdriver.remote.webelement.WebElement (session=\"7ef71d2677d66d317d0f2d663bba6892\", element=\"02a483e7-3e6f-42a9-a189-e69671afe6ff\")>,\n",
       " <selenium.webdriver.remote.webelement.WebElement (session=\"7ef71d2677d66d317d0f2d663bba6892\", element=\"69d2601e-f4aa-4cd9-b49f-736bc7be88cf\")>,\n",
       " <selenium.webdriver.remote.webelement.WebElement (session=\"7ef71d2677d66d317d0f2d663bba6892\", element=\"8e509c74-66fa-4b13-aeb4-9ada013ae914\")>,\n",
       " <selenium.webdriver.remote.webelement.WebElement (session=\"7ef71d2677d66d317d0f2d663bba6892\", element=\"f8225f85-76a2-4f24-a054-fe9e736981ee\")>,\n",
       " <selenium.webdriver.remote.webelement.WebElement (session=\"7ef71d2677d66d317d0f2d663bba6892\", element=\"9eba158b-280e-4e07-bb45-e1bf0940c6fa\")>,\n",
       " <selenium.webdriver.remote.webelement.WebElement (session=\"7ef71d2677d66d317d0f2d663bba6892\", element=\"5e91dfeb-4136-47af-a59b-40363a4a20f1\")>,\n",
       " <selenium.webdriver.remote.webelement.WebElement (session=\"7ef71d2677d66d317d0f2d663bba6892\", element=\"af825e1a-3825-488e-a9ea-c2eb60b146ca\")>,\n",
       " <selenium.webdriver.remote.webelement.WebElement (session=\"7ef71d2677d66d317d0f2d663bba6892\", element=\"a8f6c978-849f-4ff8-9a81-24b9db6e305b\")>,\n",
       " <selenium.webdriver.remote.webelement.WebElement (session=\"7ef71d2677d66d317d0f2d663bba6892\", element=\"578329f8-2d76-4b58-9d94-b056ac6a4188\")>,\n",
       " <selenium.webdriver.remote.webelement.WebElement (session=\"7ef71d2677d66d317d0f2d663bba6892\", element=\"bef807fd-9c79-4d4f-93e7-39459601f95b\")>,\n",
       " <selenium.webdriver.remote.webelement.WebElement (session=\"7ef71d2677d66d317d0f2d663bba6892\", element=\"dda4b609-c7a5-4112-9648-42ba2e965307\")>,\n",
       " <selenium.webdriver.remote.webelement.WebElement (session=\"7ef71d2677d66d317d0f2d663bba6892\", element=\"51f309c9-3c63-489d-9c79-76e6a6eae520\")>,\n",
       " <selenium.webdriver.remote.webelement.WebElement (session=\"7ef71d2677d66d317d0f2d663bba6892\", element=\"e979c4d7-fe49-494a-a1e0-07c4c059d35d\")>,\n",
       " <selenium.webdriver.remote.webelement.WebElement (session=\"7ef71d2677d66d317d0f2d663bba6892\", element=\"9d405acf-af91-4085-a2b1-e7263b9bbfd6\")>,\n",
       " <selenium.webdriver.remote.webelement.WebElement (session=\"7ef71d2677d66d317d0f2d663bba6892\", element=\"106ea95d-7ada-40be-a36f-5c012fcd105d\")>,\n",
       " <selenium.webdriver.remote.webelement.WebElement (session=\"7ef71d2677d66d317d0f2d663bba6892\", element=\"fe448b15-7a2f-413c-9583-f86021d807c8\")>,\n",
       " <selenium.webdriver.remote.webelement.WebElement (session=\"7ef71d2677d66d317d0f2d663bba6892\", element=\"15dc507a-e4d4-4133-83b8-e2f5a04a6156\")>,\n",
       " <selenium.webdriver.remote.webelement.WebElement (session=\"7ef71d2677d66d317d0f2d663bba6892\", element=\"14631ddd-87f6-45e0-a880-206626b231fe\")>,\n",
       " <selenium.webdriver.remote.webelement.WebElement (session=\"7ef71d2677d66d317d0f2d663bba6892\", element=\"e26e5560-a710-48b5-bd16-a5dc8347109f\")>,\n",
       " <selenium.webdriver.remote.webelement.WebElement (session=\"7ef71d2677d66d317d0f2d663bba6892\", element=\"c19e0bc2-f412-442e-91d4-a553173074f4\")>,\n",
       " <selenium.webdriver.remote.webelement.WebElement (session=\"7ef71d2677d66d317d0f2d663bba6892\", element=\"2904c15b-f316-44aa-ad3d-d7bab375acd6\")>,\n",
       " <selenium.webdriver.remote.webelement.WebElement (session=\"7ef71d2677d66d317d0f2d663bba6892\", element=\"229dbc31-7385-4d24-9080-3cad7164f7b2\")>,\n",
       " <selenium.webdriver.remote.webelement.WebElement (session=\"7ef71d2677d66d317d0f2d663bba6892\", element=\"9f04ad13-61c8-4a58-bb07-b9fc365770ea\")>,\n",
       " <selenium.webdriver.remote.webelement.WebElement (session=\"7ef71d2677d66d317d0f2d663bba6892\", element=\"c30949ee-197f-45ac-89fc-d2c34ac8ea7a\")>,\n",
       " <selenium.webdriver.remote.webelement.WebElement (session=\"7ef71d2677d66d317d0f2d663bba6892\", element=\"479034c6-8741-448a-9c1f-f598173b7710\")>,\n",
       " <selenium.webdriver.remote.webelement.WebElement (session=\"7ef71d2677d66d317d0f2d663bba6892\", element=\"48a1ac5f-ce5c-4f27-872c-25c61dc6c602\")>,\n",
       " <selenium.webdriver.remote.webelement.WebElement (session=\"7ef71d2677d66d317d0f2d663bba6892\", element=\"95ce759d-f9ea-4d5b-96cb-a99a113d7b73\")>,\n",
       " <selenium.webdriver.remote.webelement.WebElement (session=\"7ef71d2677d66d317d0f2d663bba6892\", element=\"4ae0e938-970b-4802-be24-829aae6bc03c\")>,\n",
       " <selenium.webdriver.remote.webelement.WebElement (session=\"7ef71d2677d66d317d0f2d663bba6892\", element=\"b4bfed3f-5764-4cb2-b92a-238c5161276c\")>,\n",
       " <selenium.webdriver.remote.webelement.WebElement (session=\"7ef71d2677d66d317d0f2d663bba6892\", element=\"879caae3-1aa7-47da-8672-6c99aec68362\")>,\n",
       " <selenium.webdriver.remote.webelement.WebElement (session=\"7ef71d2677d66d317d0f2d663bba6892\", element=\"40910d7b-cb17-421b-9fbb-aeb8535f2141\")>,\n",
       " <selenium.webdriver.remote.webelement.WebElement (session=\"7ef71d2677d66d317d0f2d663bba6892\", element=\"eb752c37-b24b-4f6c-b8af-ca228a22a7b3\")>,\n",
       " <selenium.webdriver.remote.webelement.WebElement (session=\"7ef71d2677d66d317d0f2d663bba6892\", element=\"8c3fb8d6-d0c6-4338-a749-f01aadc57564\")>,\n",
       " <selenium.webdriver.remote.webelement.WebElement (session=\"7ef71d2677d66d317d0f2d663bba6892\", element=\"274f6de9-6140-4cb0-b011-93565339b5d4\")>,\n",
       " <selenium.webdriver.remote.webelement.WebElement (session=\"7ef71d2677d66d317d0f2d663bba6892\", element=\"d58811f7-8e9c-442b-91b8-f67b22962df2\")>]"
      ]
     },
     "execution_count": 34,
     "metadata": {},
     "output_type": "execute_result"
    }
   ],
   "source": [
    "arrival_at=driver.find_elements_by_xpath('//span[@class=\"BpkText_bpk-text__YWQwM BpkText_bpk-text--subheading__ODU3O\"]')\n",
    "arrival_at"
   ]
  },
  {
   "cell_type": "code",
   "execution_count": 35,
   "id": "816b63cf",
   "metadata": {},
   "outputs": [
    {
     "data": {
      "text/plain": [
       "['12:55',\n",
       " '14:20',\n",
       " '14:55',\n",
       " '16:00',\n",
       " '12:30',\n",
       " '13:45',\n",
       " '14:55',\n",
       " '16:00',\n",
       " '10:20',\n",
       " '11:35',\n",
       " '14:55',\n",
       " '16:00',\n",
       " '12:30',\n",
       " '13:45',\n",
       " '12:00',\n",
       " '13:10',\n",
       " '10:20',\n",
       " '11:35',\n",
       " '12:00',\n",
       " '13:10',\n",
       " '12:55',\n",
       " '14:20',\n",
       " '12:00',\n",
       " '13:10',\n",
       " '12:30',\n",
       " '13:45',\n",
       " '11:55',\n",
       " '13:15',\n",
       " '12:30',\n",
       " '13:45',\n",
       " '10:55',\n",
       " '12:05',\n",
       " '12:55',\n",
       " '14:20',\n",
       " '10:55',\n",
       " '12:05']"
      ]
     },
     "execution_count": 35,
     "metadata": {},
     "output_type": "execute_result"
    }
   ],
   "source": [
    "for i in arrival_at:\n",
    "    title=i.text\n",
    "    arrival_time.append(title)\n",
    "arrival_time"
   ]
  },
  {
   "cell_type": "code",
   "execution_count": 38,
   "id": "42c66474",
   "metadata": {},
   "outputs": [
    {
     "data": {
      "text/plain": [
       "[<selenium.webdriver.remote.webelement.WebElement (session=\"7ef71d2677d66d317d0f2d663bba6892\", element=\"c7a9d4c6-65cb-4507-a76d-b3c36ed57bd0\")>,\n",
       " <selenium.webdriver.remote.webelement.WebElement (session=\"7ef71d2677d66d317d0f2d663bba6892\", element=\"5080e2b7-501c-435c-8a76-5aa82a7f7733\")>,\n",
       " <selenium.webdriver.remote.webelement.WebElement (session=\"7ef71d2677d66d317d0f2d663bba6892\", element=\"e0046a82-9040-4005-8820-77ba5a7b6651\")>,\n",
       " <selenium.webdriver.remote.webelement.WebElement (session=\"7ef71d2677d66d317d0f2d663bba6892\", element=\"69110ac4-3009-4673-a2f5-5356851e25b4\")>,\n",
       " <selenium.webdriver.remote.webelement.WebElement (session=\"7ef71d2677d66d317d0f2d663bba6892\", element=\"d369905f-9114-4a25-bb7b-d35a9950a2dd\")>,\n",
       " <selenium.webdriver.remote.webelement.WebElement (session=\"7ef71d2677d66d317d0f2d663bba6892\", element=\"8a0f8dcf-dc7e-4e52-83f4-65ca621a6e65\")>,\n",
       " <selenium.webdriver.remote.webelement.WebElement (session=\"7ef71d2677d66d317d0f2d663bba6892\", element=\"2da38417-6cdb-491e-b204-a7c3e3a9fdba\")>,\n",
       " <selenium.webdriver.remote.webelement.WebElement (session=\"7ef71d2677d66d317d0f2d663bba6892\", element=\"da0cc2dc-dfb7-4b8a-b370-30ecf752d416\")>,\n",
       " <selenium.webdriver.remote.webelement.WebElement (session=\"7ef71d2677d66d317d0f2d663bba6892\", element=\"a0e6b1e9-74ce-42dd-8f86-9af57eb1ffef\")>,\n",
       " <selenium.webdriver.remote.webelement.WebElement (session=\"7ef71d2677d66d317d0f2d663bba6892\", element=\"93b39da8-3517-40fe-9b65-35ebcad24377\")>,\n",
       " <selenium.webdriver.remote.webelement.WebElement (session=\"7ef71d2677d66d317d0f2d663bba6892\", element=\"1cb191a5-721f-4d9f-8ffc-c574b7f74d9c\")>,\n",
       " <selenium.webdriver.remote.webelement.WebElement (session=\"7ef71d2677d66d317d0f2d663bba6892\", element=\"306b5e98-0063-47ca-b6ee-7544014afb12\")>,\n",
       " <selenium.webdriver.remote.webelement.WebElement (session=\"7ef71d2677d66d317d0f2d663bba6892\", element=\"2a1f3b44-d078-4b4f-9994-2cec5a3212ba\")>,\n",
       " <selenium.webdriver.remote.webelement.WebElement (session=\"7ef71d2677d66d317d0f2d663bba6892\", element=\"2714f67c-2a16-4a5a-8b8e-26d43ad27906\")>,\n",
       " <selenium.webdriver.remote.webelement.WebElement (session=\"7ef71d2677d66d317d0f2d663bba6892\", element=\"be1baeb6-3c77-4ade-ac8c-cae2405edd92\")>,\n",
       " <selenium.webdriver.remote.webelement.WebElement (session=\"7ef71d2677d66d317d0f2d663bba6892\", element=\"21b875b5-1520-4137-9607-621b066fb136\")>,\n",
       " <selenium.webdriver.remote.webelement.WebElement (session=\"7ef71d2677d66d317d0f2d663bba6892\", element=\"a0110b90-74ed-43e7-816b-823a3c34ca37\")>,\n",
       " <selenium.webdriver.remote.webelement.WebElement (session=\"7ef71d2677d66d317d0f2d663bba6892\", element=\"95efcb30-2d7d-4001-b7ac-f9f231094998\")>]"
      ]
     },
     "execution_count": 38,
     "metadata": {},
     "output_type": "execute_result"
    }
   ],
   "source": [
    "duration_hours=driver.find_elements_by_xpath('//span[@class=\"BpkText_bpk-text__YWQwM BpkText_bpk-text--xs__MWQxY Duration_duration__NmUyM\"]')\n",
    "duration_hours"
   ]
  },
  {
   "cell_type": "code",
   "execution_count": 39,
   "id": "ca8af0f6",
   "metadata": {},
   "outputs": [
    {
     "data": {
      "text/plain": [
       "['1h 25',\n",
       " '1h 05',\n",
       " '1h 15',\n",
       " '1h 05',\n",
       " '1h 15',\n",
       " '1h 05',\n",
       " '1h 15',\n",
       " '1h 10',\n",
       " '1h 15',\n",
       " '1h 10',\n",
       " '1h 25',\n",
       " '1h 10',\n",
       " '1h 15',\n",
       " '1h 20',\n",
       " '1h 15',\n",
       " '1h 10',\n",
       " '1h 25',\n",
       " '1h 10']"
      ]
     },
     "execution_count": 39,
     "metadata": {},
     "output_type": "execute_result"
    }
   ],
   "source": [
    "for i in duration_hours:\n",
    "    title=i.text\n",
    "    duration_time.append(title)\n",
    "duration_time"
   ]
  },
  {
   "cell_type": "code",
   "execution_count": 40,
   "id": "4b850205",
   "metadata": {},
   "outputs": [
    {
     "data": {
      "text/plain": [
       "[<selenium.webdriver.remote.webelement.WebElement (session=\"7ef71d2677d66d317d0f2d663bba6892\", element=\"700a087d-f58d-4ee2-8931-5409ef603a6e\")>,\n",
       " <selenium.webdriver.remote.webelement.WebElement (session=\"7ef71d2677d66d317d0f2d663bba6892\", element=\"8cfe73b7-2b24-4e4a-b3be-ef5cd37e34db\")>,\n",
       " <selenium.webdriver.remote.webelement.WebElement (session=\"7ef71d2677d66d317d0f2d663bba6892\", element=\"1ce5fc78-2a1c-439a-9730-940b0e4289d4\")>,\n",
       " <selenium.webdriver.remote.webelement.WebElement (session=\"7ef71d2677d66d317d0f2d663bba6892\", element=\"7bbab58d-b360-4cac-879c-eff285dc500d\")>,\n",
       " <selenium.webdriver.remote.webelement.WebElement (session=\"7ef71d2677d66d317d0f2d663bba6892\", element=\"5fa5f11f-f425-4f9f-853d-ddd469826dc6\")>,\n",
       " <selenium.webdriver.remote.webelement.WebElement (session=\"7ef71d2677d66d317d0f2d663bba6892\", element=\"1bef0c8c-027e-4a69-9e2b-0418fe251eff\")>,\n",
       " <selenium.webdriver.remote.webelement.WebElement (session=\"7ef71d2677d66d317d0f2d663bba6892\", element=\"dbab5ee2-1b62-4e2d-b26e-b7ec2d0443e9\")>,\n",
       " <selenium.webdriver.remote.webelement.WebElement (session=\"7ef71d2677d66d317d0f2d663bba6892\", element=\"31f7425e-b006-41ed-851b-f51d7ccd9ed3\")>,\n",
       " <selenium.webdriver.remote.webelement.WebElement (session=\"7ef71d2677d66d317d0f2d663bba6892\", element=\"9704944b-29bf-4c55-94f1-0694b9cae502\")>,\n",
       " <selenium.webdriver.remote.webelement.WebElement (session=\"7ef71d2677d66d317d0f2d663bba6892\", element=\"136b7b10-0093-4a92-b0f9-bc7ba07949c9\")>,\n",
       " <selenium.webdriver.remote.webelement.WebElement (session=\"7ef71d2677d66d317d0f2d663bba6892\", element=\"af584b0a-c9f0-401d-9cd4-95d1115d6cca\")>]"
      ]
     },
     "execution_count": 40,
     "metadata": {},
     "output_type": "execute_result"
    }
   ],
   "source": [
    "total_stop=driver.find_elements_by_xpath('//span[@class=\"BpkCheckbox_bpk-checkbox__label__ODkwM BpkCheckbox_bpk-checkbox__label--small__MTAyN\"]')\n",
    "total_stop\n"
   ]
  },
  {
   "cell_type": "code",
   "execution_count": 41,
   "id": "dcbb45d6",
   "metadata": {},
   "outputs": [
    {
     "data": {
      "text/plain": [
       "['Direct',\n",
       " '1 stop',\n",
       " '2+ stops',\n",
       " 'Air India',\n",
       " 'AirAsia India',\n",
       " 'Go First',\n",
       " 'IndiGo',\n",
       " 'SpiceJet',\n",
       " 'Vistara',\n",
       " 'Airline combinations',\n",
       " 'Only show flights with lower CO₂ emissions']"
      ]
     },
     "execution_count": 41,
     "metadata": {},
     "output_type": "execute_result"
    }
   ],
   "source": [
    "for i in total_stop:\n",
    "    title=i.text\n",
    "    total_stops.append(title)\n",
    "total_stops"
   ]
  },
  {
   "cell_type": "code",
   "execution_count": 42,
   "id": "5216b138",
   "metadata": {},
   "outputs": [
    {
     "data": {
      "text/plain": [
       "[<selenium.webdriver.remote.webelement.WebElement (session=\"7ef71d2677d66d317d0f2d663bba6892\", element=\"bf23fbf9-b9ea-4c65-a49e-b409b7778037\")>,\n",
       " <selenium.webdriver.remote.webelement.WebElement (session=\"7ef71d2677d66d317d0f2d663bba6892\", element=\"83a94eab-9233-437c-98ba-e4a85b4031d4\")>,\n",
       " <selenium.webdriver.remote.webelement.WebElement (session=\"7ef71d2677d66d317d0f2d663bba6892\", element=\"b335b09a-a2ef-4df7-b523-3bc976b11cdb\")>,\n",
       " <selenium.webdriver.remote.webelement.WebElement (session=\"7ef71d2677d66d317d0f2d663bba6892\", element=\"06283cd3-a9e5-4a47-8900-6d088e838490\")>,\n",
       " <selenium.webdriver.remote.webelement.WebElement (session=\"7ef71d2677d66d317d0f2d663bba6892\", element=\"eb2be5d6-b366-436f-a78a-a8dfbeb809eb\")>,\n",
       " <selenium.webdriver.remote.webelement.WebElement (session=\"7ef71d2677d66d317d0f2d663bba6892\", element=\"c24096c2-b0c0-4d79-8f59-0f8c3440f2c7\")>,\n",
       " <selenium.webdriver.remote.webelement.WebElement (session=\"7ef71d2677d66d317d0f2d663bba6892\", element=\"3ce0cf38-b87d-4cd1-9436-2e93991726da\")>,\n",
       " <selenium.webdriver.remote.webelement.WebElement (session=\"7ef71d2677d66d317d0f2d663bba6892\", element=\"d18b9d02-8b74-4653-9d5c-8852a395098e\")>,\n",
       " <selenium.webdriver.remote.webelement.WebElement (session=\"7ef71d2677d66d317d0f2d663bba6892\", element=\"bab044f9-4c9f-427e-9ee9-f08acff01c24\")>,\n",
       " <selenium.webdriver.remote.webelement.WebElement (session=\"7ef71d2677d66d317d0f2d663bba6892\", element=\"2e8187eb-0ca7-4b90-9729-8daaf7cdc098\")>,\n",
       " <selenium.webdriver.remote.webelement.WebElement (session=\"7ef71d2677d66d317d0f2d663bba6892\", element=\"82a55796-4f3e-44e4-a914-399eac4ef296\")>,\n",
       " <selenium.webdriver.remote.webelement.WebElement (session=\"7ef71d2677d66d317d0f2d663bba6892\", element=\"7669d7f5-22d2-4d83-a909-98d923718cbd\")>]"
      ]
     },
     "execution_count": 42,
     "metadata": {},
     "output_type": "execute_result"
    }
   ],
   "source": [
    "airplane_costs=driver.find_elements_by_xpath('//div[@class=\"Price_mainPriceContainer__MDM3O\"]')\n",
    "airplane_costs"
   ]
  },
  {
   "cell_type": "code",
   "execution_count": 43,
   "id": "bfa3b218",
   "metadata": {},
   "outputs": [
    {
     "data": {
      "text/plain": [
       "['₹ 4,329',\n",
       " '₹ 4,329',\n",
       " '₹ 11,374',\n",
       " '₹ 4,329',\n",
       " '₹ 4,499',\n",
       " '₹ 4,725',\n",
       " '₹ 4,597',\n",
       " '₹ 4,823',\n",
       " '₹ 4,427',\n",
       " '₹ 4,669',\n",
       " '₹ 4,764',\n",
       " '₹ 4,594']"
      ]
     },
     "execution_count": 43,
     "metadata": {},
     "output_type": "execute_result"
    }
   ],
   "source": [
    "for i in airplane_costs:\n",
    "    title=i.text\n",
    "    airplane_price.append(title)\n",
    "airplane_price"
   ]
  },
  {
   "cell_type": "code",
   "execution_count": null,
   "id": "9ae2eb24",
   "metadata": {},
   "outputs": [],
   "source": []
  }
 ],
 "metadata": {
  "kernelspec": {
   "display_name": "Python 3 (ipykernel)",
   "language": "python",
   "name": "python3"
  },
  "language_info": {
   "codemirror_mode": {
    "name": "ipython",
    "version": 3
   },
   "file_extension": ".py",
   "mimetype": "text/x-python",
   "name": "python",
   "nbconvert_exporter": "python",
   "pygments_lexer": "ipython3",
   "version": "3.9.7"
  }
 },
 "nbformat": 4,
 "nbformat_minor": 5
}
